{
 "cells": [
  {
   "cell_type": "code",
   "execution_count": 119,
   "metadata": {
    "collapsed": false
   },
   "outputs": [],
   "source": [
    "# commData\n",
    "# #print target\n",
    "# xMat = mat(commData)\n",
    "# print xMat\n",
    "# print xMat.shape\n",
    "# xMat = xMat.astype(float)\n",
    "\n",
    "# yMat = mat(target).T\n",
    "# print yMat\n",
    "# print yMat.shape\n",
    "# yMat = yMat.astype(float)\n",
    "# yMat\n",
    "\n",
    "#d2, l2 = regression.loadDataSet(\"communities.csv\")\n",
    "\n",
    "# xMat.T\n",
    "# xTx = xMat.T * xMat\n",
    "# xTx\n",
    "# linalg.det(xTx)\n",
    "# #reload(regression)\n",
    "# #d,l = regression.loadDataSet2('ex0.txt')\n",
    "# #ws = regression.standRegres(d,l)\n",
    "# #d[0:2]\n",
    "# #ws"
   ]
  },
  {
   "cell_type": "code",
   "execution_count": 120,
   "metadata": {
    "collapsed": false
   },
   "outputs": [],
   "source": [
    "import numpy as np\n",
    "from numpy import genfromtxt\n",
    "from numpy import array\n",
    "from numpy import mat\n",
    "from numpy import linalg\n",
    "from numpy import set_printoptions\n",
    "import regression"
   ]
  },
  {
   "cell_type": "code",
   "execution_count": 121,
   "metadata": {
    "collapsed": false
   },
   "outputs": [
    {
     "name": "stdout",
     "output_type": "stream",
     "text": [
      "[['population' 'householdsize' 'racepctblack' ..., 'PopDens'\n",
      "  'PctUsePubTrans' 'ViolentCrimesPerPop']\n",
      " ['0.19' '0.33' '0.02' ..., '0.26' '0.2' '0.2']\n",
      " ['0' '0.16' '0.12' ..., '0.12' '0.45' '0.67']\n",
      " ..., \n",
      " ['0.16' '0.37' '0.25' ..., '0.32' '0.18' '0.23']\n",
      " ['0.08' '0.51' '0.06' ..., '0.38' '0.33' '0.19']\n",
      " ['0.2' '0.78' '0.14' ..., '0.3' '0.05' '0.48']]\n"
     ]
    }
   ],
   "source": [
    "commDataWithLabels = np.genfromtxt(\"communities.csv\",delimiter=\",\",usecols=(range(2,100)),dtype=None)\n",
    "print commDataWithLabels"
   ]
  },
  {
   "cell_type": "code",
   "execution_count": 122,
   "metadata": {
    "collapsed": false
   },
   "outputs": [
    {
     "name": "stdout",
     "output_type": "stream",
     "text": [
      "98\n",
      "['population' 'householdsize' 'racepctblack' 'racePctWhite' 'racePctAsian'\n",
      " 'racePctHisp' 'agePct12t21' 'agePct12t29' 'agePct16t24' 'agePct65up'\n",
      " 'numbUrban' 'pctUrban' 'medIncome' 'pctWWage' 'pctWFarmSelf' 'pctWInvInc'\n",
      " 'pctWSocSec' 'pctWPubAsst' 'pctWRetire' 'medFamInc' 'perCapInc'\n",
      " 'whitePerCap' 'blackPerCap' 'indianPerCap' 'AsianPerCap' 'OtherPerCap'\n",
      " 'HispPerCap' 'NumUnderPov' 'PctPopUnderPov' 'PctLess9thGrade'\n",
      " 'PctNotHSGrad' 'PctBSorMore' 'PctUnemployed' 'PctEmploy' 'PctEmplManu'\n",
      " 'PctEmplProfServ' 'MalePctDivorce' 'MalePctNevMarr' 'FemalePctDiv'\n",
      " 'TotalPctDiv' 'PersPerFam' 'PctFam2Par' 'PctKids2Par' 'PctYoungKids2Par'\n",
      " 'PctTeen2Par' 'PctWorkMomYoungKids' 'PctWorkMom' 'NumIlleg' 'PctIlleg'\n",
      " 'NumImmig' 'PctImmigRecent' 'PctImmigRec5' 'PctImmigRec8' 'PctImmigRec10'\n",
      " 'PctRecentImmig' 'PctRecImmig5' 'PctRecImmig8' 'PctRecImmig10'\n",
      " 'PctSpeakEnglOnly' 'PctNotSpeakEnglWell' 'PctLargHouseFam'\n",
      " 'PctLargHouseOccup' 'PersPerOccupHous' 'PersPerOwnOccHous'\n",
      " 'PersPerRentOccHous' 'PctPersOwnOccup' 'PctPersDenseHous' 'PctHousLess3BR'\n",
      " 'MedNumBR' 'HousVacant' 'PctHousOccup' 'PctHousOwnOcc' 'PctVacantBoarded'\n",
      " 'PctVacMore6Mos' 'MedYrHousBuilt' 'PctHousNoPhone' 'PctWOFullPlumb'\n",
      " 'OwnOccLowQuart' 'OwnOccMedVal' 'OwnOccHiQuart' 'RentLowQ' 'RentMedian'\n",
      " 'RentHighQ' 'MedRent' 'MedRentPctHousInc' 'MedOwnCostPctInc'\n",
      " 'MedOwnCostPctIncNoMtg' 'NumInShelters' 'NumStreet' 'PctForeignBorn'\n",
      " 'PctBornSameState' 'PctSameHouse85' 'PctSameCity85' 'PctSameState85'\n",
      " 'LandArea' 'PopDens' 'PctUsePubTrans' 'ViolentCrimesPerPop']\n"
     ]
    }
   ],
   "source": [
    "labels=array(commDataWithLabels[0,:])\n",
    "print len(labels)\n",
    "print labels"
   ]
  },
  {
   "cell_type": "code",
   "execution_count": 123,
   "metadata": {
    "collapsed": false
   },
   "outputs": [
    {
     "name": "stdout",
     "output_type": "stream",
     "text": [
      "<type 'numpy.ndarray'>\n",
      "(1995L, 98L)\n"
     ]
    }
   ],
   "source": [
    "print type(commDataWithLabels)\n",
    "print commDataWithLabels.shape"
   ]
  },
  {
   "cell_type": "code",
   "execution_count": 124,
   "metadata": {
    "collapsed": false
   },
   "outputs": [],
   "source": [
    "commData = array(commDataWithLabels[1:], dtype=float)\n",
    "target = array(commData[:,-1], dtype=float)"
   ]
  },
  {
   "cell_type": "code",
   "execution_count": 125,
   "metadata": {
    "collapsed": false
   },
   "outputs": [
    {
     "data": {
      "text/plain": [
       "array([[ 0.19,  0.33,  0.02, ...,  0.26,  0.2 ,  0.2 ],\n",
       "       [ 0.  ,  0.16,  0.12, ...,  0.12,  0.45,  0.67],\n",
       "       [ 0.  ,  0.42,  0.49, ...,  0.21,  0.02,  0.43],\n",
       "       ..., \n",
       "       [ 0.16,  0.37,  0.25, ...,  0.32,  0.18,  0.23],\n",
       "       [ 0.08,  0.51,  0.06, ...,  0.38,  0.33,  0.19],\n",
       "       [ 0.2 ,  0.78,  0.14, ...,  0.3 ,  0.05,  0.48]])"
      ]
     },
     "execution_count": 125,
     "metadata": {},
     "output_type": "execute_result"
    }
   ],
   "source": [
    "commData"
   ]
  },
  {
   "cell_type": "code",
   "execution_count": 126,
   "metadata": {
    "collapsed": false
   },
   "outputs": [
    {
     "data": {
      "text/plain": [
       "array([ 0.2 ,  0.67,  0.43, ...,  0.23,  0.19,  0.48])"
      ]
     },
     "execution_count": 126,
     "metadata": {},
     "output_type": "execute_result"
    }
   ],
   "source": [
    "target"
   ]
  },
  {
   "cell_type": "code",
   "execution_count": 127,
   "metadata": {
    "collapsed": false
   },
   "outputs": [],
   "source": [
    "rows = []\n",
    "rows[:0] = labels[0:3]\n",
    "#print rows\n",
    "for i in range(0,97):\n",
    "    item = array(commData[:,i], dtype=float)\n",
    "    #print labels[i] item  #array of values for ith variable\n",
    "    item_mean = item.mean()\n",
    "    item_std = item.std()\n",
    "    item_min = item.min()\n",
    "    item_max = item.max()\n",
    "#     print labels[i]\n",
    "#     print \"Mean: \", item_mean\n",
    "#     print \"Std:  \", item_std\n",
    "#     print \"Min:  \", item_min\n",
    "#     print \"Max:  \", item_max\n",
    "#     print"
   ]
  },
  {
   "cell_type": "code",
   "execution_count": 128,
   "metadata": {
    "collapsed": false
   },
   "outputs": [
    {
     "data": {
      "text/plain": [
       "<module 'regression' from 'regression.pyc'>"
      ]
     },
     "execution_count": 128,
     "metadata": {},
     "output_type": "execute_result"
    }
   ],
   "source": [
    "reload(regression)"
   ]
  },
  {
   "cell_type": "code",
   "execution_count": 129,
   "metadata": {
    "collapsed": false
   },
   "outputs": [],
   "source": [
    "ws = regression.standRegres(commData, target)"
   ]
  },
  {
   "cell_type": "code",
   "execution_count": 130,
   "metadata": {
    "collapsed": false
   },
   "outputs": [
    {
     "data": {
      "text/plain": [
       "matrix([[  5.92939621e-13],\n",
       "        [  2.10101961e-13],\n",
       "        [  3.57136404e-14],\n",
       "        [  9.39124095e-14],\n",
       "        [  1.66444728e-14],\n",
       "        [  9.65425744e-14],\n",
       "        [ -5.03830900e-13],\n",
       "        [ -4.29267961e-13],\n",
       "        [  6.23531804e-13],\n",
       "        [  4.77319666e-14],\n",
       "        [ -7.26737577e-13],\n",
       "        [  1.70968708e-14],\n",
       "        [ -3.51081399e-14],\n",
       "        [  8.19069775e-14],\n",
       "        [  1.38743645e-14],\n",
       "        [ -1.34705701e-14],\n",
       "        [ -6.77604758e-14],\n",
       "        [  2.85237588e-14],\n",
       "        [  8.28384189e-14],\n",
       "        [  9.02591307e-15],\n",
       "        [ -2.51779474e-13],\n",
       "        [  3.17576448e-13],\n",
       "        [  3.40781102e-15],\n",
       "        [  1.40187279e-15],\n",
       "        [ -2.68264854e-15],\n",
       "        [  1.87421322e-17],\n",
       "        [ -1.58994130e-14],\n",
       "        [  4.10972098e-15],\n",
       "        [  8.45171547e-14],\n",
       "        [ -9.14244700e-14],\n",
       "        [  1.01081285e-13],\n",
       "        [ -3.15096754e-14],\n",
       "        [  1.03610677e-14],\n",
       "        [  6.96048148e-14],\n",
       "        [  2.16070201e-14],\n",
       "        [ -3.34603338e-14],\n",
       "        [ -2.72256487e-12],\n",
       "        [  6.06123457e-14],\n",
       "        [ -4.38523456e-12],\n",
       "        [  6.50999195e-12],\n",
       "        [  6.10227297e-13],\n",
       "        [ -5.79208111e-13],\n",
       "        [  4.49727285e-13],\n",
       "        [ -2.03152799e-14],\n",
       "        [ -3.63332748e-14],\n",
       "        [  2.57105699e-14],\n",
       "        [ -4.42622589e-14],\n",
       "        [  8.01407374e-14],\n",
       "        [ -8.00075610e-14],\n",
       "        [  3.12512100e-14],\n",
       "        [ -4.26924231e-14],\n",
       "        [ -1.91012967e-14],\n",
       "        [  1.43679969e-13],\n",
       "        [ -1.03398842e-13],\n",
       "        [  1.82952720e-13],\n",
       "        [  2.68543868e-13],\n",
       "        [ -7.40507303e-13],\n",
       "        [  4.63672555e-13],\n",
       "        [  7.89090766e-14],\n",
       "        [ -5.48337148e-14],\n",
       "        [ -4.34642879e-13],\n",
       "        [  2.86114837e-13],\n",
       "        [  5.50330917e-13],\n",
       "        [ -1.45772152e-12],\n",
       "        [  4.91832112e-13],\n",
       "        [  3.09615569e-12],\n",
       "        [ -1.90729843e-14],\n",
       "        [  1.37290767e-14],\n",
       "        [ -2.66152416e-14],\n",
       "        [  1.16610387e-14],\n",
       "        [ -2.13684865e-14],\n",
       "        [ -4.00934314e-12],\n",
       "        [  2.33159530e-14],\n",
       "        [ -1.97618917e-15],\n",
       "        [  2.62445302e-14],\n",
       "        [  4.66716186e-14],\n",
       "        [ -9.50289784e-15],\n",
       "        [ -3.53907560e-13],\n",
       "        [  3.58604831e-13],\n",
       "        [ -4.50230024e-14],\n",
       "        [ -3.97518091e-14],\n",
       "        [ -1.93450776e-13],\n",
       "        [  4.55623377e-14],\n",
       "        [  2.24685941e-13],\n",
       "        [ -2.56454030e-14],\n",
       "        [  9.60462077e-15],\n",
       "        [ -4.92526370e-14],\n",
       "        [  1.26031225e-14],\n",
       "        [  4.07048920e-14],\n",
       "        [ -8.01888175e-14],\n",
       "        [ -8.26111622e-14],\n",
       "        [  4.30032970e-15],\n",
       "        [ -4.55332162e-14],\n",
       "        [  4.47533009e-14],\n",
       "        [  4.31667486e-14],\n",
       "        [  5.13179742e-14],\n",
       "        [ -2.58302230e-14],\n",
       "        [  1.00000000e+00]])"
      ]
     },
     "execution_count": 130,
     "metadata": {},
     "output_type": "execute_result"
    }
   ],
   "source": [
    "ws"
   ]
  },
  {
   "cell_type": "code",
   "execution_count": 131,
   "metadata": {
    "collapsed": false
   },
   "outputs": [],
   "source": [
    "xMat=mat(commData)\n",
    "yMat=mat(target)\n",
    "yHat=xMat*ws\n",
    "\n",
    "import matplotlib.pyplot as plt\n",
    "fig = plt.figure()\n",
    "ax=fig.add_subplot(111)\n",
    "ax.scatter(xMat[:,1].flatten().A[0], yMat.T[:,0].flatten().A[0])\n",
    "\n",
    "xCopy = commData.copy()\n",
    "xCopy.sort(0)\n",
    "yHat=xCopy*ws\n",
    "ax.plot(xCopy[:,1], yHat)\n",
    "plt.show()"
   ]
  },
  {
   "cell_type": "code",
   "execution_count": 132,
   "metadata": {
    "collapsed": false
   },
   "outputs": [],
   "source": [
    "from sklearn.linear_model import LinearRegression, Lasso, Ridge, ElasticNet, SGDRegressor\n",
    "from sklearn import svm"
   ]
  },
  {
   "cell_type": "code",
   "execution_count": 133,
   "metadata": {
    "collapsed": false
   },
   "outputs": [
    {
     "data": {
      "text/plain": [
       "LinearRegression(copy_X=True, fit_intercept=True, normalize=False)"
      ]
     },
     "execution_count": 133,
     "metadata": {},
     "output_type": "execute_result"
    }
   ],
   "source": [
    "linreg=LinearRegression()\n",
    "linreg.fit(commData, target)"
   ]
  },
  {
   "cell_type": "code",
   "execution_count": 134,
   "metadata": {
    "collapsed": false
   },
   "outputs": [
    {
     "name": "stdout",
     "output_type": "stream",
     "text": [
      "[ 0.2   0.67  0.43  0.12  0.03  0.14  0.03  0.55  0.53  0.15]\n"
     ]
    }
   ],
   "source": [
    "print linreg.predict(commData[:10])"
   ]
  },
  {
   "cell_type": "code",
   "execution_count": 135,
   "metadata": {
    "collapsed": false
   },
   "outputs": [
    {
     "name": "stdout",
     "output_type": "stream",
     "text": [
      "1.3397170363e-15\n"
     ]
    }
   ],
   "source": [
    "#RMSE\n",
    "\n",
    "p=linreg.predict(commData)\n",
    "err=p-target\n",
    "total_error=np.dot(err,err)\n",
    "rmse_train=np.sqrt(total_error/len(p))\n",
    "print rmse_train"
   ]
  },
  {
   "cell_type": "code",
   "execution_count": 136,
   "metadata": {
    "collapsed": false
   },
   "outputs": [
    {
     "data": {
      "text/plain": [
       "array([ -9.90571150e-16,  -5.93731980e-16,  -5.80829127e-16,\n",
       "         8.58734549e-16,  -4.87181164e-16,  -7.70580600e-16,\n",
       "        -1.18036328e-15,  -8.03258285e-17,   9.10050504e-16,\n",
       "        -9.03074341e-16,  -3.02184086e-15,  -6.07801409e-16,\n",
       "         4.86148631e-16,  -7.41221591e-16,  -4.02659505e-16,\n",
       "        -8.74168918e-16,  -7.48437465e-16,  -1.55227893e-16,\n",
       "        -4.64486610e-16,   6.02445619e-16,  -1.12757365e-15,\n",
       "         6.17144817e-16,   2.66027850e-16,  -4.64844588e-16,\n",
       "        -2.11367093e-16,   3.16953614e-16,  -8.18763223e-18,\n",
       "         3.03592702e-16,  -5.35041067e-16,  -5.67961002e-17,\n",
       "        -3.98649611e-16,   1.28398336e-16,   9.26554518e-17,\n",
       "         2.60881066e-16,  -6.09068040e-17,  -3.51021888e-16,\n",
       "        -8.80914265e-17,   2.08614051e-16,  -4.88975180e-16,\n",
       "         4.50919684e-16,  -7.27875740e-16,   2.39391840e-16,\n",
       "        -7.04350247e-16,   1.69067776e-17,  -8.27974706e-20,\n",
       "        -5.58559148e-16,  -2.46291770e-17,   1.11127546e-15,\n",
       "         6.95745240e-16,   3.68239103e-17,   1.72658587e-16,\n",
       "        -5.05157744e-17,  -2.94742690e-16,   3.43853025e-17,\n",
       "         7.97456109e-17,  -5.19707229e-16,   1.06652968e-15,\n",
       "         2.61335075e-17,   3.63313819e-16,  -3.70402426e-16,\n",
       "         8.35606896e-16,  -1.03085943e-15,   9.02862583e-16,\n",
       "         2.52005007e-16,  -5.38099279e-16,  -6.66489569e-16,\n",
       "        -6.46866356e-17,   3.41352107e-16,   1.33604201e-16,\n",
       "         5.17395253e-16,  -6.45932079e-16,   9.51902826e-16,\n",
       "         1.51552723e-16,  -5.66411991e-17,   4.15852520e-16,\n",
       "        -4.49823623e-16,   5.26718597e-16,   1.59982501e-16,\n",
       "        -1.39798722e-15,   3.01984186e-16,  -2.40101653e-16,\n",
       "        -1.33094287e-17,  -9.39986343e-17,  -2.57565037e-16,\n",
       "         5.82483276e-16,   9.28581044e-17,  -3.37817915e-16,\n",
       "         3.17653661e-16,   5.32818452e-16,  -3.32299496e-16,\n",
       "         1.24044587e-16,  -1.60190024e-16,  -1.67918141e-16,\n",
       "         3.26636286e-17,   9.07477642e-16,  -1.98483153e-16,\n",
       "        -1.06616778e-15,   1.00000000e+00])"
      ]
     },
     "execution_count": 136,
     "metadata": {},
     "output_type": "execute_result"
    }
   ],
   "source": [
    "linreg.coef_"
   ]
  },
  {
   "cell_type": "code",
   "execution_count": 137,
   "metadata": {
    "collapsed": false
   },
   "outputs": [],
   "source": [
    "import pylab as pl\n",
    "\n",
    "pl.plot(p,target,'ro')\n",
    "pl.plot([-1,1],[-1,1], 'g-')\n",
    "pl.xlabel('Predicted')\n",
    "pl.ylabel('Real')\n",
    "pl.show()\n"
   ]
  },
  {
   "cell_type": "code",
   "execution_count": 138,
   "metadata": {
    "collapsed": false
   },
   "outputs": [],
   "source": [
    "#KFold\n",
    "\n",
    "from sklearn.cross_validation import KFold\n",
    "\n",
    "kf=KFold(len(commData), n_folds=10)\n",
    "xval_err=0\n",
    "for train, test in kf:\n",
    "    linreg.fit(commData[train],target[train])\n",
    "    p=linreg.predict(commData[test])\n",
    "    e=p-target[test]\n",
    "    xval_err+=np.dot(e,e)\n",
    "rmse_10cv=np.sqrt(xval_err/len(commData))"
   ]
  },
  {
   "cell_type": "code",
   "execution_count": 139,
   "metadata": {
    "collapsed": false
   },
   "outputs": [
    {
     "name": "stdout",
     "output_type": "stream",
     "text": [
      "Linear Regression\n",
      "('RMSE on training: ', 1.3397170363013816e-15)\n",
      "('RMSE on 10-fold CV: ', 1.2983805962017009e-15)\n"
     ]
    }
   ],
   "source": [
    "print \"Linear Regression\"\n",
    "print('RMSE on training: ', rmse_train)\n",
    "print('RMSE on 10-fold CV: ', rmse_10cv)"
   ]
  },
  {
   "cell_type": "code",
   "execution_count": 140,
   "metadata": {
    "collapsed": false
   },
   "outputs": [
    {
     "data": {
      "text/plain": [
       "Ridge(alpha=0.1, copy_X=True, fit_intercept=True, max_iter=None,\n",
       "   normalize=False, solver='auto', tol=0.001)"
      ]
     },
     "execution_count": 140,
     "metadata": {},
     "output_type": "execute_result"
    }
   ],
   "source": [
    "ridge = Ridge(fit_intercept=True, alpha=0.1)\n",
    "ridge.fit(commData,target)"
   ]
  },
  {
   "cell_type": "code",
   "execution_count": 141,
   "metadata": {
    "collapsed": false
   },
   "outputs": [
    {
     "name": "stdout",
     "output_type": "stream",
     "text": [
      "Ridge Regression\n",
      "('RMSE on training: ', 0.00038536644459225531)\n",
      "('RMSE on 10-fold CV: ', 0.00045471712849677327)\n"
     ]
    }
   ],
   "source": [
    "p=ridge.predict(commData)\n",
    "err=p-target\n",
    "total_error=np.dot(err,err)\n",
    "rmse_train=np.sqrt(total_error/len(p))\n",
    "\n",
    "kf=KFold(len(commData), n_folds=10)\n",
    "xval_err=0\n",
    "for train, test in kf:\n",
    "    ridge.fit(commData[train],target[train])\n",
    "    p=ridge.predict(commData[test])\n",
    "    e=p-target[test]\n",
    "    xval_err+=np.dot(e,e)\n",
    "rmse_10cv=np.sqrt(xval_err/len(commData))\n",
    "\n",
    "print \"Ridge Regression\"\n",
    "print('RMSE on training: ', rmse_train)\n",
    "print('RMSE on 10-fold CV: ', rmse_10cv)\n"
   ]
  },
  {
   "cell_type": "code",
   "execution_count": 142,
   "metadata": {
    "collapsed": false
   },
   "outputs": [
    {
     "name": "stdout",
     "output_type": "stream",
     "text": [
      "('Method: ', 'linear regression')\n",
      "('RMSE on training: ', 1.3397170363013816e-15)\n",
      "('RMSE on 10-fold CV: ', 1.2983805962017009e-15)\n",
      "\n",
      "('Method: ', 'elastic-net')\n",
      "('RMSE on training: ', 0.23292647291156512)\n",
      "('RMSE on 10-fold CV: ', 0.2329890689565956)\n",
      "\n",
      "('Method: ', 'lasso')\n",
      "('RMSE on training: ', 0.23292647291156512)\n",
      "('RMSE on 10-fold CV: ', 0.2329890689565956)\n",
      "\n",
      "('Method: ', 'ridge')\n",
      "('RMSE on training: ', 0.00076532636729202761)\n",
      "('RMSE on 10-fold CV: ', 0.00090022468848991041)\n",
      "\n"
     ]
    }
   ],
   "source": [
    "a=0.2\n",
    "x=commData\n",
    "y=target\n",
    "\n",
    "for name,met in[\n",
    "        ('linear regression', LinearRegression()),\n",
    "        ('elastic-net', ElasticNet(fit_intercept=True, alpha=a)),\n",
    "        ('lasso', Lasso(fit_intercept=True, alpha=a)),\n",
    "        ('ridge', Ridge(fit_intercept=True, alpha=a)),\n",
    "        ]:\n",
    "    met.fit(commData,target)\n",
    "    p=met.predict(commData)\n",
    "    e=p-target\n",
    "    total_error=np.dot(e,e)\n",
    "    rmse_train=np.sqrt(total_error/len(p))\n",
    "    \n",
    "    kf=KFold(len(commData), n_folds=10)\n",
    "    err=0\n",
    "    for train, test in kf:\n",
    "        met.fit(commData[train],target[train])\n",
    "        p=met.predict(commData[test])\n",
    "        e=p-target[test]\n",
    "        err+=np.dot(e,e)\n",
    "    rmse_10cv = np.sqrt(err/len(commData))\n",
    "    print('Method: ', name)\n",
    "    print('RMSE on training: ', rmse_train)\n",
    "    print('RMSE on 10-fold CV: ', rmse_10cv)\n",
    "    print"
   ]
  },
  {
   "cell_type": "code",
   "execution_count": 143,
   "metadata": {
    "collapsed": false
   },
   "outputs": [
    {
     "name": "stdout",
     "output_type": "stream",
     "text": [
      "Stochastic Gradient Descent Regression\n",
      "RMSE on training:  0.0411046695527\n",
      "RMSE on 10-fold CV:  0.0422154595382\n"
     ]
    }
   ],
   "source": [
    "# Stochastic Gradient Descent with Penalty = l2, alpha=0.15\n",
    "\n",
    "from sklearn.preprocessing import StandardScaler\n",
    "\n",
    "scaler=StandardScaler()\n",
    "scaler.fit(commData)\n",
    "x_s=scaler.transform(commData)\n",
    "\n",
    "sgdreg=SGDRegressor(penalty='l2', alpha=0.15, n_iter=200)\n",
    "\n",
    "\n",
    "#RMSE\n",
    "\n",
    "sgdreg.fit(x_s,target)\n",
    "p=sgdreg.predict(x_s)\n",
    "err=p-target\n",
    "total_error=np.dot(err,err)\n",
    "rmse_train=np.sqrt(total_error/len(p))\n",
    "\n",
    "#RMSE using 10-fold x-validation\n",
    "\n",
    "kf=KFold(len(commData), n_folds=10)\n",
    "xval_err = 0\n",
    "for train, test in kf:\n",
    "    scaler=StandardScaler()\n",
    "    scaler.fit(commData[train])\n",
    "    xtrain_s = scaler.transform(commData[train])\n",
    "    xtest_s = scaler.transform(commData[test])\n",
    "    sgdreg.fit(xtrain_s, y[train])\n",
    "    p=sgdreg.predict(xtest_s)\n",
    "    e=p-target[test]\n",
    "    xval_err += np.dot(e,e)\n",
    "rmse_10cv=np.sqrt(xval_err/len(commData))\n",
    "\n",
    "print \"Stochastic Gradient Descent Regression\"\n",
    "print 'RMSE on training: ', rmse_train\n",
    "print 'RMSE on 10-fold CV: ', rmse_10cv"
   ]
  },
  {
   "cell_type": "code",
   "execution_count": 144,
   "metadata": {
    "collapsed": false
   },
   "outputs": [
    {
     "name": "stdout",
     "output_type": "stream",
     "text": [
      "Stochastic Gradient Descent Regression with Penalty = l1\n",
      "RMSE on training:  0.152843022986\n",
      "RMSE on 10-fold CV:  0.152814033016\n"
     ]
    }
   ],
   "source": [
    "# Stochastic Gradient Descent with Penalty = l1, alpha=0.15\n",
    "\n",
    "from sklearn.preprocessing import StandardScaler\n",
    "\n",
    "scaler=StandardScaler()\n",
    "scaler.fit(commData)\n",
    "x_s=scaler.transform(commData)\n",
    "\n",
    "sgdreg=SGDRegressor(penalty='l1', alpha=0.15, n_iter=200)\n",
    "\n",
    "\n",
    "#RMSE\n",
    "\n",
    "sgdreg.fit(x_s,target)\n",
    "p=sgdreg.predict(x_s)\n",
    "err=p-target\n",
    "total_error=np.dot(err,err)\n",
    "rmse_train=np.sqrt(total_error/len(p))\n",
    "\n",
    "#RMSE using 10-fold x-validation\n",
    "\n",
    "kf=KFold(len(commData), n_folds=10)\n",
    "xval_err = 0\n",
    "for train, test in kf:\n",
    "    scaler=StandardScaler()\n",
    "    scaler.fit(commData[train])\n",
    "    xtrain_s = scaler.transform(commData[train])\n",
    "    xtest_s = scaler.transform(commData[test])\n",
    "    sgdreg.fit(xtrain_s, y[train])\n",
    "    p=sgdreg.predict(xtest_s)\n",
    "    e=p-target[test]\n",
    "    xval_err += np.dot(e,e)\n",
    "rmse_10cv=np.sqrt(xval_err/len(commData))\n",
    "\n",
    "print \"Stochastic Gradient Descent Regression with Penalty = l1\"\n",
    "print 'RMSE on training: ', rmse_train\n",
    "print 'RMSE on 10-fold CV: ', rmse_10cv"
   ]
  },
  {
   "cell_type": "code",
   "execution_count": 145,
   "metadata": {
    "collapsed": false
   },
   "outputs": [
    {
     "name": "stdout",
     "output_type": "stream",
     "text": [
      "Stochastic Gradient Descent Regression with Penalty = elastic-net\n",
      "RMSE on training:  0.0485582098109\n",
      "RMSE on 10-fold CV:  0.0484295214419\n"
     ]
    }
   ],
   "source": [
    "# Stochastic Gradient Descent with Penalty = elasticnet, alpha=0.15\n",
    "\n",
    "from sklearn.preprocessing import StandardScaler\n",
    "\n",
    "scaler=StandardScaler()\n",
    "scaler.fit(commData)\n",
    "x_s=scaler.transform(commData)\n",
    "\n",
    "sgdreg=SGDRegressor(penalty='elasticnet', alpha=0.15, n_iter=200)\n",
    "\n",
    "\n",
    "#RMSE\n",
    "\n",
    "sgdreg.fit(x_s,target)\n",
    "p=sgdreg.predict(x_s)\n",
    "err=p-target\n",
    "total_error=np.dot(err,err)\n",
    "rmse_train=np.sqrt(total_error/len(p))\n",
    "\n",
    "#RMSE using 10-fold x-validation\n",
    "\n",
    "kf=KFold(len(commData), n_folds=10)\n",
    "xval_err = 0\n",
    "for train, test in kf:\n",
    "    scaler=StandardScaler()\n",
    "    scaler.fit(commData[train])\n",
    "    xtrain_s = scaler.transform(commData[train])\n",
    "    xtest_s = scaler.transform(commData[test])\n",
    "    sgdreg.fit(xtrain_s, y[train])\n",
    "    p=sgdreg.predict(xtest_s)\n",
    "    e=p-target[test]\n",
    "    xval_err += np.dot(e,e)\n",
    "rmse_10cv=np.sqrt(xval_err/len(commData))\n",
    "\n",
    "print \"Stochastic Gradient Descent Regression with Penalty = elastic-net\"\n",
    "print 'RMSE on training: ', rmse_train\n",
    "print 'RMSE on 10-fold CV: ', rmse_10cv"
   ]
  },
  {
   "cell_type": "code",
   "execution_count": 146,
   "metadata": {
    "collapsed": false
   },
   "outputs": [
    {
     "ename": "SyntaxError",
     "evalue": "invalid syntax (<ipython-input-146-3858ba1b939b>, line 36)",
     "output_type": "error",
     "traceback": [
      "\u001b[1;36m  File \u001b[1;32m\"<ipython-input-146-3858ba1b939b>\"\u001b[1;36m, line \u001b[1;32m36\u001b[0m\n\u001b[1;33m    Stochastic Gradient Descent Regression with Penalty = l1print 'RMSE on training: ', rmse_train\u001b[0m\n\u001b[1;37m                      ^\u001b[0m\n\u001b[1;31mSyntaxError\u001b[0m\u001b[1;31m:\u001b[0m invalid syntax\n"
     ]
    }
   ],
   "source": [
    "# Stochastic Gradient Descent with Penalty = l2, alpha=0.25\n",
    "\n",
    "from sklearn.preprocessing import StandardScaler\n",
    "\n",
    "scaler=StandardScaler()\n",
    "scaler.fit(commData)\n",
    "x_s=scaler.transform(commData)\n",
    "\n",
    "sgdreg=SGDRegressor(penalty='l2', alpha=0.25, n_iter=200)\n",
    "\n",
    "\n",
    "#RMSE\n",
    "\n",
    "sgdreg.fit(x_s,target)\n",
    "p=sgdreg.predict(x_s)\n",
    "err=p-target\n",
    "total_error=np.dot(err,err)\n",
    "rmse_train=np.sqrt(total_error/len(p))\n",
    "\n",
    "#RMSE using 10-fold x-validation\n",
    "\n",
    "kf=KFold(len(commData), n_folds=10)\n",
    "xval_err = 0\n",
    "for train, test in kf:\n",
    "    scaler=StandardScaler()\n",
    "    scaler.fit(commData[train])\n",
    "    xtrain_s = scaler.transform(commData[train])\n",
    "    xtest_s = scaler.transform(commData[test])\n",
    "    sgdreg.fit(xtrain_s, y[train])\n",
    "    p=sgdreg.predict(xtest_s)\n",
    "    e=p-target[test]\n",
    "    xval_err += np.dot(e,e)\n",
    "rmse_10cv=np.sqrt(xval_err/len(commData))\n",
    "\n",
    "print \"Stochastic Gradient Descent Regression\"\n",
    "Stochastic Gradient Descent Regression with Penalty = l1print 'RMSE on training: ', rmse_train\n",
    "print 'RMSE on 10-fold CV: ', rmse_10cv"
   ]
  },
  {
   "cell_type": "code",
   "execution_count": null,
   "metadata": {
    "collapsed": false
   },
   "outputs": [],
   "source": [
    "# Stochastic Gradient Descent with Penalty = l1, alpha=0.25\n",
    "\n",
    "from sklearn.preprocessing import StandardScaler\n",
    "\n",
    "scaler=StandardScaler()\n",
    "scaler.fit(commData)\n",
    "x_s=scaler.transform(commData)\n",
    "\n",
    "sgdreg=SGDRegressor(penalty='l1', alpha=0.25, n_iter=200)\n",
    "\n",
    "\n",
    "#RMSE\n",
    "\n",
    "sgdreg.fit(x_s,target)\n",
    "p=sgdreg.predict(x_s)\n",
    "err=p-target\n",
    "total_error=np.dot(err,err)\n",
    "rmse_train=np.sqrt(total_error/len(p))\n",
    "\n",
    "#RMSE using 10-fold x-validation\n",
    "\n",
    "kf=KFold(len(commData), n_folds=10)\n",
    "xval_err = 0\n",
    "for train, test in kf:\n",
    "    scaler=StandardScaler()\n",
    "    scaler.fit(commData[train])\n",
    "    xtrain_s = scaler.transform(commData[train])\n",
    "    xtest_s = scaler.transform(commData[test])\n",
    "    sgdreg.fit(xtrain_s, y[train])\n",
    "    p=sgdreg.predict(xtest_s)\n",
    "    e=p-target[test]\n",
    "    xval_err += np.dot(e,e)\n",
    "rmse_10cv=np.sqrt(xval_err/len(commData))\n",
    "\n",
    "print \"Stochastic Gradient Descent Regression with Penalty = l1\"\n",
    "print 'RMSE on training: ', rmse_train\n",
    "print 'RMSE on 10-fold CV: ', rmse_10cv"
   ]
  },
  {
   "cell_type": "code",
   "execution_count": null,
   "metadata": {
    "collapsed": false
   },
   "outputs": [],
   "source": [
    "# Stochastic Gradient Descent with Penalty = elasticnet, alpha=0.25\n",
    "\n",
    "from sklearn.preprocessing import StandardScaler\n",
    "\n",
    "scaler=StandardScaler()\n",
    "scaler.fit(commData)\n",
    "x_s=scaler.transform(commData)\n",
    "\n",
    "sgdreg=SGDRegressor(penalty='elasticnet', alpha=0.25, n_iter=200)\n",
    "\n",
    "\n",
    "#RMSE\n",
    "\n",
    "sgdreg.fit(x_s,target)\n",
    "p=sgdreg.predict(x_s)\n",
    "err=p-target\n",
    "total_error=np.dot(err,err)\n",
    "rmse_train=np.sqrt(total_error/len(p))\n",
    "\n",
    "#RMSE using 10-fold x-validation\n",
    "\n",
    "kf=KFold(len(commData), n_folds=10)\n",
    "xval_err = 0\n",
    "for train, test in kf:\n",
    "    scaler=StandardScaler()\n",
    "    scaler.fit(commData[train])\n",
    "    xtrain_s = scaler.transform(commData[train])\n",
    "    xtest_s = scaler.transform(commData[test])\n",
    "    sgdreg.fit(xtrain_s, y[train])\n",
    "    p=sgdreg.predict(xtest_s)\n",
    "    e=p-target[test]\n",
    "    xval_err += np.dot(e,e)\n",
    "rmse_10cv=np.sqrt(xval_err/len(commData))\n",
    "\n",
    "print \"Stochastic Gradient Descent Regression with Penalty = elastic-net\"\n",
    "print 'RMSE on training: ', rmse_train\n",
    "print 'RMSE on 10-fold CV: ', rmse_10cv"
   ]
  },
  {
   "cell_type": "code",
   "execution_count": null,
   "metadata": {
    "collapsed": true
   },
   "outputs": [],
   "source": []
  }
 ],
 "metadata": {
  "kernelspec": {
   "display_name": "Python 2",
   "language": "python",
   "name": "python2"
  },
  "language_info": {
   "codemirror_mode": {
    "name": "ipython",
    "version": 2
   },
   "file_extension": ".py",
   "mimetype": "text/x-python",
   "name": "python",
   "nbconvert_exporter": "python",
   "pygments_lexer": "ipython2",
   "version": "2.7.9"
  }
 },
 "nbformat": 4,
 "nbformat_minor": 0
}
