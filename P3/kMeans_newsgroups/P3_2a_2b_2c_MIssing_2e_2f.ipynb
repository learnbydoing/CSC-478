{
 "cells": [
  {
   "cell_type": "code",
   "execution_count": null,
   "metadata": {
    "collapsed": true
   },
   "outputs": [],
   "source": [
    "# Pruning method with print statements\n",
    "\n",
    "# prunedData=[]\n",
    "# pindex = 0\n",
    "\n",
    "# for i in range(data.shape[0]):\n",
    "# for i in range(0,15):\n",
    "#     row = data[i,:]\n",
    "#     #print \"row is: \", row\n",
    "#     #print \"type of row is: \", type(row)\n",
    "#     #print \"row.shape is: \", row.shape\n",
    "#     rowList = row.tolist()\n",
    "#     #print \"len of rowList is: \", len(rowList)\n",
    "#     indices = [k for k, x in enumerate(rowList) if x!= 0]\n",
    "#     #print \"indices are: \", indices\n",
    "#     freq = len(indices)\n",
    "#     print \"freq is: \", freq\n",
    "#     print \"row number is: \", i\n",
    "#     if(freq >= 10):\n",
    "#         pindex = pindex + 1\n",
    "#         print \"pindex is: \", pindex \n",
    "#         prunedData.append(rowList)\n",
    "#     for n in range(freq):\n",
    "#         print row[indices[n]]\n",
    "# pruned=np.vstack(prunedData)\n",
    "# print \"big shape is: \", pruned.shape\n",
    "\n",
    "#  Shuffling matrix with print statements (contains def has no prints)\n",
    "\n",
    "\n",
    "# from random import randint\n",
    "# numRows = e.shape[0]\n",
    "# numCols = e.shape[1]\n",
    "# generatedRows = []\n",
    "# generatedCols = []\n",
    "# generated = []\n",
    "# numElements = numRows * numCols\n",
    "\n",
    "\n",
    "# def contains(rc):\n",
    "#     if len(generated) == 0:\n",
    "#         return False\n",
    "#     for n in range(len(generated)):\n",
    "#         if rc == generated[n]:\n",
    "#             return True\n",
    "#     return False\n",
    "\n",
    "\n",
    "\n",
    "\n",
    "#f = np.mat(np.empty(shape=(numRows, numCols)))\n",
    "#print \"Before shuffle: \"\n",
    "#print \"e is: \"\n",
    "#print e\n",
    "#print f\n",
    "#for i in range(numRows):\n",
    "#    for j in range(numCols):\n",
    "#while(len(generated) != numElements):\n",
    "#    r=randint(0, numRows-1)\n",
    "#    c=randint(0, numCols-1)\n",
    "#    if contains((r,c)) == False:\n",
    "#       generated.append((r,c))\n",
    "        #print \"Not already generated\"\n",
    "        #print \"generated[] is: \", generated\n",
    "        #print \"i is: \", i\n",
    "        #print \"j is: \", j\n",
    "        #f[i,j] = e[r,c] \n",
    "        #print \"f is: \", f\n",
    "#    else:\n",
    "        #print \"Already generated, continue\"\n",
    "#        continue\n",
    "        #generatedRows.append(r)\n",
    "        #generatedCols.append(c)\n",
    "        #print \"generatedRows: \", generatedRows\n",
    "        #print \"generatedCols: \", generatedCols\n",
    "    #print \"length of generated is: \", len(generated)\n",
    "    #print \"generated indices are: \", generated\n",
    "#k=0\n",
    "#for i in range(numRows):\n",
    "#    for j in range(numCols):\n",
    "        #print \"generated(k) is: \", generated[k]\n",
    "        #f[i,j] = e[generated[k]]\n",
    "        #k = k + 1\n",
    "#print \"f is: \"\n",
    "#print f\n",
    "\n",
    "# Pruning matrix without print statements\n",
    "\n",
    "#prunedData=[]\n",
    "# pindex = 0\n",
    "\n",
    "# for i in range(data.shape[0]):\n",
    "#     row = data[i,:]\n",
    "#     rowList = row.tolist()\n",
    "#     indices = [k for k, x in enumerate(rowList) if x!= 0]\n",
    "#     freq = len(indices)\n",
    "#     if(freq >= 10):\n",
    "#         pindex = pindex + 1\n",
    "#         prunedData.append(rowList)\n",
    "# pruned=np.vstack(prunedData)\n",
    "# prunedMat = np.mat(pruned)\n",
    "# print \"pruned shape is: \", pruned.shape\n",
    "# print \"prunedMat shape is: \", prunedMat.shape\n",
    "\n",
    "# d=[[1, 2, 3, 4],\n",
    "#   [5, 6, 7,  8,],\n",
    "#   [9, 10, 11, 12]]\n",
    "# e=np.mat(d)\n",
    "# e\n",
    "# shuffledMat=helper.shuffleMatrix(e)\n",
    "# shuffledMat"
   ]
  },
  {
   "cell_type": "code",
   "execution_count": 1,
   "metadata": {
    "collapsed": false
   },
   "outputs": [
    {
     "data": {
      "text/plain": [
       "<module 'helper' from 'helper.pyc'>"
      ]
     },
     "execution_count": 1,
     "metadata": {},
     "output_type": "execute_result"
    }
   ],
   "source": [
    "import numpy as np\n",
    "from numpy import genfromtxt\n",
    "from numpy import array\n",
    "from numpy import *\n",
    "import kNN\n",
    "reload(kNN)\n",
    "import kMeans\n",
    "reload(kMeans)\n",
    "import helper\n",
    "reload(helper)"
   ]
  },
  {
   "cell_type": "code",
   "execution_count": null,
   "metadata": {
    "collapsed": false
   },
   "outputs": [],
   "source": [
    "data = np.genfromtxt(\"matrix.txt\",delimiter=\",\",dtype=int)\n",
    "#data"
   ]
  },
  {
   "cell_type": "code",
   "execution_count": 3,
   "metadata": {
    "collapsed": false
   },
   "outputs": [
    {
     "data": {
      "text/plain": [
       "(9328, 2500)"
      ]
     },
     "execution_count": 3,
     "metadata": {},
     "output_type": "execute_result"
    }
   ],
   "source": [
    "data.shape"
   ]
  },
  {
   "cell_type": "code",
   "execution_count": null,
   "metadata": {
    "collapsed": false
   },
   "outputs": [],
   "source": [
    "#prunedMat = helper.pruneMat(data)\n",
    "#prunedMatT = prunedMat.T\n",
    "#prunedMatT.shape\n",
    "#weighted = kNN.generateWeightedMatrix(prunedMatT)\n",
    "#print weighted.shape\n",
    "#print weighted\n",
    "#weightedMat = np.mat(weighted)\n",
    "#weightedMat\n",
    "#reload(kMeans)\n",
    "#centroidsPruned, clustersPruned, ptsInClustersPruned = kMeans.kMeans(weightedMat, 5, helper.distCosine)"
   ]
  },
  {
   "cell_type": "code",
   "execution_count": 8,
   "metadata": {
    "collapsed": false
   },
   "outputs": [
    {
     "name": "stdout",
     "output_type": "stream",
     "text": [
      "(2000, 3367)\n",
      "(500, 3367)\n"
     ]
    }
   ],
   "source": [
    "import numpy as np\n",
    "from sklearn.cross_validation import train_test_split\n",
    "tpercent = 0.8\n",
    "tsize=len(prunedMatT) * tpercent\n",
    "tsize\n",
    "pruned_train, pruned_test = train_test_split(prunedMatT, test_size=.20, random_state=42)\n",
    "print pruned_train.shape\n",
    "print pruned_test.shape"
   ]
  },
  {
   "cell_type": "code",
   "execution_count": null,
   "metadata": {
    "collapsed": false
   },
   "outputs": [],
   "source": [
    "reload(kMeans)\n",
    "centroidsPruned, clustersPruned, ptsInClustersPruned = kMeans.kMeans(pruned_train, 5, helper.distCosine)"
   ]
  },
  {
   "cell_type": "code",
   "execution_count": 11,
   "metadata": {
    "collapsed": false
   },
   "outputs": [],
   "source": [
    "outfile=open(\"prunedTrain.csv\", \"w\")\n",
    "savetxt(outfile, pruned_train,delimiter=\",\")\n",
    "outfile.close()"
   ]
  },
  {
   "cell_type": "code",
   "execution_count": 12,
   "metadata": {
    "collapsed": false
   },
   "outputs": [],
   "source": [
    "outfile2=open(\"pointsInClusterPruned.csv\", \"w\")\n",
    "savetxt(outfile2, ptsInClustersPruned,delimiter=\",\")\n",
    "outfile2.close()"
   ]
  },
  {
   "cell_type": "code",
   "execution_count": 16,
   "metadata": {
    "collapsed": false
   },
   "outputs": [],
   "source": [
    "outfile3=open(\"clustersPruned.csv\", \"w\")\n",
    "savetxt(outfile3, clustersPruned,delimiter=\",\")\n",
    "outfile3.close()"
   ]
  },
  {
   "cell_type": "code",
   "execution_count": 14,
   "metadata": {
    "collapsed": false
   },
   "outputs": [
    {
     "data": {
      "text/plain": [
       "array([[  1.00000000e+00,   1.18289262e+04],\n",
       "       [  0.00000000e+00,   2.34961807e+02],\n",
       "       [  0.00000000e+00,   1.14251137e+01],\n",
       "       ..., \n",
       "       [  0.00000000e+00,   1.38760264e+02],\n",
       "       [  1.00000000e+00,   1.99770086e+02],\n",
       "       [  1.00000000e+00,   8.65083535e+01]])"
      ]
     },
     "execution_count": 14,
     "metadata": {},
     "output_type": "execute_result"
    }
   ],
   "source": [
    "clustersPruned"
   ]
  },
  {
   "cell_type": "code",
   "execution_count": null,
   "metadata": {
    "collapsed": false
   },
   "outputs": [],
   "source": []
  },
  {
   "cell_type": "code",
   "execution_count": null,
   "metadata": {
    "collapsed": false
   },
   "outputs": [],
   "source": []
  },
  {
   "cell_type": "code",
   "execution_count": null,
   "metadata": {
    "collapsed": true
   },
   "outputs": [],
   "source": []
  },
  {
   "cell_type": "code",
   "execution_count": null,
   "metadata": {
    "collapsed": false
   },
   "outputs": [],
   "source": []
  },
  {
   "cell_type": "code",
   "execution_count": null,
   "metadata": {
    "collapsed": false
   },
   "outputs": [],
   "source": []
  },
  {
   "cell_type": "code",
   "execution_count": null,
   "metadata": {
    "collapsed": false
   },
   "outputs": [],
   "source": []
  },
  {
   "cell_type": "code",
   "execution_count": null,
   "metadata": {
    "collapsed": false
   },
   "outputs": [],
   "source": []
  },
  {
   "cell_type": "code",
   "execution_count": null,
   "metadata": {
    "collapsed": false
   },
   "outputs": [],
   "source": []
  },
  {
   "cell_type": "code",
   "execution_count": null,
   "metadata": {
    "collapsed": false
   },
   "outputs": [],
   "source": []
  },
  {
   "cell_type": "code",
   "execution_count": null,
   "metadata": {
    "collapsed": true
   },
   "outputs": [],
   "source": []
  },
  {
   "cell_type": "code",
   "execution_count": null,
   "metadata": {
    "collapsed": true
   },
   "outputs": [],
   "source": []
  }
 ],
 "metadata": {
  "kernelspec": {
   "display_name": "Python 2",
   "language": "python",
   "name": "python2"
  },
  "language_info": {
   "codemirror_mode": {
    "name": "ipython",
    "version": 2
   },
   "file_extension": ".py",
   "mimetype": "text/x-python",
   "name": "python",
   "nbconvert_exporter": "python",
   "pygments_lexer": "ipython2",
   "version": "2.7.9"
  }
 },
 "nbformat": 4,
 "nbformat_minor": 0
}
