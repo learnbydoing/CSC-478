{
 "cells": [
  {
   "cell_type": "code",
   "execution_count": 1,
   "metadata": {
    "collapsed": false
   },
   "outputs": [],
   "source": [
    "from numpy import genfromtxt\n",
    "\n",
    "import numpy as np\n",
    "import pylab as pl\n",
    "\n",
    "from sklearn.feature_extraction import DictVectorizer\n",
    "from sklearn import preprocessing\n",
    "from sklearn import neighbors, tree, naive_bayes\n",
    "from sklearn.metrics import confusion_matrix\n",
    "from sklearn.metrics import classification_report"
   ]
  },
  {
   "cell_type": "code",
   "execution_count": 2,
   "metadata": {
    "collapsed": true
   },
   "outputs": [],
   "source": [
    "bankData = np.genfromtxt(\"bank_data.csv\", delimiter=\",\", names=True, dtype=(\"|S10\", int, float, int, \"|S6\", \"|S10\", \"|S3\", \"|S3\", \"|S3\", \"|S3\", \"|S3\", \"|S3\"))"
   ]
  },
  {
   "cell_type": "code",
   "execution_count": 3,
   "metadata": {
    "collapsed": false
   },
   "outputs": [
    {
     "name": "stdout",
     "output_type": "stream",
     "text": [
      "(600L,)\n"
     ]
    }
   ],
   "source": [
    "print bankData.shape"
   ]
  },
  {
   "cell_type": "code",
   "execution_count": 4,
   "metadata": {
    "collapsed": false
   },
   "outputs": [],
   "source": [
    "bd_records = bankData[['age', 'income', 'children', 'gender', 'region', 'married', 'car', 'savings_acct', 'current_acct','mortgage']]\n",
    "#bd_records"
   ]
  },
  {
   "cell_type": "code",
   "execution_count": 5,
   "metadata": {
    "collapsed": false
   },
   "outputs": [],
   "source": [
    "bd_names=bd_records.dtype.names\n",
    "#bd_names"
   ]
  },
  {
   "cell_type": "code",
   "execution_count": 6,
   "metadata": {
    "collapsed": false
   },
   "outputs": [],
   "source": [
    "bd_target=bankData['pep']\n",
    "#bd_target"
   ]
  },
  {
   "cell_type": "code",
   "execution_count": 7,
   "metadata": {
    "collapsed": false
   },
   "outputs": [],
   "source": [
    "bd_dict = [dict(zip(bd_names, record)) for record in bd_records]\n",
    "#bd_dict[:5]"
   ]
  },
  {
   "cell_type": "code",
   "execution_count": 8,
   "metadata": {
    "collapsed": false
   },
   "outputs": [
    {
     "name": "stdout",
     "output_type": "stream",
     "text": [
      "[  4.80000000e+01   1.00000000e+00   0.00000000e+00   1.00000000e+00\n",
      "   1.00000000e+00   0.00000000e+00   1.00000000e+00   0.00000000e+00\n",
      "   1.75460000e+04   1.00000000e+00   0.00000000e+00   1.00000000e+00\n",
      "   0.00000000e+00   1.00000000e+00   0.00000000e+00   0.00000000e+00\n",
      "   0.00000000e+00   1.00000000e+00   0.00000000e+00]\n",
      "600\n"
     ]
    }
   ],
   "source": [
    "bd_vec = DictVectorizer()\n",
    "bd_matrix = bd_vec.fit_transform(bd_dict).toarray()\n",
    "bd_vec.get_feature_names()\n",
    "print bd_matrix[0]\n",
    "print len(bd_matrix) "
   ]
  },
  {
   "cell_type": "code",
   "execution_count": 9,
   "metadata": {
    "collapsed": false
   },
   "outputs": [
    {
     "name": "stdout",
     "output_type": "stream",
     "text": [
      "(480L, 19L)\n",
      "(120L, 19L)\n",
      "[[ 30.   1.   0. ...,   0.   1.   0.]\n",
      " [ 47.   0.   1. ...,   0.   0.   1.]\n",
      " [ 44.   1.   0. ...,   0.   0.   1.]\n",
      " ..., \n",
      " [ 31.   0.   1. ...,   1.   0.   1.]\n",
      " [ 29.   1.   0. ...,   0.   0.   1.]\n",
      " [ 38.   0.   1. ...,   1.   1.   0.]]\n"
     ]
    }
   ],
   "source": [
    "tpercent = 0.8\n",
    "tsize = tpercent * len(bd_matrix)\n",
    "bd_train = bd_matrix[:tsize,:]\n",
    "bd_test = bd_matrix[tsize:,:]\n",
    "print bd_train.shape\n",
    "print bd_test.shape\n",
    "print bd_test"
   ]
  },
  {
   "cell_type": "code",
   "execution_count": 10,
   "metadata": {
    "collapsed": false
   },
   "outputs": [
    {
     "name": "stdout",
     "output_type": "stream",
     "text": [
      "[ 0.6122449   1.          0.          0.33333333  1.          0.          1.\n",
      "  0.          0.21563448  1.          0.          1.          0.          1.\n",
      "  0.          0.          0.          1.          0.        ]\n",
      "[ 0.24489796  1.          0.          0.66666667  0.          1.          0.\n",
      "  1.          0.09796027  0.          1.          0.          1.          0.\n",
      "  1.          0.          0.          1.          0.        ]\n"
     ]
    }
   ],
   "source": [
    "min_max_scalar = preprocessing.MinMaxScaler()\n",
    "bd_train_norm = min_max_scalar.fit_transform(bd_train)\n",
    "bd_test_norm = min_max_scalar.fit_transform(bd_test)\n",
    "\n",
    "print bd_train_norm[0]\n",
    "print bd_test_norm[0]"
   ]
  },
  {
   "cell_type": "code",
   "execution_count": 11,
   "metadata": {
    "collapsed": false
   },
   "outputs": [
    {
     "name": "stdout",
     "output_type": "stream",
     "text": [
      "['NO' 'YES' 'NO' 'NO' 'YES' 'NO' 'NO' 'YES' 'NO' 'YES' 'YES' 'YES' 'YES'\n",
      " 'YES' 'NO' 'YES' 'YES' 'YES' 'NO' 'YES' 'NO' 'YES' 'NO' 'NO' 'YES' 'NO'\n",
      " 'YES' 'YES' 'YES' 'YES' 'NO' 'NO' 'NO' 'NO' 'YES' 'YES' 'YES' 'YES' 'NO'\n",
      " 'NO' 'YES' 'NO' 'NO' 'NO' 'YES' 'YES' 'NO' 'NO' 'NO' 'NO' 'YES' 'YES'\n",
      " 'YES' 'YES' 'NO' 'NO' 'YES' 'YES' 'NO' 'YES' 'YES' 'YES' 'NO' 'YES' 'YES'\n",
      " 'YES' 'YES' 'NO' 'YES' 'YES' 'NO' 'NO' 'NO' 'NO' 'NO' 'NO' 'YES' 'NO' 'NO'\n",
      " 'YES' 'YES' 'YES' 'NO' 'YES' 'YES' 'NO' 'NO' 'NO' 'NO' 'YES' 'NO' 'NO'\n",
      " 'YES' 'NO' 'NO' 'NO' 'YES' 'YES' 'NO' 'NO' 'YES' 'NO' 'NO' 'NO' 'YES' 'NO'\n",
      " 'YES' 'YES' 'NO' 'NO' 'NO' 'YES' 'NO' 'YES' 'NO' 'NO' 'NO' 'YES' 'NO'\n",
      " 'YES']\n",
      "(120L,)\n"
     ]
    }
   ],
   "source": [
    "bd_target_train = bd_target[:tsize]\n",
    "bd_target_test = bd_target[tsize:]\n",
    "print bd_target_test\n",
    "print bd_target_test.shape"
   ]
  },
  {
   "cell_type": "code",
   "execution_count": 12,
   "metadata": {
    "collapsed": false
   },
   "outputs": [
    {
     "name": "stdout",
     "output_type": "stream",
     "text": [
      "['YES' 'YES' 'NO' 'NO' 'NO' 'NO' 'YES' 'NO' 'NO' 'NO' 'NO' 'YES' 'NO' 'YES'\n",
      " 'YES' 'NO' 'NO' 'YES' 'NO' 'NO' 'NO' 'YES' 'NO' 'NO' 'NO' 'NO' 'NO' 'YES'\n",
      " 'YES' 'YES' 'NO' 'YES' 'YES' 'YES' 'YES' 'NO' 'NO' 'YES' 'NO' 'NO' 'NO'\n",
      " 'NO' 'NO' 'NO' 'NO' 'NO' 'NO' 'NO' 'NO' 'YES' 'NO' 'NO' 'YES' 'YES' 'YES'\n",
      " 'NO' 'YES' 'YES' 'NO' 'YES' 'NO' 'YES' 'NO' 'NO' 'YES' 'NO' 'YES' 'YES'\n",
      " 'YES' 'YES' 'NO' 'YES' 'YES' 'YES' 'NO' 'NO' 'YES' 'NO' 'NO' 'YES' 'YES'\n",
      " 'YES' 'NO' 'YES' 'YES' 'NO' 'YES' 'NO' 'NO' 'YES' 'YES' 'YES' 'YES' 'NO'\n",
      " 'NO' 'NO' 'NO' 'YES' 'NO' 'NO' 'NO' 'NO' 'NO' 'YES' 'NO' 'YES' 'NO' 'YES'\n",
      " 'NO' 'YES' 'YES' 'NO' 'NO' 'NO' 'NO' 'NO' 'NO' 'YES' 'YES' 'YES']\n"
     ]
    }
   ],
   "source": [
    "#KNN Classifier\n",
    "\n",
    "n_neighbors = 5\n",
    "knnclf = neighbors.KNeighborsClassifier(n_neighbors, weights='distance')\n",
    "knnclf.fit(bd_train_norm, bd_target_train)\n",
    "knnpreds_test = knnclf.predict(bd_test_norm)\n",
    "print knnpreds_test"
   ]
  },
  {
   "cell_type": "code",
   "execution_count": 13,
   "metadata": {
    "collapsed": false
   },
   "outputs": [
    {
     "name": "stdout",
     "output_type": "stream",
     "text": [
      "             precision    recall  f1-score   support\n",
      "\n",
      "         NO       0.62      0.68      0.65        62\n",
      "        YES       0.62      0.55      0.58        58\n",
      "\n",
      "avg / total       0.62      0.62      0.62       120\n",
      "\n"
     ]
    }
   ],
   "source": [
    "# KNN - Classification Report\n",
    "\n",
    "print(classification_report(bd_target_test, knnpreds_test))"
   ]
  },
  {
   "cell_type": "code",
   "execution_count": 14,
   "metadata": {
    "collapsed": false
   },
   "outputs": [
    {
     "name": "stdout",
     "output_type": "stream",
     "text": [
      "[[42 20]\n",
      " [26 32]]\n"
     ]
    }
   ],
   "source": [
    "#KNN - Confusion Matrix\n",
    "\n",
    "knncm = (confusion_matrix(bd_target_test, knnpreds_test))\n",
    "print knncm"
   ]
  },
  {
   "cell_type": "code",
   "execution_count": 15,
   "metadata": {
    "collapsed": true
   },
   "outputs": [],
   "source": [
    "#KNN - Confusion Matrix Plot\n",
    "\n",
    "pl.matshow(knncm)\n",
    "pl.title('KNN Classifier Confusion Matrix')\n",
    "pl.colorbar()\n",
    "pl.ylabel('Actual')\n",
    "pl.xlabel('Predicted')\n",
    "pl.show()"
   ]
  },
  {
   "cell_type": "code",
   "execution_count": 16,
   "metadata": {
    "collapsed": false
   },
   "outputs": [
    {
     "name": "stdout",
     "output_type": "stream",
     "text": [
      "['NO' 'YES' 'NO' 'YES' 'YES' 'NO' 'NO' 'YES' 'YES' 'YES' 'YES' 'YES' 'YES'\n",
      " 'YES' 'YES' 'NO' 'YES' 'YES' 'NO' 'YES' 'NO' 'YES' 'NO' 'NO' 'YES' 'NO'\n",
      " 'YES' 'YES' 'YES' 'NO' 'NO' 'NO' 'NO' 'NO' 'YES' 'YES' 'NO' 'YES' 'NO'\n",
      " 'NO' 'NO' 'NO' 'NO' 'NO' 'NO' 'YES' 'NO' 'NO' 'NO' 'YES' 'YES' 'YES' 'YES'\n",
      " 'NO' 'YES' 'NO' 'YES' 'YES' 'NO' 'NO' 'YES' 'YES' 'NO' 'YES' 'YES' 'YES'\n",
      " 'YES' 'YES' 'YES' 'YES' 'NO' 'NO' 'NO' 'NO' 'NO' 'YES' 'YES' 'NO' 'NO'\n",
      " 'YES' 'YES' 'YES' 'NO' 'NO' 'YES' 'NO' 'YES' 'NO' 'NO' 'YES' 'NO' 'NO'\n",
      " 'NO' 'NO' 'NO' 'NO' 'YES' 'NO' 'NO' 'NO' 'YES' 'NO' 'NO' 'NO' 'YES' 'NO'\n",
      " 'YES' 'YES' 'NO' 'NO' 'NO' 'YES' 'NO' 'YES' 'NO' 'YES' 'NO' 'NO' 'YES'\n",
      " 'YES']\n"
     ]
    }
   ],
   "source": [
    "#Tree Classifier\n",
    "\n",
    "treeclf = tree.DecisionTreeClassifier(criterion='entropy', min_samples_split=3)\n",
    "treeclf = treeclf.fit(bd_train, bd_target_train)\n",
    "treepreds_test = treeclf.predict(bd_test)\n",
    "print treepreds_test"
   ]
  },
  {
   "cell_type": "code",
   "execution_count": 17,
   "metadata": {
    "collapsed": false
   },
   "outputs": [
    {
     "name": "stdout",
     "output_type": "stream",
     "text": [
      "             precision    recall  f1-score   support\n",
      "\n",
      "         NO       0.83      0.84      0.83        62\n",
      "        YES       0.82      0.81      0.82        58\n",
      "\n",
      "avg / total       0.82      0.82      0.82       120\n",
      "\n"
     ]
    }
   ],
   "source": [
    "#Tree Classifier - Classification Report\n",
    "\n",
    "print(classification_report(bd_target_test, treepreds_test))"
   ]
  },
  {
   "cell_type": "code",
   "execution_count": 18,
   "metadata": {
    "collapsed": false
   },
   "outputs": [
    {
     "name": "stdout",
     "output_type": "stream",
     "text": [
      "[[0 0]\n",
      " [0 0]]\n"
     ]
    }
   ],
   "source": [
    "#Tree Classifier - Confusion Matrix - Why is this zero???\n",
    "\n",
    "treecm = confusion_matrix(bd_target_test, treepreds_test, labels=['Yes', 'No'])\n",
    "print treecm"
   ]
  },
  {
   "cell_type": "code",
   "execution_count": 19,
   "metadata": {
    "collapsed": true
   },
   "outputs": [],
   "source": [
    "#Tree Classifier - Confusion Matrix Plot\n",
    "\n",
    "pl.matshow(treecm)\n",
    "pl.title('Tree Classifier Confusion Matrix')\n",
    "pl.colorbar()\n",
    "pl.ylabel('Actual')\n",
    "pl.xlabel('Predicted')\n",
    "pl.show()"
   ]
  },
  {
   "cell_type": "code",
   "execution_count": 20,
   "metadata": {
    "collapsed": false
   },
   "outputs": [
    {
     "name": "stdout",
     "output_type": "stream",
     "text": [
      "['NO' 'YES' 'YES' 'NO' 'NO' 'YES' 'NO' 'YES' 'NO' 'NO' 'NO' 'YES' 'NO'\n",
      " 'YES' 'NO' 'NO' 'YES' 'YES' 'YES' 'NO' 'NO' 'YES' 'NO' 'NO' 'YES' 'NO'\n",
      " 'NO' 'YES' 'YES' 'NO' 'NO' 'NO' 'NO' 'NO' 'YES' 'NO' 'NO' 'NO' 'NO' 'NO'\n",
      " 'NO' 'NO' 'YES' 'NO' 'NO' 'NO' 'NO' 'NO' 'NO' 'YES' 'YES' 'YES' 'YES' 'NO'\n",
      " 'NO' 'NO' 'YES' 'YES' 'NO' 'NO' 'NO' 'YES' 'NO' 'YES' 'NO' 'YES' 'NO' 'NO'\n",
      " 'NO' 'YES' 'NO' 'YES' 'NO' 'YES' 'NO' 'NO' 'NO' 'YES' 'YES' 'YES' 'YES'\n",
      " 'YES' 'YES' 'YES' 'YES' 'NO' 'NO' 'NO' 'NO' 'YES' 'YES' 'NO' 'YES' 'NO'\n",
      " 'NO' 'NO' 'NO' 'NO' 'NO' 'NO' 'YES' 'NO' 'NO' 'YES' 'NO' 'NO' 'NO' 'YES'\n",
      " 'YES' 'YES' 'NO' 'NO' 'NO' 'YES' 'NO' 'YES' 'NO' 'NO' 'NO' 'YES']\n"
     ]
    }
   ],
   "source": [
    "#Naive Bayes Classifier\n",
    "\n",
    "nbclf = naive_bayes.GaussianNB()\n",
    "nbclf = nbclf.fit(bd_train, bd_target_train)\n",
    "nbpreds_test = nbclf.predict(bd_test)\n",
    "print nbpreds_test"
   ]
  },
  {
   "cell_type": "code",
   "execution_count": 21,
   "metadata": {
    "collapsed": false
   },
   "outputs": [
    {
     "name": "stdout",
     "output_type": "stream",
     "text": [
      "             precision    recall  f1-score   support\n",
      "\n",
      "         NO       0.64      0.76      0.69        62\n",
      "        YES       0.67      0.53      0.60        58\n",
      "\n",
      "avg / total       0.65      0.65      0.65       120\n",
      "\n"
     ]
    }
   ],
   "source": [
    "#Naive Bayes Classifier - Classification Report\n",
    "\n",
    "print(classification_report(bd_target_test, nbpreds_test))"
   ]
  },
  {
   "cell_type": "code",
   "execution_count": 22,
   "metadata": {
    "collapsed": false
   },
   "outputs": [
    {
     "name": "stdout",
     "output_type": "stream",
     "text": [
      "[[0 0]\n",
      " [0 0]]\n"
     ]
    }
   ],
   "source": [
    "#Naive Bayes Classifier - Confusion Matrix - Why is this zero???\n",
    "\n",
    "nbcm = confusion_matrix(bd_target_test, nbpreds_test, labels=['Yes', 'No'])\n",
    "print nbcm"
   ]
  },
  {
   "cell_type": "code",
   "execution_count": 23,
   "metadata": {
    "collapsed": true
   },
   "outputs": [],
   "source": [
    "#Naive Bayes Classifier - Confusion Matrix Plot\n",
    "\n",
    "pl.matshow(treecm)\n",
    "pl.title('Tree Classifier Confusion Matrix')\n",
    "pl.colorbar()\n",
    "pl.ylabel('Actual')\n",
    "pl.xlabel('Predicted')\n",
    "pl.show()"
   ]
  }
 ],
 "metadata": {
  "kernelspec": {
   "display_name": "Python 2",
   "language": "python",
   "name": "python2"
  },
  "language_info": {
   "codemirror_mode": {
    "name": "ipython",
    "version": 2
   },
   "file_extension": ".py",
   "mimetype": "text/x-python",
   "name": "python",
   "nbconvert_exporter": "python",
   "pygments_lexer": "ipython2",
   "version": "2.7.9"
  }
 },
 "nbformat": 4,
 "nbformat_minor": 0
}
