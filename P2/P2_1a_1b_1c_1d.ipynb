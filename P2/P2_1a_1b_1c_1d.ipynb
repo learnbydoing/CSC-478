{
 "cells": [
  {
   "cell_type": "code",
   "execution_count": 16,
   "metadata": {
    "collapsed": false
   },
   "outputs": [
    {
     "data": {
      "text/plain": [
       "<module 'kNN' from 'kNN.pyc'>"
      ]
     },
     "execution_count": 16,
     "metadata": {},
     "output_type": "execute_result"
    }
   ],
   "source": [
    "import numpy as np\n",
    "import matplotlib.pyplot as plt\n",
    "import kNN\n",
    "reload(kNN)\n",
    "#%reset -f"
   ]
  },
  {
   "cell_type": "code",
   "execution_count": 17,
   "metadata": {
    "collapsed": false
   },
   "outputs": [],
   "source": [
    "dataMat = kNN.createDataSet('trainMatrixModified.txt', 800)"
   ]
  },
  {
   "cell_type": "code",
   "execution_count": 18,
   "metadata": {
    "collapsed": false
   },
   "outputs": [],
   "source": [
    "testMat = kNN.createDataSet('testMatrixModified.txt', 200)"
   ]
  },
  {
   "cell_type": "code",
   "execution_count": 19,
   "metadata": {
    "collapsed": true
   },
   "outputs": [],
   "source": [
    "labels = kNN.createLabelsVector('trainClasses.txt')"
   ]
  },
  {
   "cell_type": "code",
   "execution_count": 20,
   "metadata": {
    "collapsed": false
   },
   "outputs": [],
   "source": [
    "testlabels = kNN.createLabelsVector('testClasses.txt')"
   ]
  },
  {
   "cell_type": "code",
   "execution_count": 21,
   "metadata": {
    "collapsed": false
   },
   "outputs": [],
   "source": [
    "weightedDataMat = kNN.generateWeightedMatrix(dataMat)"
   ]
  },
  {
   "cell_type": "code",
   "execution_count": 22,
   "metadata": {
    "collapsed": true
   },
   "outputs": [],
   "source": [
    "weightedTestMat = kNN.generateWeightedMatrix(testMat)"
   ]
  },
  {
   "cell_type": "code",
   "execution_count": 23,
   "metadata": {
    "collapsed": false
   },
   "outputs": [],
   "source": [
    "kNeighbors, result = kNN.classify(testMat[0,:], dataMat, labels, 3, 'EuclideanDistance')"
   ]
  },
  {
   "cell_type": "code",
   "execution_count": 24,
   "metadata": {
    "collapsed": false
   },
   "outputs": [
    {
     "name": "stdout",
     "output_type": "stream",
     "text": [
      "[[ 0.  0.  0. ...,  0.  0.  0.]\n",
      " [ 0.  0.  0. ...,  0.  0.  0.]\n",
      " [ 0.  0.  0. ...,  0.  0.  0.]]\n",
      "1\n"
     ]
    }
   ],
   "source": [
    "print kNeighbors\n",
    "print result"
   ]
  },
  {
   "cell_type": "code",
   "execution_count": 25,
   "metadata": {
    "collapsed": false
   },
   "outputs": [
    {
     "name": "stdout",
     "output_type": "stream",
     "text": [
      "[1, 2, 3, 4, 5, 6, 7, 8, 9, 10, 11, 12, 13, 14, 15, 16, 17, 18, 19, 20]\n",
      "[0.78, 0.785, 0.81, 0.77, 0.815, 0.745, 0.765, 0.73, 0.75, 0.705, 0.795, 0.725, 0.775, 0.74, 0.785, 0.73, 0.76, 0.725, 0.74, 0.71]\n"
     ]
    }
   ],
   "source": [
    "kValues=range(1,21)\n",
    "euclideanSuccessRatesUnweighted=[]\n",
    "for k in kValues:\n",
    "    successRate = kNN.classifyTest(dataMat, testMat, 'EuclideanDistance', k)\n",
    "    euclideanSuccessRatesUnweighted.append(successRate)\n",
    "print kValues\n",
    "print euclideanSuccessRatesUnweighted"
   ]
  },
  {
   "cell_type": "code",
   "execution_count": 26,
   "metadata": {
    "collapsed": true
   },
   "outputs": [],
   "source": [
    "plt.plot(kValues, euclideanSuccessRatesUnweighted)\n",
    "plt.title('KNN Success Rate - Euclidean Distance, Unweighted Matrix')\n",
    "plt.axis([0, 21, .60, 1])\n",
    "plt.show()"
   ]
  },
  {
   "cell_type": "code",
   "execution_count": 27,
   "metadata": {
    "collapsed": false
   },
   "outputs": [
    {
     "name": "stdout",
     "output_type": "stream",
     "text": [
      "[1, 2, 3, 4, 5, 6, 7, 8, 9, 10, 11, 12, 13, 14, 15, 16, 17, 18, 19, 20]\n",
      "[0.985, 0.96, 0.97, 0.965, 0.97, 0.98, 0.98, 0.97, 0.975, 0.975, 0.98, 0.97, 0.98, 0.97, 0.985, 0.975, 0.975, 0.975, 0.975, 0.975]\n"
     ]
    }
   ],
   "source": [
    "kValues=range(1,21)\n",
    "cosineSimilaritySuccessRatesUnweighted=[]\n",
    "for k in kValues:\n",
    "    successRate = kNN.classifyTest(dataMat, testMat, 'CosineSimilarity', k)\n",
    "    cosineSimilaritySuccessRatesUnweighted.append(successRate)\n",
    "print kValues\n",
    "print cosineSimilaritySuccessRatesUnweighted"
   ]
  },
  {
   "cell_type": "code",
   "execution_count": 28,
   "metadata": {
    "collapsed": false
   },
   "outputs": [],
   "source": [
    "plt.plot(kValues, cosineSimilaritySuccessRatesUnweighted)\n",
    "plt.title('KNN Success Rate - Cosine Similarity - Unweighted Matrix')\n",
    "plt.axis([0, 21, .9, 1])\n",
    "plt.show()"
   ]
  },
  {
   "cell_type": "code",
   "execution_count": 29,
   "metadata": {
    "collapsed": false
   },
   "outputs": [
    {
     "name": "stdout",
     "output_type": "stream",
     "text": [
      "[1, 2, 3, 4, 5, 6, 7, 8, 9, 10, 11, 12, 13, 14, 15, 16, 17, 18, 19, 20]\n",
      "[0.735, 0.78, 0.775, 0.78, 0.845, 0.765, 0.8, 0.755, 0.77, 0.695, 0.805, 0.745, 0.825, 0.775, 0.845, 0.785, 0.835, 0.805, 0.83, 0.8]\n"
     ]
    }
   ],
   "source": [
    "kValues=range(1,21)\n",
    "euclideanSuccessRatesWeighted=[]\n",
    "for k in kValues:\n",
    "    successRate = kNN.classifyTest(weightedDataMat, weightedTestMat, 'EuclideanDistance', k)\n",
    "    euclideanSuccessRatesWeighted.append(successRate)\n",
    "print kValues\n",
    "print euclideanSuccessRatesWeighted"
   ]
  },
  {
   "cell_type": "code",
   "execution_count": 30,
   "metadata": {
    "collapsed": true
   },
   "outputs": [],
   "source": [
    "plt.plot(kValues, euclideanSuccessRatesWeighted)\n",
    "plt.title('KNN Success Rate - Euclidean Distance, Weighted Matrix')\n",
    "plt.axis([0, 21, .60, 1])\n",
    "plt.show()"
   ]
  },
  {
   "cell_type": "code",
   "execution_count": 31,
   "metadata": {
    "collapsed": false
   },
   "outputs": [
    {
     "name": "stdout",
     "output_type": "stream",
     "text": [
      "[1, 2, 3, 4, 5, 6, 7, 8, 9, 10, 11, 12, 13, 14, 15, 16, 17, 18, 19, 20]\n",
      "[0.985, 0.96, 0.97, 0.965, 0.97, 0.98, 0.98, 0.97, 0.975, 0.975, 0.98, 0.97, 0.98, 0.97, 0.985, 0.975, 0.975, 0.975, 0.975, 0.975]\n"
     ]
    }
   ],
   "source": [
    "kValues=range(1,21)\n",
    "cosineSimilaritySuccessRatesWeighted=[]\n",
    "for k in kValues:\n",
    "    successRate = kNN.classifyTest(weightedDataMat, weightedTestMat, 'CosineSimilarity', k)\n",
    "    cosineSimilaritySuccessRatesWeighted.append(successRate)\n",
    "print kValues\n",
    "print cosineSimilaritySuccessRatesWeighted"
   ]
  },
  {
   "cell_type": "code",
   "execution_count": 32,
   "metadata": {
    "collapsed": true
   },
   "outputs": [],
   "source": [
    "plt.plot(kValues, cosineSimilaritySuccessRatesWeighted)\n",
    "plt.title('KNN Success Rate - Cosine Similarity - Weighted Matrix')\n",
    "plt.axis([0, 21, .9, 1])\n",
    "plt.show()"
   ]
  },
  {
   "cell_type": "code",
   "execution_count": null,
   "metadata": {
    "collapsed": true
   },
   "outputs": [],
   "source": []
  }
 ],
 "metadata": {
  "kernelspec": {
   "display_name": "Python 2",
   "language": "python",
   "name": "python2"
  },
  "language_info": {
   "codemirror_mode": {
    "name": "ipython",
    "version": 2
   },
   "file_extension": ".py",
   "mimetype": "text/x-python",
   "name": "python",
   "nbconvert_exporter": "python",
   "pygments_lexer": "ipython2",
   "version": "2.7.9"
  }
 },
 "nbformat": 4,
 "nbformat_minor": 0
}
