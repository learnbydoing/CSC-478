{
 "cells": [
  {
   "cell_type": "code",
   "execution_count": null,
   "metadata": {
    "collapsed": false
   },
   "outputs": [],
   "source": [
    "import numpy as np\n",
    "import matplotlib.pyplot as plt\n",
    "reload(kNN)"
   ]
  },
  {
   "cell_type": "code",
   "execution_count": null,
   "metadata": {
    "collapsed": true
   },
   "outputs": [],
   "source": []
  },
  {
   "cell_type": "code",
   "execution_count": 82,
   "metadata": {
    "collapsed": false
   },
   "outputs": [
    {
     "name": "stdout",
     "output_type": "stream",
     "text": [
      "[1, 2, 3, 4, 5, 6, 7, 8, 9, 10, 11, 12, 13, 14, 15, 16, 17, 18, 19, 20]\n",
      "[0.22, 0.215, 0.19, 0.23, 0.185, 0.255, 0.235, 0.27, 0.25, 0.295, 0.205, 0.275, 0.225, 0.26, 0.215, 0.27, 0.24, 0.275, 0.26, 0.29]\n"
     ]
    }
   ],
   "source": [
    "kValues=range(1,21)\n",
    "euclideanErrorRate=[]\n",
    "for k in range(1, 21):\n",
    "    error = kNN.m_ClassTest('EuclideanDistance', k)\n",
    "    euclideanErrorRate.append(error)\n",
    "print kValues\n",
    "print euclideanErrorRate"
   ]
  },
  {
   "cell_type": "code",
   "execution_count": 91,
   "metadata": {
    "collapsed": false
   },
   "outputs": [
    {
     "name": "stdout",
     "output_type": "stream",
     "text": [
      "[1, 2, 3, 4, 5, 6, 7, 8, 9, 10, 11, 12, 13, 14, 15, 16, 17, 18, 19, 20]\n",
      "[0.015, 0.04, 0.03, 0.035, 0.03, 0.02, 0.02, 0.03, 0.025, 0.025, 0.02, 0.03, 0.02, 0.03, 0.015, 0.025, 0.025, 0.025, 0.025, 0.025]\n"
     ]
    }
   ],
   "source": [
    "kValues=range(1,21)\n",
    "cosineSimilarityErrorRate=[]\n",
    "for k in range(1, 21):\n",
    "    error = kNN.m_ClassTest('CosineSimilarity', k)\n",
    "    cosineSimilarityErrorRate.append(error)\n",
    "print kValues\n",
    "print cosineSimilarityErrorRate"
   ]
  },
  {
   "cell_type": "code",
   "execution_count": 103,
   "metadata": {
    "collapsed": false
   },
   "outputs": [],
   "source": [
    "import matplotlib.pyplot as plt\n",
    "\n",
    "plt.plot(kValues, euclideanErrorRate)\n",
    "plt.title('KNN Error Rate - Euclidean Distance')\n",
    "plt.axis([0, 21, .15, .30])\n",
    "plt.show()"
   ]
  },
  {
   "cell_type": "code",
   "execution_count": 102,
   "metadata": {
    "collapsed": true
   },
   "outputs": [],
   "source": [
    "import matplotlib.pyplot as plt\n",
    "\n",
    "plt.plot(kValues, cosineSimilarityErrorRate)\n",
    "plt.title('KNN Error Rate - Cosine Similarity')\n",
    "plt.axis([0, 21, .01, .05])\n",
    "plt.show()"
   ]
  },
  {
   "cell_type": "code",
   "execution_count": null,
   "metadata": {
    "collapsed": true
   },
   "outputs": [],
   "source": []
  }
 ],
 "metadata": {
  "kernelspec": {
   "display_name": "Python 2",
   "language": "python",
   "name": "python2"
  },
  "language_info": {
   "codemirror_mode": {
    "name": "ipython",
    "version": 2
   },
   "file_extension": ".py",
   "mimetype": "text/x-python",
   "name": "python",
   "nbconvert_exporter": "python",
   "pygments_lexer": "ipython2",
   "version": "2.7.9"
  }
 },
 "nbformat": 4,
 "nbformat_minor": 0
}
