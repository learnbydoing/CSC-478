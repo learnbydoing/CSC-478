{
 "cells": [
  {
   "cell_type": "code",
   "execution_count": 17,
   "metadata": {
    "collapsed": false
   },
   "outputs": [
    {
     "name": "stdout",
     "output_type": "stream",
     "text": [
      "[[0 2 4 0 1 0]\n",
      " [1 3 0 0 0 2]\n",
      " [0 1 0 2 0 0]\n",
      " [3 0 1 5 4 0]\n",
      " [0 4 0 0 0 1]\n",
      " [2 7 2 1 3 0]\n",
      " [1 0 0 5 5 1]\n",
      " [0 1 1 0 0 3]]\n"
     ]
    }
   ],
   "source": [
    "orig = array([[0, 2, 4, 0, 1, 0],\n",
    "        [1, 3, 0, 0, 0, 2],\n",
    "        [0, 1, 0, 2, 0, 0],\n",
    "        [3, 0, 1, 5, 4, 0],\n",
    "        [0, 4, 0, 0, 0, 1],\n",
    "        [2, 7, 2, 1, 3, 0],\n",
    "        [1, 0, 0, 5, 5, 1],\n",
    "        [0, 1, 1, 0, 0, 3]])\n",
    "print orig"
   ]
  },
  {
   "cell_type": "code",
   "execution_count": 18,
   "metadata": {
    "collapsed": false
   },
   "outputs": [
    {
     "name": "stdout",
     "output_type": "stream",
     "text": [
      "[[0 2 4 0 1 0]\n",
      " [1 3 0 0 0 2]\n",
      " [0 1 0 2 0 0]\n",
      " [3 0 1 5 4 0]\n",
      " [0 4 0 0 0 1]\n",
      " [2 7 2 1 3 0]\n",
      " [1 0 0 5 5 1]\n",
      " [0 1 1 0 0 3]]\n"
     ]
    }
   ],
   "source": [
    "a = orig\n",
    "print a"
   ]
  },
  {
   "cell_type": "code",
   "execution_count": 35,
   "metadata": {
    "collapsed": false
   },
   "outputs": [
    {
     "name": "stdout",
     "output_type": "stream",
     "text": [
      "[0 2 4 0 1 0]\n"
     ]
    }
   ],
   "source": [
    "row = a[0,:]\n",
    "print row"
   ]
  },
  {
   "cell_type": "code",
   "execution_count": 50,
   "metadata": {
    "collapsed": false
   },
   "outputs": [
    {
     "name": "stdout",
     "output_type": "stream",
     "text": [
      "3\n"
     ]
    }
   ],
   "source": [
    "rowList = row.tolist()\n",
    "indicies = [i for i, x in enumerate(rowList) if x!= 0]\n",
    "print len(indicies)"
   ]
  },
  {
   "cell_type": "code",
   "execution_count": 13,
   "metadata": {
    "collapsed": false
   },
   "outputs": [],
   "source": [
    "def numDocsContainingTerm(row):\n",
    "    rowList = row.tolist()\n",
    "    indicies = [i for i, x in enumerate(rowList) if x!= 0]\n",
    "    return len(indicies)"
   ]
  },
  {
   "cell_type": "code",
   "execution_count": 78,
   "metadata": {
    "collapsed": false
   },
   "outputs": [
    {
     "name": "stdout",
     "output_type": "stream",
     "text": [
      "0.584962500721\n"
     ]
    }
   ],
   "source": [
    "import math\n",
    "\n",
    "x = math.log( 6/4.0, 2)\n",
    "print x"
   ]
  },
  {
   "cell_type": "code",
   "execution_count": 4,
   "metadata": {
    "collapsed": false
   },
   "outputs": [],
   "source": [
    "import numpy as np\n",
    "\n",
    "TD = np.genfromtxt('term-doc-mat.csv',delimiter=',',usecols=(1,2,3,4,5,6,7,8,9,10,11,12,13,14,15),dtype=int)"
   ]
  },
  {
   "cell_type": "code",
   "execution_count": 10,
   "metadata": {
    "collapsed": false
   },
   "outputs": [
    {
     "name": "stdout",
     "output_type": "stream",
     "text": [
      "[[24 32 12  6 43  2  0  3  1  6  4  0  0  0  0]\n",
      " [ 9  5  5  2 20  0  1  0  0  0 27 14  3  2 11]\n",
      " [ 0  3  0  0  3  7 12  4 27  4  0  1  0  0  0]\n",
      " [ 3  0  0  0  0 16  0  2 25 23  7 12 21  3  2]\n",
      " [ 1  0  0  0  0 33  2  0  7 12 14  5 12  4  0]\n",
      " [12  2  0  0 27  0  0  0  0 22  9  4  0  5  3]\n",
      " [ 0  0  0  0  0 18 32 22 34 17  0  0  0  0  0]\n",
      " [ 1  0  0  0  2  0  0  0  3  9 27  7  5  4  4]\n",
      " [21 10 16  7 31  0  0  0  0  0  0  0  0  1  0]\n",
      " [ 2  0  0  2  0 27  4  2 11  8 33 16 14  7  3]]\n"
     ]
    }
   ],
   "source": [
    "print TD\n",
    "DT = TD.T\n",
    "#print DT"
   ]
  },
  {
   "cell_type": "code",
   "execution_count": null,
   "metadata": {
    "collapsed": true
   },
   "outputs": [],
   "source": [
    "numTerms=len(DT[0])\n",
    "NDocs = len(DT[:,0])\n",
    "print numTerms\n",
    "print NDocs"
   ]
  },
  {
   "cell_type": "code",
   "execution_count": 11,
   "metadata": {
    "collapsed": false
   },
   "outputs": [
    {
     "name": "stdout",
     "output_type": "stream",
     "text": [
      "[[24 32 12  6 43  2  0  3  1  6  4  0  0  0  0]\n",
      " [ 9  5  5  2 20  0  1  0  0  0 27 14  3  2 11]\n",
      " [ 0  3  0  0  3  7 12  4 27  4  0  1  0  0  0]\n",
      " [ 3  0  0  0  0 16  0  2 25 23  7 12 21  3  2]\n",
      " [ 1  0  0  0  0 33  2  0  7 12 14  5 12  4  0]\n",
      " [12  2  0  0 27  0  0  0  0 22  9  4  0  5  3]\n",
      " [ 0  0  0  0  0 18 32 22 34 17  0  0  0  0  0]\n",
      " [ 1  0  0  0  2  0  0  0  3  9 27  7  5  4  4]\n",
      " [21 10 16  7 31  0  0  0  0  0  0  0  0  1  0]\n",
      " [ 2  0  0  2  0 27  4  2 11  8 33 16 14  7  3]]\n"
     ]
    }
   ],
   "source": [
    "orig = TD\n",
    "print orig"
   ]
  },
  {
   "cell_type": "code",
   "execution_count": 23,
   "metadata": {
    "collapsed": false
   },
   "outputs": [
    {
     "name": "stdout",
     "output_type": "stream",
     "text": [
      "[[ 14.04  18.72   7.02   3.51  25.15   1.17   0.     1.75   0.58   3.51   2.34   0.     0.     0.     0.  ]\n",
      " [  4.03   2.24   2.24   0.89   8.95   0.     0.45   0.     0.     0.    12.08   6.26   1.34   0.89   4.92]\n",
      " [  0.     2.72   0.     0.     2.72   6.35  10.88   3.63  24.49   3.63   0.     0.91   0.     0.     0.  ]\n",
      " [  1.75   0.     0.     0.     0.     9.36   0.     1.17  14.62  13.45   4.09   7.02  12.28   1.75   1.17]\n",
      " [  0.74   0.     0.     0.     0.    24.32   1.47   0.     5.16   8.84  10.32   3.68   8.84   2.95   0.  ]\n",
      " [ 10.88   1.81   0.     0.    24.49   0.     0.     0.     0.    19.95   8.16   3.63   0.     4.53   2.72]\n",
      " [  0.     0.     0.     0.     0.    28.53  50.72  34.87  53.89  26.94   0.     0.     0.     0.     0.  ]\n",
      " [  0.74   0.     0.     0.     1.47   0.     0.     0.     2.21   6.63  19.9    5.16   3.68   2.95   2.95]\n",
      " [ 27.76  13.22  21.15   9.25  40.98   0.     0.     0.     0.     0.     0.     0.     0.     1.32   0.  ]\n",
      " [  0.64   0.     0.     0.64   0.     8.69   1.29   0.64   3.54   2.58  10.62   5.15   4.51   2.25   0.97]]\n"
     ]
    }
   ],
   "source": [
    "\n",
    "import numpy as np\n",
    "from numpy import array\n",
    "from numpy import *\n",
    "import math\n",
    "\n",
    "freqs = orig.shape[0]\n",
    "docs = orig.shape[1]\n",
    "weightMatrix = zeros((freqs, docs))\n",
    "tc = 0\n",
    "for f in range(0,freqs):\n",
    "    nk=numDocsContainingTerm(orig[f,:])\n",
    "    for d in range(0,docs):\n",
    "        tfik=orig[f,d]\n",
    "        x = docs/float(nk)\n",
    "        idfk = math.log((x), 2)\n",
    "        w = tfik*idfk \n",
    "        weightMatrix[f,d] = w\n",
    "np.set_printoptions(precision=2, suppress=True,linewidth=120)\n",
    "print weightMatrix"
   ]
  },
  {
   "cell_type": "code",
   "execution_count": 30,
   "metadata": {
    "collapsed": false
   },
   "outputs": [],
   "source": [
    "import kNN"
   ]
  },
  {
   "cell_type": "code",
   "execution_count": null,
   "metadata": {
    "collapsed": true
   },
   "outputs": [],
   "source": []
  },
  {
   "cell_type": "code",
   "execution_count": null,
   "metadata": {
    "collapsed": true
   },
   "outputs": [],
   "source": []
  },
  {
   "cell_type": "code",
   "execution_count": null,
   "metadata": {
    "collapsed": true
   },
   "outputs": [],
   "source": []
  }
 ],
 "metadata": {
  "kernelspec": {
   "display_name": "Python 2",
   "language": "python",
   "name": "python2"
  },
  "language_info": {
   "codemirror_mode": {
    "name": "ipython",
    "version": 2
   },
   "file_extension": ".py",
   "mimetype": "text/x-python",
   "name": "python",
   "nbconvert_exporter": "python",
   "pygments_lexer": "ipython2",
   "version": "2.7.9"
  }
 },
 "nbformat": 4,
 "nbformat_minor": 0
}
