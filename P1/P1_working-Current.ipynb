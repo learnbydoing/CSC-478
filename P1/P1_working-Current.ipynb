{
 "cells": [
  {
   "cell_type": "code",
   "execution_count": 5,
   "metadata": {
    "collapsed": false
   },
   "outputs": [],
   "source": [
    "import numpy as np\n",
    "from numpy import genfromtxt\n",
    "from numpy import array\n",
    "from numpy import *\n",
    "import scipy as cp\n",
    "import matplotlib.pyplot as plt\n",
    "#%reset -f"
   ]
  },
  {
   "cell_type": "code",
   "execution_count": 6,
   "metadata": {
    "collapsed": false
   },
   "outputs": [],
   "source": [
    "#gen_m = zeros(len(gender))\n",
    "#gen_m[gender=='M'] = 1\n",
    "#print gen_m\n",
    "#isMale = np.array(gender =='M')\n",
    "#print isMale\n",
    "#males = np.array(vstable[isMale])\n",
    "#print males\n",
    "#males_ages = array(males[:,3], dtype=int)\n",
    "#print males_ages\n",
    "\n",
    "#genre_numbers = zeros(len(genre))\n",
    "#genre_numbers\n",
    "#genre_numbers[genre == 'Action'] = 1\n",
    "#genre_numbers[genre == 'Comedy'] = 2\n",
    "#genre_numbers[genre == 'Drama'] = 3\n",
    "#print genre_numbers\n",
    "#print genre_numbers.size\n",
    "\n",
    "#isFemale = np.array(genders =='F')\n",
    "#print isFemale\n",
    "#females = np.array(vstable[isFemale])\n",
    "#print females\n",
    "#females_ages = array(females[:,3], dtype=int)\n",
    "#print females_ages\n",
    "\n",
    "#plt.hist(males_ages, 8, alpha=0.8, label='Males')\n",
    "#plt.legend(loc='upper right')\n",
    "#plt.title('Males Not Buying Incidentals')\n",
    "#plt.show()\n",
    "\n",
    "#plt.hist(females_ages, 8, alpha=0.5, label='Females')\n",
    "#plt.legend(loc='upper right')\n",
    "#plt.title('Females Not Buying Incidentals')\n",
    "#plt.show()\n",
    "\n",
    "#plt.hist(males_ages, 8, alpha=0.8, label='Males')\n",
    "#plt.hist(females_ages, 8, alpha=0.8, label='Females')\n",
    "#plt.title('Customers Buying Incidentals')\n",
    "#plt.legend(loc='upper right')\n",
    "#plt.show()\n",
    "#plt.hist(females_ages, 8, alpha=0.5, label='Females')\n",
    "#plt.legend(loc='upper right')\n",
    "#plt.show()\n",
    "#fig, ax = plt.subplots()\n",
    "#ind = np.arange(8)\n",
    "#rects1 = ax.bar(ind, males_ages, .35, color='r')\n",
    "\n",
    "#males_ages_incidentals = array(males_incidentals[:,3], dtype=int)\n",
    "#print males_ages_incidentals\n",
    "\n",
    "#gen_m_incidentals = zeros(len(gender_incidentals))\n",
    "#gen_m_incidentals[gender_incidentals =='M'] = 1\n",
    "#isMaleIncidentals = np.array(gender_incidentals =='M')\n",
    "#males_incidentals = np.array(incidental_custs[isMaleIncidentals])\n",
    "#print males_incidentals\n",
    "\n",
    "#gen_f_incidentals = zeros(len(gender_incidentals))\n",
    "#gen_f_incidentals[gender_incidentals =='F'] = 1\n",
    "#isFemaleIncidentals = np.array(gender_incidentals =='F')\n",
    "#females_incidentals = np.array(incidental_custs[isFemaleIncidentals])\n",
    "#print females_incidentals\n",
    "\n",
    "#genre_numbers_incidentals = zeros(len(genre_incidentals)) #TO DO - Should this be len(genre_incidentals)?\n",
    "#genre_numbers_incidentals\n",
    "#genre_numbers_incidentals[genre_incidentals == 'Action'] = 1\n",
    "#genre_numbers_incidentals[genre_incidentals == 'Comedy'] = 2\n",
    "#genre_numbers_incidentals[genre_incidentals == 'Drama'] = 3\n",
    "#genre_numbers_incidentals\n",
    "\n",
    "#vstableNum = np.genfromtxt(\"video_store_numeric.csv\", delimiter=\",\", dtype=None)\n",
    "#print vstableNum\n",
    "#vstableNum = vstableNum[1:]\n",
    "#vstableNum_noId = vstableNum[:, 1:]\n",
    "#print vstableNum_noId\n",
    "#corr_matrix = np.corrcoef(vstableNum_noId.T)\n",
    "#print corr_matrix\n",
    "#vstable=vstable[1:]\n",
    "#print vstable\n",
    "#vstable_noId=vstable[:,1:]\n",
    "#print vstable_noId"
   ]
  },
  {
   "cell_type": "code",
   "execution_count": 7,
   "metadata": {
    "collapsed": false
   },
   "outputs": [],
   "source": [
    "# Windows\n",
    "vstable = np.genfromtxt(\"Video_Store.csv\", delimiter=\",\", dtype=None)\n",
    "\n",
    "# MAC\n",
    "#vstable = np.genfromtxt(\"/Users/urvipatel/Desktop/Video_Store.csv\", delimiter=\",\", dtype=None)\n",
    "\n",
    "vstable=vstable[1:]\n",
    "vstable_noId=vstable[:,1:]\n",
    "#print vstable_noId"
   ]
  },
  {
   "cell_type": "markdown",
   "metadata": {},
   "source": [
    "Question #1"
   ]
  },
  {
   "cell_type": "code",
   "execution_count": 8,
   "metadata": {
    "collapsed": false
   },
   "outputs": [
    {
     "name": "stdout",
     "output_type": "stream",
     "text": [
      "Income\n",
      "[ 45000.  54000.  32000.  59000.  37000.  18000.  29000.  74000.  38000.\n",
      "  65000.  41000.  26000.  83000.  45000.  68000.  17000.  36000.   6000.\n",
      "  24000.  12000.  47000.  25000.   2000.  79000.   1000.  56000.  62000.\n",
      "  57000.  15000.  41000.  49000.  47000.  23000.  29000.  74000.  29000.\n",
      "  89000.  41000.  68000.  17000.  50000.  32000.  49000.  35000.  56000.\n",
      "  57000.  69000.  52000.  31000.  24000.]\n",
      "Age\n",
      "[25 33 20 70 35 20 45 25 21 40 22 22 46 36 30 19 35 16 25 16 52 33 15 35 16\n",
      " 35 47 52 18 25 56 30 25 32 29 21 46 38 35 19 33 25 28 24 38 43 35 47 25 20]\n",
      "Rentals\n",
      "[32 12 42 16 25 29 19 31 18 21 48 32 14 24 36 26 28 39 41 23 11 16 30 22 25\n",
      " 40 32 22 37 17 15 21 28 19 43 34 12 20 19 32 17 26 48 24 30  9 22 14 42 33]\n",
      "Average Rentals Per Visit\n",
      "[ 2.5  3.4  1.6  4.2  3.2  1.7  3.8  2.4  2.1  3.3  2.3  2.9  3.6  2.7  2.7\n",
      "  2.2  3.5  1.8  3.1  2.2  3.1  2.9  2.5  3.8  1.4  2.6  3.6  4.1  2.1  1.4\n",
      "  3.2  3.1  2.7  2.9  4.6  2.3  1.2  3.3  3.9  1.8  1.4  2.2  3.3  1.7  3.5\n",
      "  1.1  2.8  1.6  3.4  4.7]\n"
     ]
    }
   ],
   "source": [
    "incomes=array(vstable[:,2], dtype=float32)\n",
    "print \"Income\"\n",
    "print incomes\n",
    "\n",
    "ages=array(vstable[:,3], dtype=int)\n",
    "print \"Age\"\n",
    "print ages\n",
    "\n",
    "rentals=array(vstable[:,4], dtype=int)\n",
    "print \"Rentals\"\n",
    "print rentals\n",
    "\n",
    "avg_visits=array(vstable[:,5], dtype=float)\n",
    "print \"Average Rentals Per Visit\"\n",
    "print avg_visits"
   ]
  },
  {
   "cell_type": "code",
   "execution_count": 9,
   "metadata": {
    "collapsed": false
   },
   "outputs": [
    {
     "name": "stdout",
     "output_type": "stream",
     "text": [
      "Average Income:  42300.0\n",
      "Average Age:  31.56\n",
      "Average Rentals:  26.32\n",
      "Average of average rentals per visit:  2.748\n",
      "\n",
      "Std dev of income:  21194.6\n",
      "Std dev of age:  11.8796632949\n",
      "Std dev of rentals:  9.94673815881\n",
      "Std dev of average rentals per visit:  0.889098419749\n"
     ]
    }
   ],
   "source": [
    "avg_income=incomes.mean()\n",
    "avg_age=ages.mean()\n",
    "avg_rentals=rentals.mean()\n",
    "avg_avg_per_visit=avg_visits.mean()\n",
    "\n",
    "print \"Average Income: \", avg_income\n",
    "print \"Average Age: \" , avg_age\n",
    "print \"Average Rentals: \", avg_rentals\n",
    "print \"Average of average rentals per visit: \" , avg_avg_per_visit\n",
    "print\n",
    "print \"Std dev of income: \", incomes.std()\n",
    "print \"Std dev of age: \", ages.std()\n",
    "print \"Std dev of rentals: \", rentals.std()\n",
    "print \"Std dev of average rentals per visit: \", avg_visits.std()"
   ]
  },
  {
   "cell_type": "markdown",
   "metadata": {},
   "source": [
    "Distribution of Genders"
   ]
  },
  {
   "cell_type": "code",
   "execution_count": 10,
   "metadata": {
    "collapsed": false
   },
   "outputs": [],
   "source": [
    "#Compute count of each gender\n",
    "\n",
    "genders=array(vstable[:,1], dtype=\"|S1\")\n",
    "gender_count=[0 for x in range(2)]\n",
    "for g in genders:\n",
    "    if(g=='M'):\n",
    "        gender_count[0] = gender_count[0] + 1\n",
    "    else:\n",
    "        gender_count[1] = gender_count[1] + 1\n",
    "\n",
    "# Create bar chart showing counts of males and females\n",
    "\n",
    "N=2\n",
    "ind=np.arange(0, N*2, 3)\n",
    "width=.35\n",
    "fig, ax = plt.subplots()\n",
    "rects1 = ax.bar(ind, gender_count, width, color='r')\n",
    "\n",
    "ax.set_title('Genders - General Population')\n",
    "ax.set_xticks(ind+width)\n",
    "ax.set_xticklabels( ('M', 'F') )\n",
    "\n",
    "def autolabel(rects):\n",
    "    # attach some text labels\n",
    "    for rect in rects:\n",
    "        height = rect.get_height()\n",
    "        ax.text(rect.get_x()+rect.get_width()/2., 1.05*height, '%d'%int(height),\n",
    "                ha='center', va='bottom')\n",
    "\n",
    "autolabel(rects1)\n",
    "plt.show()"
   ]
  },
  {
   "cell_type": "code",
   "execution_count": 11,
   "metadata": {
    "collapsed": false
   },
   "outputs": [],
   "source": [
    "from IPython.display import Image\n",
    "#Image(filename='Genders_GenPop.png')"
   ]
  },
  {
   "cell_type": "markdown",
   "metadata": {},
   "source": [
    "Distribution of Genres"
   ]
  },
  {
   "cell_type": "code",
   "execution_count": 12,
   "metadata": {
    "collapsed": true
   },
   "outputs": [],
   "source": [
    "#Compute count of each genre\n",
    "\n",
    "genres=array(vstable[:,7], dtype=\"|S10\")\n",
    "genre_count=[0 for x in range(3)]\n",
    "\n",
    "for genre in genres:\n",
    "    if(genre == \"Action\"):\n",
    "        genre_count[0] = genre_count[0] + 1\n",
    "    elif(genre == \"Comedy\"):\n",
    "        genre_count[1] = genre_count[1] + 1\n",
    "    else:\n",
    "        genre_count[2] = genre_count[2] + 1\n",
    "#print genre_count    \n",
    "\n",
    "# Create bar chart showing counts of genres\n",
    "\n",
    "N=3\n",
    "ind=np.arange(N)\n",
    "width=.15\n",
    "fig, ax = plt.subplots()\n",
    "rects1 = ax.bar(ind, genre_count, width, color='r')\n",
    "\n",
    "ax.set_title('Genres - General Population')\n",
    "ax.set_xticks(ind+width)\n",
    "ax.set_xticklabels( ('Action', 'Comedy', 'Drama') )\n",
    "\n",
    "def autolabel(rects):\n",
    "    # attach some text labels\n",
    "    for rect in rects:\n",
    "        height = rect.get_height()\n",
    "        ax.text(rect.get_x()+rect.get_width()/2., 1.05*height, '%d'%int(height),\n",
    "                ha='center', va='bottom')\n",
    "\n",
    "autolabel(rects1)\n",
    "plt.show()"
   ]
  },
  {
   "cell_type": "code",
   "execution_count": 13,
   "metadata": {
    "collapsed": false
   },
   "outputs": [],
   "source": [
    "from IPython.display import Image\n",
    "#Image(filename='Genres_GenPop.png')"
   ]
  },
  {
   "cell_type": "markdown",
   "metadata": {},
   "source": [
    "Question #2 - Incidentals"
   ]
  },
  {
   "cell_type": "code",
   "execution_count": 14,
   "metadata": {
    "collapsed": false
   },
   "outputs": [],
   "source": [
    "incidentals=array(vstable[:, 6])\n",
    "buys_incidentals = np.array(incidentals=='Yes')\n",
    "buys_incidentals\n",
    "incidental_custs = np.array(vstable[buys_incidentals])\n",
    "\n",
    "income_incidental_custs=array(incidental_custs[:,2], dtype=float32)\n",
    "avg_income_incidental_custs=income_incidental_custs.mean()\n",
    "std_dev_income_incidental_custs=income_incidental_custs.std()\n",
    "\n",
    "age_incidental_custs=array(incidental_custs[:,3], dtype=int)\n",
    "avg_age_incidental_custs=age_incidental_custs.mean()\n",
    "std_dev_age_incidental_custs = age_incidental_custs.std()\n",
    "\n",
    "rentals_incidental_custs=array(incidental_custs[:,4], dtype=int)\n",
    "avg_rentals_incidental_custs=rentals_incidental_custs.mean()\n",
    "std_dev_rentals_incidental_custs=rentals_incidental_custs.std()\n",
    "\n",
    "avg_rentals_per_visit_incidental_custs=array(incidental_custs[:,5], dtype=float32)\n",
    "avg_avg_rentals_per_visit_incidental_custs=avg_rentals_per_visit_incidental_custs.mean()\n",
    "std_dev_rentals_per_visit_incidental_custs=avg_rentals_per_visit_incidental_custs.std()"
   ]
  },
  {
   "cell_type": "code",
   "execution_count": 15,
   "metadata": {
    "collapsed": false
   },
   "outputs": [
    {
     "name": "stdout",
     "output_type": "stream",
     "text": [
      "Stats on customers buying incidentals:\n",
      "\n",
      "Average income:  41000.0\n",
      "Average age:  29.1153846154\n",
      "Average rentals:  29.3846153846\n",
      "Average of average number rentals per visit:  2.81538\n",
      "\n",
      "Std dev of income:  21294.6\n",
      "Std dev of age:  10.6638386907\n",
      "Std dev of number of rentals:  9.51143814685\n",
      "Std dev of average number rentals per visit:  0.768461\n",
      "\n",
      "Stats on customers in general:\n",
      "\n",
      "Average income:  42300.0\n",
      "Average age:  31.56\n",
      "Average rentals:  26.32\n",
      "Average of average rentals per visit:  2.748\n",
      "\n",
      "Std dev of income:  21194.6\n",
      "Std dev of age:  11.8796632949\n",
      "Std dev of rentals:  9.94673815881\n",
      "Std dev of average rentals per visit:  0.889098419749\n"
     ]
    }
   ],
   "source": [
    "print \"Stats on customers buying incidentals:\"\n",
    "print\n",
    "print \"Average income: \", avg_income_incidental_custs\n",
    "print \"Average age: \", avg_age_incidental_custs\n",
    "print \"Average rentals: \", avg_rentals_incidental_custs\n",
    "print \"Average of average number rentals per visit: \", avg_avg_rentals_per_visit_incidental_custs\n",
    "print\n",
    "print \"Std dev of income: \", std_dev_income_incidental_custs\n",
    "print \"Std dev of age: \", std_dev_age_incidental_custs\n",
    "print \"Std dev of number of rentals: \", std_dev_rentals_incidental_custs\n",
    "print \"Std dev of average number rentals per visit: \", std_dev_rentals_per_visit_incidental_custs\n",
    "print\n",
    "print \"Stats on customers in general:\"\n",
    "print\n",
    "print \"Average income: \", avg_income\n",
    "print \"Average age: \" , avg_age\n",
    "print \"Average rentals: \", avg_rentals\n",
    "print \"Average of average rentals per visit: \" , avg_avg_per_visit\n",
    "print\n",
    "print \"Std dev of income: \", incomes.std()\n",
    "print \"Std dev of age: \", ages.std()\n",
    "print \"Std dev of rentals: \", rentals.std()\n",
    "print \"Std dev of average rentals per visit: \", avg_visits.std()"
   ]
  },
  {
   "cell_type": "code",
   "execution_count": 16,
   "metadata": {
    "collapsed": false
   },
   "outputs": [],
   "source": [
    "gender_incidentals_count = [0 for x in range(2)]\n",
    "gender_incidentals = array(incidental_custs[:,1], dtype=\"|S1\")\n",
    "\n",
    "for gi in gender_incidentals:\n",
    "    if(gi == 'M'):\n",
    "        gender_incidentals_count[0] = gender_incidentals_count[0] + 1\n",
    "    else:\n",
    "        gender_incidentals_count[1] = gender_incidentals_count[1] + 1\n",
    "\n",
    "# Bar chart for genders for customers buying incidentals\n",
    "#TODO - Increase range of y-axis\n",
    "\n",
    "N=2\n",
    "ind=np.arange(N)\n",
    "width=.15\n",
    "fig, ax = plt.subplots()\n",
    "\n",
    "ay=ax\n",
    "rects1 = ax.bar(ind, gender_incidentals_count, width, color='r')\n",
    "\n",
    "ax.set_title('Gender Distribution for Customers Buying Incidentals')\n",
    "ax.set_xticks(ind+width)\n",
    "ax.set_xticklabels( ('M', 'F') )\n",
    "\n",
    "def autolabel(rects):\n",
    "    # attach some text labels\n",
    "    for rect in rects:\n",
    "        height = rect.get_height()\n",
    "        ax.text(rect.get_x()+rect.get_width()/2., 1.05*height, '%d'%int(height),\n",
    "                ha='center', va='bottom')\n",
    "\n",
    "autolabel(rects1)\n",
    "plt.show()"
   ]
  },
  {
   "cell_type": "code",
   "execution_count": 17,
   "metadata": {
    "collapsed": false
   },
   "outputs": [],
   "source": [
    "from IPython.display import Image\n",
    "#Image(filename='Genders_Incidentals.png')"
   ]
  },
  {
   "cell_type": "code",
   "execution_count": 18,
   "metadata": {
    "collapsed": false
   },
   "outputs": [],
   "source": [
    "genre_incidentals = array(incidental_custs[:,7], dtype=\"|S10\")\n",
    "genre_incidental_count=[0 for x in range(3)]\n",
    "\n",
    "for gic in genre_incidentals:\n",
    "    if(gic == 'Action'):\n",
    "        genre_incidental_count[0] = genre_incidental_count[0] + 1\n",
    "    elif(gic == 'Comedy'):\n",
    "        genre_incidental_count[1] = genre_incidental_count[1] + 1\n",
    "    else:\n",
    "        genre_incidental_count[2] = genre_incidental_count[2] + 1\n",
    "\n",
    "# Bar chart for genres of customers buying incidentals\n",
    "#TODO - Increase range of y-axis\n",
    "\n",
    "N=3\n",
    "ind=np.arange(N)\n",
    "width=.15\n",
    "fig, ax = plt.subplots()\n",
    "\n",
    "rects1 = ax.bar(ind, genre_incidental_count, width, color='r')\n",
    "\n",
    "ax.set_title('Genre Distribution for Customers Buying Incidentals')\n",
    "ax.set_xticks(ind+width)\n",
    "ax.set_xticklabels( ('Action', 'Comedy', 'Drama') )\n",
    "\n",
    "def autolabel(rects):\n",
    "    # attach some text labels\n",
    "    for rect in rects:\n",
    "        height = rect.get_height()\n",
    "        ax.text(rect.get_x()+rect.get_width()/2., 1.05*height, '%d'%int(height),\n",
    "                ha='center', va='bottom')\n",
    "\n",
    "autolabel(rects1)\n",
    "plt.show()"
   ]
  },
  {
   "cell_type": "code",
   "execution_count": 19,
   "metadata": {
    "collapsed": false
   },
   "outputs": [],
   "source": [
    "from IPython.display import Image\n",
    "#Image(filename='Genres_Incidentals.png')"
   ]
  },
  {
   "cell_type": "markdown",
   "metadata": {},
   "source": [
    "Question #3 - z-Normalization"
   ]
  },
  {
   "cell_type": "code",
   "execution_count": 20,
   "metadata": {
    "collapsed": false
   },
   "outputs": [
    {
     "name": "stdout",
     "output_type": "stream",
     "text": [
      "Rentals Mean:  26.32\n",
      "Rentals Std Dev:  9.94673815881\n",
      "\n",
      "Original Rentals Attribute:\n",
      "\n",
      "[32 12 42 16 25 29 19 31 18 21 48 32 14 24 36 26 28 39 41 23 11 16 30 22 25\n",
      " 40 32 22 37 17 15 21 28 19 43 34 12 20 19 32 17 26 48 24 30  9 22 14 42 33]\n",
      "\n",
      "z-score Normalization:\n",
      "\n",
      "[ 0.57104147 -1.43966794  1.57639618 -1.03752605 -0.13270682  0.26943506\n",
      " -0.73591964  0.470506   -0.83645511 -0.5348487   2.179609    0.57104147\n",
      " -1.238597   -0.23324229  0.97318335 -0.03217135  0.16889959  1.27478977\n",
      "  1.47586071 -0.33377776 -1.54020341 -1.03752605  0.36997053 -0.43431323\n",
      " -0.13270682  1.37532524  0.57104147 -0.43431323  1.07371882 -0.93699058\n",
      " -1.13806153 -0.5348487   0.16889959 -0.73591964  1.67693165  0.77211241\n",
      " -1.43966794 -0.63538417 -0.73591964  0.57104147 -0.93699058 -0.03217135\n",
      "  2.179609   -0.23324229  0.36997053 -1.74127435 -0.43431323 -1.238597\n",
      "  1.57639618  0.67157694]\n"
     ]
    }
   ],
   "source": [
    "rentals_mean =rentals.mean()\n",
    "rentals_std = rentals.std()\n",
    "print \"Rentals Mean: \", rentals_mean \n",
    "print \"Rentals Std Dev: \", rentals_std\n",
    "print\n",
    "rentals_znorm = (rentals - rentals_mean) / rentals_std\n",
    "print \"Original Rentals Attribute:\"\n",
    "print\n",
    "print rentals\n",
    "print\n",
    "print \"z-score Normalization:\"\n",
    "print\n",
    "print rentals_znorm"
   ]
  },
  {
   "cell_type": "markdown",
   "metadata": {},
   "source": [
    "Question #4 - Min-Max Normalization"
   ]
  },
  {
   "cell_type": "code",
   "execution_count": 21,
   "metadata": {
    "collapsed": false
   },
   "outputs": [
    {
     "name": "stdout",
     "output_type": "stream",
     "text": [
      "Income\n",
      "[ 45000.  54000.  32000.  59000.  37000.  18000.  29000.  74000.  38000.\n",
      "  65000.  41000.  26000.  83000.  45000.  68000.  17000.  36000.   6000.\n",
      "  24000.  12000.  47000.  25000.   2000.  79000.   1000.  56000.  62000.\n",
      "  57000.  15000.  41000.  49000.  47000.  23000.  29000.  74000.  29000.\n",
      "  89000.  41000.  68000.  17000.  50000.  32000.  49000.  35000.  56000.\n",
      "  57000.  69000.  52000.  31000.  24000.]\n",
      "Age\n",
      "[ 25.  33.  20.  70.  35.  20.  45.  25.  21.  40.  22.  22.  46.  36.  30.\n",
      "  19.  35.  16.  25.  16.  52.  33.  15.  35.  16.  35.  47.  52.  18.  25.\n",
      "  56.  30.  25.  32.  29.  21.  46.  38.  35.  19.  33.  25.  28.  24.  38.\n",
      "  43.  35.  47.  25.  20.]\n",
      "Rentals\n",
      "[ 32.  12.  42.  16.  25.  29.  19.  31.  18.  21.  48.  32.  14.  24.  36.\n",
      "  26.  28.  39.  41.  23.  11.  16.  30.  22.  25.  40.  32.  22.  37.  17.\n",
      "  15.  21.  28.  19.  43.  34.  12.  20.  19.  32.  17.  26.  48.  24.  30.\n",
      "   9.  22.  14.  42.  33.]\n",
      "Average Rentals Per Visit\n",
      "[ 2.5  3.4  1.6  4.2  3.2  1.7  3.8  2.4  2.1  3.3  2.3  2.9  3.6  2.7  2.7\n",
      "  2.2  3.5  1.8  3.1  2.2  3.1  2.9  2.5  3.8  1.4  2.6  3.6  4.1  2.1  1.4\n",
      "  3.2  3.1  2.7  2.9  4.6  2.3  1.2  3.3  3.9  1.8  1.4  2.2  3.3  1.7  3.5\n",
      "  1.1  2.8  1.6  3.4  4.7]\n"
     ]
    }
   ],
   "source": [
    "incomes=array(vstable[:,2], dtype=float32)\n",
    "print \"Income\"\n",
    "print incomes\n",
    "\n",
    "ages=array(vstable[:,3], dtype=float)\n",
    "print \"Age\"\n",
    "print ages\n",
    "\n",
    "rentals=array(vstable[:,4], dtype=float32)\n",
    "print \"Rentals\"\n",
    "print rentals\n",
    "\n",
    "avg_visits=array(vstable[:,5], dtype=float)\n",
    "print \"Average Rentals Per Visit\"\n",
    "print avg_visits"
   ]
  },
  {
   "cell_type": "code",
   "execution_count": 22,
   "metadata": {
    "collapsed": false
   },
   "outputs": [
    {
     "name": "stdout",
     "output_type": "stream",
     "text": [
      "Income range:  1000.0 89000.0\n",
      "Age range:  15.0 70.0\n",
      "Rentals range:  9.0 48.0\n",
      "Avg rentals per visit range:  1.1 4.7\n"
     ]
    }
   ],
   "source": [
    "min_income = incomes.min()\n",
    "max_income = incomes.max()\n",
    "\n",
    "min_age = ages.min()\n",
    "max_age = ages.max()\n",
    "\n",
    "min_rentals = rentals.min()\n",
    "max_rentals = rentals.max()\n",
    "\n",
    "min_avg_rentals_per_visit = avg_visits.min()\n",
    "max_avg_rentals_per_visit = avg_visits.max()\n",
    "\n",
    "print \"Income range: \", min_income, max_income\n",
    "print \"Age range: \" , min_age, max_age\n",
    "print \"Rentals range: \", min_rentals, max_rentals\n",
    "print \"Avg rentals per visit range: \", min_avg_rentals_per_visit, max_avg_rentals_per_visit"
   ]
  },
  {
   "cell_type": "code",
   "execution_count": 23,
   "metadata": {
    "collapsed": false
   },
   "outputs": [
    {
     "name": "stdout",
     "output_type": "stream",
     "text": [
      "[ 0.5         0.60227275  0.35227272  0.65909094  0.40909091  0.19318181\n",
      "  0.31818181  0.82954544  0.42045453  0.72727275  0.45454547  0.28409091\n",
      "  0.93181819  0.5         0.76136363  0.18181819  0.39772728  0.05681818\n",
      "  0.26136363  0.125       0.52272725  0.27272728  0.01136364  0.88636363\n",
      "  0.          0.625       0.69318181  0.63636363  0.15909091  0.45454547\n",
      "  0.54545456  0.52272725  0.25        0.31818181  0.82954544  0.31818181\n",
      "  1.          0.45454547  0.76136363  0.18181819  0.55681819  0.35227272\n",
      "  0.54545456  0.38636363  0.625       0.63636363  0.77272725  0.57954544\n",
      "  0.34090909  0.26136363]\n"
     ]
    }
   ],
   "source": [
    "income_range = max_income - min_income\n",
    "norm_income = (incomes - min_income) / income_range\n",
    "print norm_income\n",
    "\n",
    "#norm_income = [(x-min_income) / (max_income-min_income) for x in income]\n",
    "#print norm_income\n"
   ]
  },
  {
   "cell_type": "code",
   "execution_count": 24,
   "metadata": {
    "collapsed": false
   },
   "outputs": [
    {
     "name": "stdout",
     "output_type": "stream",
     "text": [
      "[ 0.18181818  0.32727273  0.09090909  1.          0.36363636  0.09090909\n",
      "  0.54545455  0.18181818  0.10909091  0.45454545  0.12727273  0.12727273\n",
      "  0.56363636  0.38181818  0.27272727  0.07272727  0.36363636  0.01818182\n",
      "  0.18181818  0.01818182  0.67272727  0.32727273  0.          0.36363636\n",
      "  0.01818182  0.36363636  0.58181818  0.67272727  0.05454545  0.18181818\n",
      "  0.74545455  0.27272727  0.18181818  0.30909091  0.25454545  0.10909091\n",
      "  0.56363636  0.41818182  0.36363636  0.07272727  0.32727273  0.18181818\n",
      "  0.23636364  0.16363636  0.41818182  0.50909091  0.36363636  0.58181818\n",
      "  0.18181818  0.09090909]\n"
     ]
    }
   ],
   "source": [
    "age_range = max_age - min_age\n",
    "norm_age = (ages - min_age) / age_range\n",
    "print norm_age"
   ]
  },
  {
   "cell_type": "code",
   "execution_count": 25,
   "metadata": {
    "collapsed": false
   },
   "outputs": [
    {
     "name": "stdout",
     "output_type": "stream",
     "text": [
      "[ 0.58974361  0.07692308  0.84615386  0.17948718  0.41025642  0.51282054\n",
      "  0.25641027  0.56410259  0.23076923  0.30769232  1.          0.58974361\n",
      "  0.12820514  0.38461539  0.69230771  0.43589744  0.48717949  0.76923078\n",
      "  0.82051283  0.35897437  0.05128205  0.17948718  0.53846157  0.33333334\n",
      "  0.41025642  0.79487181  0.58974361  0.33333334  0.71794873  0.20512821\n",
      "  0.15384616  0.30769232  0.48717949  0.25641027  0.87179488  0.64102566\n",
      "  0.07692308  0.2820513   0.25641027  0.58974361  0.20512821  0.43589744\n",
      "  1.          0.38461539  0.53846157  0.          0.33333334  0.12820514\n",
      "  0.84615386  0.61538464]\n"
     ]
    }
   ],
   "source": [
    "rentals_range = max_rentals - min_rentals\n",
    "norm_rentals = (rentals - min_rentals) / rentals_range\n",
    "print norm_rentals"
   ]
  },
  {
   "cell_type": "code",
   "execution_count": 26,
   "metadata": {
    "collapsed": false
   },
   "outputs": [
    {
     "name": "stdout",
     "output_type": "stream",
     "text": [
      "[ 0.38888889  0.63888889  0.13888889  0.86111111  0.58333333  0.16666667\n",
      "  0.75        0.36111111  0.27777778  0.61111111  0.33333333  0.5\n",
      "  0.69444444  0.44444444  0.44444444  0.30555556  0.66666667  0.19444444\n",
      "  0.55555556  0.30555556  0.55555556  0.5         0.38888889  0.75\n",
      "  0.08333333  0.41666667  0.69444444  0.83333333  0.27777778  0.08333333\n",
      "  0.58333333  0.55555556  0.44444444  0.5         0.97222222  0.33333333\n",
      "  0.02777778  0.61111111  0.77777778  0.19444444  0.08333333  0.30555556\n",
      "  0.61111111  0.16666667  0.66666667  0.          0.47222222  0.13888889\n",
      "  0.63888889  1.        ]\n"
     ]
    }
   ],
   "source": [
    "rentals_per_visit_range = max_avg_rentals_per_visit - min_avg_rentals_per_visit\n",
    "norm_rentals_per_visit = (avg_visits - min_avg_rentals_per_visit) / rentals_per_visit_range\n",
    "print norm_rentals_per_visit"
   ]
  },
  {
   "cell_type": "markdown",
   "metadata": {},
   "source": [
    "Question #5 - Spreadsheet Format"
   ]
  },
  {
   "cell_type": "code",
   "execution_count": 27,
   "metadata": {
    "collapsed": false
   },
   "outputs": [
    {
     "name": "stdout",
     "output_type": "stream",
     "text": [
      "['M' 'F' 'F' 'F' 'M' 'M' 'F' 'M' 'M' 'F' 'F' 'F' 'M' 'M' 'M' 'M' 'M' 'F'\n",
      " 'F' 'M' 'F' 'M' 'F' 'F' 'M' 'F' 'F' 'M' 'F' 'M' 'F' 'M' 'M' 'F' 'M' 'F'\n",
      " 'M' 'M' 'F' 'M' 'F' 'M' 'F' 'M' 'M' 'F' 'F' 'F' 'M' 'M']\n"
     ]
    }
   ],
   "source": [
    "genders=array(vstable[:,1], dtype=\"|S1\")\n",
    "print genders"
   ]
  },
  {
   "cell_type": "code",
   "execution_count": 28,
   "metadata": {
    "collapsed": false
   },
   "outputs": [
    {
     "name": "stdout",
     "output_type": "stream",
     "text": [
      "['M' 'F' 'F' 'F' 'M' 'M' 'F' 'M' 'M' 'F' 'F' 'F' 'M' 'M' 'M' 'M' 'M' 'F'\n",
      " 'F' 'M' 'F' 'M' 'F' 'F' 'M' 'F' 'F' 'M' 'F' 'M' 'F' 'M' 'M' 'F' 'M' 'F'\n",
      " 'M' 'M' 'F' 'M' 'F' 'M' 'F' 'M' 'M' 'F' 'F' 'F' 'M' 'M']\n",
      "50\n",
      "[ 1.  0.  0.  0.  1.  1.  0.  1.  1.  0.  0.  0.  1.  1.  1.  1.  1.  0.\n",
      "  0.  1.  0.  1.  0.  0.  1.  0.  0.  1.  0.  1.  0.  1.  1.  0.  1.  0.\n",
      "  1.  1.  0.  1.  0.  1.  0.  1.  1.  0.  0.  0.  1.  1.]\n",
      "50\n",
      "[ 0.  1.  1.  1.  0.  0.  1.  0.  0.  1.  1.  1.  0.  0.  0.  0.  0.  1.\n",
      "  1.  0.  1.  0.  1.  1.  0.  1.  1.  0.  1.  0.  1.  0.  0.  1.  0.  1.\n",
      "  0.  0.  1.  0.  1.  0.  1.  0.  0.  1.  1.  1.  0.  0.]\n",
      "50\n"
     ]
    }
   ],
   "source": [
    "genders=array(vstable[:,1], dtype=\"|S1\")\n",
    "print genders\n",
    "print genders.size\n",
    "gen_m = zeros(len(genders))\n",
    "gen_m[genders=='M'] = 1\n",
    "gen_f=zeros(len(genders))\n",
    "gen_f[genders=='F'] = 1\n",
    "print gen_m\n",
    "print gen_m.size\n",
    "print gen_f\n",
    "print gen_f.size\n",
    "isMale = np.array(genders =='M')\n",
    "isFemale = np.array(genders == 'F')\n",
    "#print isMale\n",
    "males = np.array(vstable[isMale])\n",
    "#print males"
   ]
  },
  {
   "cell_type": "code",
   "execution_count": 29,
   "metadata": {
    "collapsed": false
   },
   "outputs": [
    {
     "name": "stdout",
     "output_type": "stream",
     "text": [
      "[ 1.  0.  0.  1.  1.  0.  0.  1.  0.  0.  1.  1.  0.  0.  1.  1.  1.  1.\n",
      "  0.  1.  0.  1.  0.  1.  1.  1.  0.  0.  1.  1.  0.  1.  0.  1.  1.  0.\n",
      "  0.  1.  0.  0.  0.  1.  1.  0.  1.  0.  1.  0.  1.  0.]\n",
      "[ 0.  1.  1.  0.  0.  1.  1.  0.  1.  1.  0.  0.  1.  1.  0.  0.  0.  0.\n",
      "  1.  0.  1.  0.  1.  0.  0.  0.  1.  1.  0.  0.  1.  0.  1.  0.  0.  1.\n",
      "  1.  0.  1.  1.  1.  0.  0.  1.  0.  1.  0.  1.  0.  1.]\n",
      "50\n",
      "50\n"
     ]
    }
   ],
   "source": [
    "incidentals=array(vstable[:,6], dtype=\"|S3\")\n",
    "incidental_numbers_yes = zeros(len(incidentals))\n",
    "incidental_numbers_yes[incidentals == \"Yes\"] = 1\n",
    "incidental_numbers_no = zeros(len(incidentals))\n",
    "incidental_numbers_no[incidentals == \"No\"] = 1\n",
    "print incidental_numbers_yes\n",
    "print incidental_numbers_no\n",
    "print incidental_numbers_yes.size\n",
    "print incidental_numbers_no.size"
   ]
  },
  {
   "cell_type": "code",
   "execution_count": 30,
   "metadata": {
    "collapsed": false
   },
   "outputs": [
    {
     "name": "stdout",
     "output_type": "stream",
     "text": [
      "[ 1.  0.  0.  0.  1.  1.  0.  1.  0.  0.  0.  1.  0.  0.  0.  1.  0.  1.\n",
      "  0.  1.  0.  0.  0.  0.  0.  1.  0.  0.  1.  1.  0.  0.  1.  1.  1.  0.\n",
      "  0.  0.  0.  1.  0.  1.  0.  0.  0.  0.  0.  0.  1.  1.]\n",
      "50\n",
      "[ 0.  0.  1.  0.  0.  0.  0.  0.  1.  0.  0.  0.  1.  0.  1.  0.  0.  0.\n",
      "  1.  0.  0.  0.  1.  0.  1.  0.  0.  1.  0.  0.  1.  0.  0.  0.  0.  1.\n",
      "  1.  0.  1.  0.  0.  0.  0.  0.  0.  0.  0.  0.  0.  0.]\n",
      "50\n",
      "[ 0.  1.  0.  1.  0.  0.  1.  0.  0.  1.  1.  0.  0.  1.  0.  0.  1.  0.\n",
      "  0.  0.  1.  1.  0.  1.  0.  0.  1.  0.  0.  0.  0.  1.  0.  0.  0.  0.\n",
      "  0.  1.  0.  0.  1.  0.  1.  1.  1.  1.  1.  1.  0.  0.]\n",
      "50\n",
      "[ 1  2  3  4  5  6  7  8  9 10 11 12 13 14 15 16 17 18 19 20 21 22 23 24 25\n",
      " 26 27 28 29 30 31 32 33 34 35 36 37 38 39 40 41 42 43 44 45 46 47 48 49 50]\n"
     ]
    }
   ],
   "source": [
    "genres=array(vstable[:,7], dtype=\"|S10\")\n",
    "\n",
    "genre_numbers_action = zeros(len(genres))\n",
    "genre_numbers_action[genres == 'Action'] = 1\n",
    "print genre_numbers_action\n",
    "print genre_numbers_action.size\n",
    "\n",
    "genre_numbers_comedy = zeros(len(genres))\n",
    "genre_numbers_comedy[genres == 'Comedy'] = 1\n",
    "print genre_numbers_comedy\n",
    "print genre_numbers_comedy.size\n",
    "\n",
    "genre_numbers_drama = zeros(len(genres))\n",
    "genre_numbers_drama[genres == 'Drama'] = 1\n",
    "print genre_numbers_drama\n",
    "print genre_numbers_drama.size\n",
    "\n",
    "customer_id=array(vstable[:,0], dtype=int)\n",
    "print customer_id"
   ]
  },
  {
   "cell_type": "code",
   "execution_count": 31,
   "metadata": {
    "collapsed": false
   },
   "outputs": [
    {
     "name": "stdout",
     "output_type": "stream",
     "text": [
      "[[  1.00000000e+00   0.00000000e+00   1.00000000e+00   4.50000000e+04\n",
      "    2.50000000e+01   3.20000000e+01   2.50000000e+00   1.00000000e+00\n",
      "    0.00000000e+00   1.00000000e+00   0.00000000e+00   0.00000000e+00]\n",
      " [  2.00000000e+00   1.00000000e+00   0.00000000e+00   5.40000000e+04\n",
      "    3.30000000e+01   1.20000000e+01   3.40000000e+00   0.00000000e+00\n",
      "    1.00000000e+00   0.00000000e+00   0.00000000e+00   1.00000000e+00]\n",
      " [  3.00000000e+00   1.00000000e+00   0.00000000e+00   3.20000000e+04\n",
      "    2.00000000e+01   4.20000000e+01   1.60000000e+00   0.00000000e+00\n",
      "    1.00000000e+00   0.00000000e+00   1.00000000e+00   0.00000000e+00]\n",
      " [  4.00000000e+00   1.00000000e+00   0.00000000e+00   5.90000000e+04\n",
      "    7.00000000e+01   1.60000000e+01   4.20000000e+00   1.00000000e+00\n",
      "    0.00000000e+00   0.00000000e+00   0.00000000e+00   1.00000000e+00]\n",
      " [  5.00000000e+00   0.00000000e+00   1.00000000e+00   3.70000000e+04\n",
      "    3.50000000e+01   2.50000000e+01   3.20000000e+00   1.00000000e+00\n",
      "    0.00000000e+00   1.00000000e+00   0.00000000e+00   0.00000000e+00]\n",
      " [  6.00000000e+00   0.00000000e+00   1.00000000e+00   1.80000000e+04\n",
      "    2.00000000e+01   2.90000000e+01   1.70000000e+00   0.00000000e+00\n",
      "    1.00000000e+00   1.00000000e+00   0.00000000e+00   0.00000000e+00]\n",
      " [  7.00000000e+00   1.00000000e+00   0.00000000e+00   2.90000000e+04\n",
      "    4.50000000e+01   1.90000000e+01   3.80000000e+00   0.00000000e+00\n",
      "    1.00000000e+00   0.00000000e+00   0.00000000e+00   1.00000000e+00]\n",
      " [  8.00000000e+00   0.00000000e+00   1.00000000e+00   7.40000000e+04\n",
      "    2.50000000e+01   3.10000000e+01   2.40000000e+00   1.00000000e+00\n",
      "    0.00000000e+00   1.00000000e+00   0.00000000e+00   0.00000000e+00]\n",
      " [  9.00000000e+00   0.00000000e+00   1.00000000e+00   3.80000000e+04\n",
      "    2.10000000e+01   1.80000000e+01   2.10000000e+00   0.00000000e+00\n",
      "    1.00000000e+00   0.00000000e+00   1.00000000e+00   0.00000000e+00]\n",
      " [  1.00000000e+01   1.00000000e+00   0.00000000e+00   6.50000000e+04\n",
      "    4.00000000e+01   2.10000000e+01   3.30000000e+00   0.00000000e+00\n",
      "    1.00000000e+00   0.00000000e+00   0.00000000e+00   1.00000000e+00]\n",
      " [  1.10000000e+01   1.00000000e+00   0.00000000e+00   4.10000000e+04\n",
      "    2.20000000e+01   4.80000000e+01   2.30000000e+00   1.00000000e+00\n",
      "    0.00000000e+00   0.00000000e+00   0.00000000e+00   1.00000000e+00]\n",
      " [  1.20000000e+01   1.00000000e+00   0.00000000e+00   2.60000000e+04\n",
      "    2.20000000e+01   3.20000000e+01   2.90000000e+00   1.00000000e+00\n",
      "    0.00000000e+00   1.00000000e+00   0.00000000e+00   0.00000000e+00]\n",
      " [  1.30000000e+01   0.00000000e+00   1.00000000e+00   8.30000000e+04\n",
      "    4.60000000e+01   1.40000000e+01   3.60000000e+00   0.00000000e+00\n",
      "    1.00000000e+00   0.00000000e+00   1.00000000e+00   0.00000000e+00]\n",
      " [  1.40000000e+01   0.00000000e+00   1.00000000e+00   4.50000000e+04\n",
      "    3.60000000e+01   2.40000000e+01   2.70000000e+00   0.00000000e+00\n",
      "    1.00000000e+00   0.00000000e+00   0.00000000e+00   1.00000000e+00]\n",
      " [  1.50000000e+01   0.00000000e+00   1.00000000e+00   6.80000000e+04\n",
      "    3.00000000e+01   3.60000000e+01   2.70000000e+00   1.00000000e+00\n",
      "    0.00000000e+00   0.00000000e+00   1.00000000e+00   0.00000000e+00]\n",
      " [  1.60000000e+01   0.00000000e+00   1.00000000e+00   1.70000000e+04\n",
      "    1.90000000e+01   2.60000000e+01   2.20000000e+00   1.00000000e+00\n",
      "    0.00000000e+00   1.00000000e+00   0.00000000e+00   0.00000000e+00]\n",
      " [  1.70000000e+01   0.00000000e+00   1.00000000e+00   3.60000000e+04\n",
      "    3.50000000e+01   2.80000000e+01   3.50000000e+00   1.00000000e+00\n",
      "    0.00000000e+00   0.00000000e+00   0.00000000e+00   1.00000000e+00]\n",
      " [  1.80000000e+01   1.00000000e+00   0.00000000e+00   6.00000000e+03\n",
      "    1.60000000e+01   3.90000000e+01   1.80000000e+00   1.00000000e+00\n",
      "    0.00000000e+00   1.00000000e+00   0.00000000e+00   0.00000000e+00]\n",
      " [  1.90000000e+01   1.00000000e+00   0.00000000e+00   2.40000000e+04\n",
      "    2.50000000e+01   4.10000000e+01   3.10000000e+00   0.00000000e+00\n",
      "    1.00000000e+00   0.00000000e+00   1.00000000e+00   0.00000000e+00]\n",
      " [  2.00000000e+01   0.00000000e+00   1.00000000e+00   1.20000000e+04\n",
      "    1.60000000e+01   2.30000000e+01   2.20000000e+00   1.00000000e+00\n",
      "    0.00000000e+00   1.00000000e+00   0.00000000e+00   0.00000000e+00]\n",
      " [  2.10000000e+01   1.00000000e+00   0.00000000e+00   4.70000000e+04\n",
      "    5.20000000e+01   1.10000000e+01   3.10000000e+00   0.00000000e+00\n",
      "    1.00000000e+00   0.00000000e+00   0.00000000e+00   1.00000000e+00]\n",
      " [  2.20000000e+01   0.00000000e+00   1.00000000e+00   2.50000000e+04\n",
      "    3.30000000e+01   1.60000000e+01   2.90000000e+00   1.00000000e+00\n",
      "    0.00000000e+00   0.00000000e+00   0.00000000e+00   1.00000000e+00]\n",
      " [  2.30000000e+01   1.00000000e+00   0.00000000e+00   2.00000000e+03\n",
      "    1.50000000e+01   3.00000000e+01   2.50000000e+00   0.00000000e+00\n",
      "    1.00000000e+00   0.00000000e+00   1.00000000e+00   0.00000000e+00]\n",
      " [  2.40000000e+01   1.00000000e+00   0.00000000e+00   7.90000000e+04\n",
      "    3.50000000e+01   2.20000000e+01   3.80000000e+00   1.00000000e+00\n",
      "    0.00000000e+00   0.00000000e+00   0.00000000e+00   1.00000000e+00]\n",
      " [  2.50000000e+01   0.00000000e+00   1.00000000e+00   1.00000000e+03\n",
      "    1.60000000e+01   2.50000000e+01   1.40000000e+00   1.00000000e+00\n",
      "    0.00000000e+00   0.00000000e+00   1.00000000e+00   0.00000000e+00]\n",
      " [  2.60000000e+01   1.00000000e+00   0.00000000e+00   5.60000000e+04\n",
      "    3.50000000e+01   4.00000000e+01   2.60000000e+00   1.00000000e+00\n",
      "    0.00000000e+00   1.00000000e+00   0.00000000e+00   0.00000000e+00]\n",
      " [  2.70000000e+01   1.00000000e+00   0.00000000e+00   6.20000000e+04\n",
      "    4.70000000e+01   3.20000000e+01   3.60000000e+00   0.00000000e+00\n",
      "    1.00000000e+00   0.00000000e+00   0.00000000e+00   1.00000000e+00]\n",
      " [  2.80000000e+01   0.00000000e+00   1.00000000e+00   5.70000000e+04\n",
      "    5.20000000e+01   2.20000000e+01   4.10000000e+00   0.00000000e+00\n",
      "    1.00000000e+00   0.00000000e+00   1.00000000e+00   0.00000000e+00]\n",
      " [  2.90000000e+01   1.00000000e+00   0.00000000e+00   1.50000000e+04\n",
      "    1.80000000e+01   3.70000000e+01   2.10000000e+00   1.00000000e+00\n",
      "    0.00000000e+00   1.00000000e+00   0.00000000e+00   0.00000000e+00]\n",
      " [  3.00000000e+01   0.00000000e+00   1.00000000e+00   4.10000000e+04\n",
      "    2.50000000e+01   1.70000000e+01   1.40000000e+00   1.00000000e+00\n",
      "    0.00000000e+00   1.00000000e+00   0.00000000e+00   0.00000000e+00]\n",
      " [  3.10000000e+01   1.00000000e+00   0.00000000e+00   4.90000000e+04\n",
      "    5.60000000e+01   1.50000000e+01   3.20000000e+00   0.00000000e+00\n",
      "    1.00000000e+00   0.00000000e+00   1.00000000e+00   0.00000000e+00]\n",
      " [  3.20000000e+01   0.00000000e+00   1.00000000e+00   4.70000000e+04\n",
      "    3.00000000e+01   2.10000000e+01   3.10000000e+00   1.00000000e+00\n",
      "    0.00000000e+00   0.00000000e+00   0.00000000e+00   1.00000000e+00]\n",
      " [  3.30000000e+01   0.00000000e+00   1.00000000e+00   2.30000000e+04\n",
      "    2.50000000e+01   2.80000000e+01   2.70000000e+00   0.00000000e+00\n",
      "    1.00000000e+00   1.00000000e+00   0.00000000e+00   0.00000000e+00]\n",
      " [  3.40000000e+01   1.00000000e+00   0.00000000e+00   2.90000000e+04\n",
      "    3.20000000e+01   1.90000000e+01   2.90000000e+00   1.00000000e+00\n",
      "    0.00000000e+00   1.00000000e+00   0.00000000e+00   0.00000000e+00]\n",
      " [  3.50000000e+01   0.00000000e+00   1.00000000e+00   7.40000000e+04\n",
      "    2.90000000e+01   4.30000000e+01   4.60000000e+00   1.00000000e+00\n",
      "    0.00000000e+00   1.00000000e+00   0.00000000e+00   0.00000000e+00]\n",
      " [  3.60000000e+01   1.00000000e+00   0.00000000e+00   2.90000000e+04\n",
      "    2.10000000e+01   3.40000000e+01   2.30000000e+00   0.00000000e+00\n",
      "    1.00000000e+00   0.00000000e+00   1.00000000e+00   0.00000000e+00]\n",
      " [  3.70000000e+01   0.00000000e+00   1.00000000e+00   8.90000000e+04\n",
      "    4.60000000e+01   1.20000000e+01   1.20000000e+00   0.00000000e+00\n",
      "    1.00000000e+00   0.00000000e+00   1.00000000e+00   0.00000000e+00]\n",
      " [  3.80000000e+01   0.00000000e+00   1.00000000e+00   4.10000000e+04\n",
      "    3.80000000e+01   2.00000000e+01   3.30000000e+00   1.00000000e+00\n",
      "    0.00000000e+00   0.00000000e+00   0.00000000e+00   1.00000000e+00]\n",
      " [  3.90000000e+01   1.00000000e+00   0.00000000e+00   6.80000000e+04\n",
      "    3.50000000e+01   1.90000000e+01   3.90000000e+00   0.00000000e+00\n",
      "    1.00000000e+00   0.00000000e+00   1.00000000e+00   0.00000000e+00]\n",
      " [  4.00000000e+01   0.00000000e+00   1.00000000e+00   1.70000000e+04\n",
      "    1.90000000e+01   3.20000000e+01   1.80000000e+00   0.00000000e+00\n",
      "    1.00000000e+00   1.00000000e+00   0.00000000e+00   0.00000000e+00]\n",
      " [  4.10000000e+01   1.00000000e+00   0.00000000e+00   5.00000000e+04\n",
      "    3.30000000e+01   1.70000000e+01   1.40000000e+00   0.00000000e+00\n",
      "    1.00000000e+00   0.00000000e+00   0.00000000e+00   1.00000000e+00]\n",
      " [  4.20000000e+01   0.00000000e+00   1.00000000e+00   3.20000000e+04\n",
      "    2.50000000e+01   2.60000000e+01   2.20000000e+00   1.00000000e+00\n",
      "    0.00000000e+00   1.00000000e+00   0.00000000e+00   0.00000000e+00]\n",
      " [  4.30000000e+01   1.00000000e+00   0.00000000e+00   4.90000000e+04\n",
      "    2.80000000e+01   4.80000000e+01   3.30000000e+00   1.00000000e+00\n",
      "    0.00000000e+00   0.00000000e+00   0.00000000e+00   1.00000000e+00]\n",
      " [  4.40000000e+01   0.00000000e+00   1.00000000e+00   3.50000000e+04\n",
      "    2.40000000e+01   2.40000000e+01   1.70000000e+00   0.00000000e+00\n",
      "    1.00000000e+00   0.00000000e+00   0.00000000e+00   1.00000000e+00]\n",
      " [  4.50000000e+01   0.00000000e+00   1.00000000e+00   5.60000000e+04\n",
      "    3.80000000e+01   3.00000000e+01   3.50000000e+00   1.00000000e+00\n",
      "    0.00000000e+00   0.00000000e+00   0.00000000e+00   1.00000000e+00]\n",
      " [  4.60000000e+01   1.00000000e+00   0.00000000e+00   5.70000000e+04\n",
      "    4.30000000e+01   9.00000000e+00   1.10000000e+00   0.00000000e+00\n",
      "    1.00000000e+00   0.00000000e+00   0.00000000e+00   1.00000000e+00]\n",
      " [  4.70000000e+01   1.00000000e+00   0.00000000e+00   6.90000000e+04\n",
      "    3.50000000e+01   2.20000000e+01   2.80000000e+00   1.00000000e+00\n",
      "    0.00000000e+00   0.00000000e+00   0.00000000e+00   1.00000000e+00]\n",
      " [  4.80000000e+01   1.00000000e+00   0.00000000e+00   5.20000000e+04\n",
      "    4.70000000e+01   1.40000000e+01   1.60000000e+00   0.00000000e+00\n",
      "    1.00000000e+00   0.00000000e+00   0.00000000e+00   1.00000000e+00]\n",
      " [  4.90000000e+01   0.00000000e+00   1.00000000e+00   3.10000000e+04\n",
      "    2.50000000e+01   4.20000000e+01   3.40000000e+00   1.00000000e+00\n",
      "    0.00000000e+00   1.00000000e+00   0.00000000e+00   0.00000000e+00]\n",
      " [  5.00000000e+01   0.00000000e+00   1.00000000e+00   2.40000000e+04\n",
      "    2.00000000e+01   3.30000000e+01   4.70000000e+00   0.00000000e+00\n",
      "    1.00000000e+00   1.00000000e+00   0.00000000e+00   0.00000000e+00]]\n"
     ]
    }
   ],
   "source": [
    "vs_new = np.array([customer_id, gen_f, gen_m, incomes, ages, rentals, avg_visits, incidental_numbers_yes, incidental_numbers_no, genre_numbers_action, genre_numbers_comedy, genre_numbers_drama])\n",
    "vs_new = vs_new.T\n",
    "print vs_new"
   ]
  },
  {
   "cell_type": "code",
   "execution_count": 32,
   "metadata": {
    "collapsed": false
   },
   "outputs": [
    {
     "name": "stdout",
     "output_type": "stream",
     "text": [
      "[[  1.00000000e+00   0.00000000e+00   1.00000000e+00   4.50000000e+04\n",
      "    2.50000000e+01   3.20000000e+01   2.50000000e+00   1.00000000e+00\n",
      "    0.00000000e+00   1.00000000e+00   0.00000000e+00   0.00000000e+00]\n",
      " [  2.00000000e+00   1.00000000e+00   0.00000000e+00   5.40000000e+04\n",
      "    3.30000000e+01   1.20000000e+01   3.40000000e+00   0.00000000e+00\n",
      "    1.00000000e+00   0.00000000e+00   0.00000000e+00   1.00000000e+00]\n",
      " [  3.00000000e+00   1.00000000e+00   0.00000000e+00   3.20000000e+04\n",
      "    2.00000000e+01   4.20000000e+01   1.60000000e+00   0.00000000e+00\n",
      "    1.00000000e+00   0.00000000e+00   1.00000000e+00   0.00000000e+00]\n",
      " [  4.00000000e+00   1.00000000e+00   0.00000000e+00   5.90000000e+04\n",
      "    7.00000000e+01   1.60000000e+01   4.20000000e+00   1.00000000e+00\n",
      "    0.00000000e+00   0.00000000e+00   0.00000000e+00   1.00000000e+00]\n",
      " [  5.00000000e+00   0.00000000e+00   1.00000000e+00   3.70000000e+04\n",
      "    3.50000000e+01   2.50000000e+01   3.20000000e+00   1.00000000e+00\n",
      "    0.00000000e+00   1.00000000e+00   0.00000000e+00   0.00000000e+00]\n",
      " [  6.00000000e+00   0.00000000e+00   1.00000000e+00   1.80000000e+04\n",
      "    2.00000000e+01   2.90000000e+01   1.70000000e+00   0.00000000e+00\n",
      "    1.00000000e+00   1.00000000e+00   0.00000000e+00   0.00000000e+00]\n",
      " [  7.00000000e+00   1.00000000e+00   0.00000000e+00   2.90000000e+04\n",
      "    4.50000000e+01   1.90000000e+01   3.80000000e+00   0.00000000e+00\n",
      "    1.00000000e+00   0.00000000e+00   0.00000000e+00   1.00000000e+00]\n",
      " [  8.00000000e+00   0.00000000e+00   1.00000000e+00   7.40000000e+04\n",
      "    2.50000000e+01   3.10000000e+01   2.40000000e+00   1.00000000e+00\n",
      "    0.00000000e+00   1.00000000e+00   0.00000000e+00   0.00000000e+00]\n",
      " [  9.00000000e+00   0.00000000e+00   1.00000000e+00   3.80000000e+04\n",
      "    2.10000000e+01   1.80000000e+01   2.10000000e+00   0.00000000e+00\n",
      "    1.00000000e+00   0.00000000e+00   1.00000000e+00   0.00000000e+00]\n",
      " [  1.00000000e+01   1.00000000e+00   0.00000000e+00   6.50000000e+04\n",
      "    4.00000000e+01   2.10000000e+01   3.30000000e+00   0.00000000e+00\n",
      "    1.00000000e+00   0.00000000e+00   0.00000000e+00   1.00000000e+00]\n",
      " [  1.10000000e+01   1.00000000e+00   0.00000000e+00   4.10000000e+04\n",
      "    2.20000000e+01   4.80000000e+01   2.30000000e+00   1.00000000e+00\n",
      "    0.00000000e+00   0.00000000e+00   0.00000000e+00   1.00000000e+00]\n",
      " [  1.20000000e+01   1.00000000e+00   0.00000000e+00   2.60000000e+04\n",
      "    2.20000000e+01   3.20000000e+01   2.90000000e+00   1.00000000e+00\n",
      "    0.00000000e+00   1.00000000e+00   0.00000000e+00   0.00000000e+00]\n",
      " [  1.30000000e+01   0.00000000e+00   1.00000000e+00   8.30000000e+04\n",
      "    4.60000000e+01   1.40000000e+01   3.60000000e+00   0.00000000e+00\n",
      "    1.00000000e+00   0.00000000e+00   1.00000000e+00   0.00000000e+00]\n",
      " [  1.40000000e+01   0.00000000e+00   1.00000000e+00   4.50000000e+04\n",
      "    3.60000000e+01   2.40000000e+01   2.70000000e+00   0.00000000e+00\n",
      "    1.00000000e+00   0.00000000e+00   0.00000000e+00   1.00000000e+00]\n",
      " [  1.50000000e+01   0.00000000e+00   1.00000000e+00   6.80000000e+04\n",
      "    3.00000000e+01   3.60000000e+01   2.70000000e+00   1.00000000e+00\n",
      "    0.00000000e+00   0.00000000e+00   1.00000000e+00   0.00000000e+00]\n",
      " [  1.60000000e+01   0.00000000e+00   1.00000000e+00   1.70000000e+04\n",
      "    1.90000000e+01   2.60000000e+01   2.20000000e+00   1.00000000e+00\n",
      "    0.00000000e+00   1.00000000e+00   0.00000000e+00   0.00000000e+00]\n",
      " [  1.70000000e+01   0.00000000e+00   1.00000000e+00   3.60000000e+04\n",
      "    3.50000000e+01   2.80000000e+01   3.50000000e+00   1.00000000e+00\n",
      "    0.00000000e+00   0.00000000e+00   0.00000000e+00   1.00000000e+00]\n",
      " [  1.80000000e+01   1.00000000e+00   0.00000000e+00   6.00000000e+03\n",
      "    1.60000000e+01   3.90000000e+01   1.80000000e+00   1.00000000e+00\n",
      "    0.00000000e+00   1.00000000e+00   0.00000000e+00   0.00000000e+00]\n",
      " [  1.90000000e+01   1.00000000e+00   0.00000000e+00   2.40000000e+04\n",
      "    2.50000000e+01   4.10000000e+01   3.10000000e+00   0.00000000e+00\n",
      "    1.00000000e+00   0.00000000e+00   1.00000000e+00   0.00000000e+00]\n",
      " [  2.00000000e+01   0.00000000e+00   1.00000000e+00   1.20000000e+04\n",
      "    1.60000000e+01   2.30000000e+01   2.20000000e+00   1.00000000e+00\n",
      "    0.00000000e+00   1.00000000e+00   0.00000000e+00   0.00000000e+00]\n",
      " [  2.10000000e+01   1.00000000e+00   0.00000000e+00   4.70000000e+04\n",
      "    5.20000000e+01   1.10000000e+01   3.10000000e+00   0.00000000e+00\n",
      "    1.00000000e+00   0.00000000e+00   0.00000000e+00   1.00000000e+00]\n",
      " [  2.20000000e+01   0.00000000e+00   1.00000000e+00   2.50000000e+04\n",
      "    3.30000000e+01   1.60000000e+01   2.90000000e+00   1.00000000e+00\n",
      "    0.00000000e+00   0.00000000e+00   0.00000000e+00   1.00000000e+00]\n",
      " [  2.30000000e+01   1.00000000e+00   0.00000000e+00   2.00000000e+03\n",
      "    1.50000000e+01   3.00000000e+01   2.50000000e+00   0.00000000e+00\n",
      "    1.00000000e+00   0.00000000e+00   1.00000000e+00   0.00000000e+00]\n",
      " [  2.40000000e+01   1.00000000e+00   0.00000000e+00   7.90000000e+04\n",
      "    3.50000000e+01   2.20000000e+01   3.80000000e+00   1.00000000e+00\n",
      "    0.00000000e+00   0.00000000e+00   0.00000000e+00   1.00000000e+00]\n",
      " [  2.50000000e+01   0.00000000e+00   1.00000000e+00   1.00000000e+03\n",
      "    1.60000000e+01   2.50000000e+01   1.40000000e+00   1.00000000e+00\n",
      "    0.00000000e+00   0.00000000e+00   1.00000000e+00   0.00000000e+00]\n",
      " [  2.60000000e+01   1.00000000e+00   0.00000000e+00   5.60000000e+04\n",
      "    3.50000000e+01   4.00000000e+01   2.60000000e+00   1.00000000e+00\n",
      "    0.00000000e+00   1.00000000e+00   0.00000000e+00   0.00000000e+00]\n",
      " [  2.70000000e+01   1.00000000e+00   0.00000000e+00   6.20000000e+04\n",
      "    4.70000000e+01   3.20000000e+01   3.60000000e+00   0.00000000e+00\n",
      "    1.00000000e+00   0.00000000e+00   0.00000000e+00   1.00000000e+00]\n",
      " [  2.80000000e+01   0.00000000e+00   1.00000000e+00   5.70000000e+04\n",
      "    5.20000000e+01   2.20000000e+01   4.10000000e+00   0.00000000e+00\n",
      "    1.00000000e+00   0.00000000e+00   1.00000000e+00   0.00000000e+00]\n",
      " [  2.90000000e+01   1.00000000e+00   0.00000000e+00   1.50000000e+04\n",
      "    1.80000000e+01   3.70000000e+01   2.10000000e+00   1.00000000e+00\n",
      "    0.00000000e+00   1.00000000e+00   0.00000000e+00   0.00000000e+00]\n",
      " [  3.00000000e+01   0.00000000e+00   1.00000000e+00   4.10000000e+04\n",
      "    2.50000000e+01   1.70000000e+01   1.40000000e+00   1.00000000e+00\n",
      "    0.00000000e+00   1.00000000e+00   0.00000000e+00   0.00000000e+00]\n",
      " [  3.10000000e+01   1.00000000e+00   0.00000000e+00   4.90000000e+04\n",
      "    5.60000000e+01   1.50000000e+01   3.20000000e+00   0.00000000e+00\n",
      "    1.00000000e+00   0.00000000e+00   1.00000000e+00   0.00000000e+00]\n",
      " [  3.20000000e+01   0.00000000e+00   1.00000000e+00   4.70000000e+04\n",
      "    3.00000000e+01   2.10000000e+01   3.10000000e+00   1.00000000e+00\n",
      "    0.00000000e+00   0.00000000e+00   0.00000000e+00   1.00000000e+00]\n",
      " [  3.30000000e+01   0.00000000e+00   1.00000000e+00   2.30000000e+04\n",
      "    2.50000000e+01   2.80000000e+01   2.70000000e+00   0.00000000e+00\n",
      "    1.00000000e+00   1.00000000e+00   0.00000000e+00   0.00000000e+00]\n",
      " [  3.40000000e+01   1.00000000e+00   0.00000000e+00   2.90000000e+04\n",
      "    3.20000000e+01   1.90000000e+01   2.90000000e+00   1.00000000e+00\n",
      "    0.00000000e+00   1.00000000e+00   0.00000000e+00   0.00000000e+00]\n",
      " [  3.50000000e+01   0.00000000e+00   1.00000000e+00   7.40000000e+04\n",
      "    2.90000000e+01   4.30000000e+01   4.60000000e+00   1.00000000e+00\n",
      "    0.00000000e+00   1.00000000e+00   0.00000000e+00   0.00000000e+00]\n",
      " [  3.60000000e+01   1.00000000e+00   0.00000000e+00   2.90000000e+04\n",
      "    2.10000000e+01   3.40000000e+01   2.30000000e+00   0.00000000e+00\n",
      "    1.00000000e+00   0.00000000e+00   1.00000000e+00   0.00000000e+00]\n",
      " [  3.70000000e+01   0.00000000e+00   1.00000000e+00   8.90000000e+04\n",
      "    4.60000000e+01   1.20000000e+01   1.20000000e+00   0.00000000e+00\n",
      "    1.00000000e+00   0.00000000e+00   1.00000000e+00   0.00000000e+00]\n",
      " [  3.80000000e+01   0.00000000e+00   1.00000000e+00   4.10000000e+04\n",
      "    3.80000000e+01   2.00000000e+01   3.30000000e+00   1.00000000e+00\n",
      "    0.00000000e+00   0.00000000e+00   0.00000000e+00   1.00000000e+00]\n",
      " [  3.90000000e+01   1.00000000e+00   0.00000000e+00   6.80000000e+04\n",
      "    3.50000000e+01   1.90000000e+01   3.90000000e+00   0.00000000e+00\n",
      "    1.00000000e+00   0.00000000e+00   1.00000000e+00   0.00000000e+00]\n",
      " [  4.00000000e+01   0.00000000e+00   1.00000000e+00   1.70000000e+04\n",
      "    1.90000000e+01   3.20000000e+01   1.80000000e+00   0.00000000e+00\n",
      "    1.00000000e+00   1.00000000e+00   0.00000000e+00   0.00000000e+00]\n",
      " [  4.10000000e+01   1.00000000e+00   0.00000000e+00   5.00000000e+04\n",
      "    3.30000000e+01   1.70000000e+01   1.40000000e+00   0.00000000e+00\n",
      "    1.00000000e+00   0.00000000e+00   0.00000000e+00   1.00000000e+00]\n",
      " [  4.20000000e+01   0.00000000e+00   1.00000000e+00   3.20000000e+04\n",
      "    2.50000000e+01   2.60000000e+01   2.20000000e+00   1.00000000e+00\n",
      "    0.00000000e+00   1.00000000e+00   0.00000000e+00   0.00000000e+00]\n",
      " [  4.30000000e+01   1.00000000e+00   0.00000000e+00   4.90000000e+04\n",
      "    2.80000000e+01   4.80000000e+01   3.30000000e+00   1.00000000e+00\n",
      "    0.00000000e+00   0.00000000e+00   0.00000000e+00   1.00000000e+00]\n",
      " [  4.40000000e+01   0.00000000e+00   1.00000000e+00   3.50000000e+04\n",
      "    2.40000000e+01   2.40000000e+01   1.70000000e+00   0.00000000e+00\n",
      "    1.00000000e+00   0.00000000e+00   0.00000000e+00   1.00000000e+00]\n",
      " [  4.50000000e+01   0.00000000e+00   1.00000000e+00   5.60000000e+04\n",
      "    3.80000000e+01   3.00000000e+01   3.50000000e+00   1.00000000e+00\n",
      "    0.00000000e+00   0.00000000e+00   0.00000000e+00   1.00000000e+00]\n",
      " [  4.60000000e+01   1.00000000e+00   0.00000000e+00   5.70000000e+04\n",
      "    4.30000000e+01   9.00000000e+00   1.10000000e+00   0.00000000e+00\n",
      "    1.00000000e+00   0.00000000e+00   0.00000000e+00   1.00000000e+00]\n",
      " [  4.70000000e+01   1.00000000e+00   0.00000000e+00   6.90000000e+04\n",
      "    3.50000000e+01   2.20000000e+01   2.80000000e+00   1.00000000e+00\n",
      "    0.00000000e+00   0.00000000e+00   0.00000000e+00   1.00000000e+00]\n",
      " [  4.80000000e+01   1.00000000e+00   0.00000000e+00   5.20000000e+04\n",
      "    4.70000000e+01   1.40000000e+01   1.60000000e+00   0.00000000e+00\n",
      "    1.00000000e+00   0.00000000e+00   0.00000000e+00   1.00000000e+00]\n",
      " [  4.90000000e+01   0.00000000e+00   1.00000000e+00   3.10000000e+04\n",
      "    2.50000000e+01   4.20000000e+01   3.40000000e+00   1.00000000e+00\n",
      "    0.00000000e+00   1.00000000e+00   0.00000000e+00   0.00000000e+00]\n",
      " [  5.00000000e+01   0.00000000e+00   1.00000000e+00   2.40000000e+04\n",
      "    2.00000000e+01   3.30000000e+01   4.70000000e+00   0.00000000e+00\n",
      "    1.00000000e+00   1.00000000e+00   0.00000000e+00   0.00000000e+00]]\n",
      "(50L, 12L)\n"
     ]
    }
   ],
   "source": [
    "#TODO - Not working, file is created but it is empty (Update: Works on machine at work)\n",
    "\n",
    "out_file = open(\"video_store_numeric.csv\",\"w\")\n",
    "savetxt(out_file, vs_new, fmt='%s,%d,%d,%1.2f,%1.2f,%1.2f,%1.2f,%d,%d,%d,%d,%d', delimiter=',') \n",
    "out_file.close()\n",
    "print vs_new\n",
    "print vs_new.shape"
   ]
  },
  {
   "cell_type": "markdown",
   "metadata": {},
   "source": [
    "Question #6 - Coorelation Matrix"
   ]
  },
  {
   "cell_type": "code",
   "execution_count": 33,
   "metadata": {
    "collapsed": false
   },
   "outputs": [
    {
     "name": "stdout",
     "output_type": "stream",
     "text": [
      "[[  0.00000000e+00   1.00000000e+00   4.50000000e+04   2.50000000e+01\n",
      "    3.20000000e+01   2.50000000e+00   1.00000000e+00   0.00000000e+00\n",
      "    1.00000000e+00   0.00000000e+00   0.00000000e+00]\n",
      " [  1.00000000e+00   0.00000000e+00   5.40000000e+04   3.30000000e+01\n",
      "    1.20000000e+01   3.40000000e+00   0.00000000e+00   1.00000000e+00\n",
      "    0.00000000e+00   0.00000000e+00   1.00000000e+00]\n",
      " [  1.00000000e+00   0.00000000e+00   3.20000000e+04   2.00000000e+01\n",
      "    4.20000000e+01   1.60000000e+00   0.00000000e+00   1.00000000e+00\n",
      "    0.00000000e+00   1.00000000e+00   0.00000000e+00]\n",
      " [  1.00000000e+00   0.00000000e+00   5.90000000e+04   7.00000000e+01\n",
      "    1.60000000e+01   4.20000000e+00   1.00000000e+00   0.00000000e+00\n",
      "    0.00000000e+00   0.00000000e+00   1.00000000e+00]\n",
      " [  0.00000000e+00   1.00000000e+00   3.70000000e+04   3.50000000e+01\n",
      "    2.50000000e+01   3.20000000e+00   1.00000000e+00   0.00000000e+00\n",
      "    1.00000000e+00   0.00000000e+00   0.00000000e+00]\n",
      " [  0.00000000e+00   1.00000000e+00   1.80000000e+04   2.00000000e+01\n",
      "    2.90000000e+01   1.70000000e+00   0.00000000e+00   1.00000000e+00\n",
      "    1.00000000e+00   0.00000000e+00   0.00000000e+00]\n",
      " [  1.00000000e+00   0.00000000e+00   2.90000000e+04   4.50000000e+01\n",
      "    1.90000000e+01   3.80000000e+00   0.00000000e+00   1.00000000e+00\n",
      "    0.00000000e+00   0.00000000e+00   1.00000000e+00]\n",
      " [  0.00000000e+00   1.00000000e+00   7.40000000e+04   2.50000000e+01\n",
      "    3.10000000e+01   2.40000000e+00   1.00000000e+00   0.00000000e+00\n",
      "    1.00000000e+00   0.00000000e+00   0.00000000e+00]\n",
      " [  0.00000000e+00   1.00000000e+00   3.80000000e+04   2.10000000e+01\n",
      "    1.80000000e+01   2.10000000e+00   0.00000000e+00   1.00000000e+00\n",
      "    0.00000000e+00   1.00000000e+00   0.00000000e+00]\n",
      " [  1.00000000e+00   0.00000000e+00   6.50000000e+04   4.00000000e+01\n",
      "    2.10000000e+01   3.30000000e+00   0.00000000e+00   1.00000000e+00\n",
      "    0.00000000e+00   0.00000000e+00   1.00000000e+00]\n",
      " [  1.00000000e+00   0.00000000e+00   4.10000000e+04   2.20000000e+01\n",
      "    4.80000000e+01   2.30000000e+00   1.00000000e+00   0.00000000e+00\n",
      "    0.00000000e+00   0.00000000e+00   1.00000000e+00]\n",
      " [  1.00000000e+00   0.00000000e+00   2.60000000e+04   2.20000000e+01\n",
      "    3.20000000e+01   2.90000000e+00   1.00000000e+00   0.00000000e+00\n",
      "    1.00000000e+00   0.00000000e+00   0.00000000e+00]\n",
      " [  0.00000000e+00   1.00000000e+00   8.30000000e+04   4.60000000e+01\n",
      "    1.40000000e+01   3.60000000e+00   0.00000000e+00   1.00000000e+00\n",
      "    0.00000000e+00   1.00000000e+00   0.00000000e+00]\n",
      " [  0.00000000e+00   1.00000000e+00   4.50000000e+04   3.60000000e+01\n",
      "    2.40000000e+01   2.70000000e+00   0.00000000e+00   1.00000000e+00\n",
      "    0.00000000e+00   0.00000000e+00   1.00000000e+00]\n",
      " [  0.00000000e+00   1.00000000e+00   6.80000000e+04   3.00000000e+01\n",
      "    3.60000000e+01   2.70000000e+00   1.00000000e+00   0.00000000e+00\n",
      "    0.00000000e+00   1.00000000e+00   0.00000000e+00]\n",
      " [  0.00000000e+00   1.00000000e+00   1.70000000e+04   1.90000000e+01\n",
      "    2.60000000e+01   2.20000000e+00   1.00000000e+00   0.00000000e+00\n",
      "    1.00000000e+00   0.00000000e+00   0.00000000e+00]\n",
      " [  0.00000000e+00   1.00000000e+00   3.60000000e+04   3.50000000e+01\n",
      "    2.80000000e+01   3.50000000e+00   1.00000000e+00   0.00000000e+00\n",
      "    0.00000000e+00   0.00000000e+00   1.00000000e+00]\n",
      " [  1.00000000e+00   0.00000000e+00   6.00000000e+03   1.60000000e+01\n",
      "    3.90000000e+01   1.80000000e+00   1.00000000e+00   0.00000000e+00\n",
      "    1.00000000e+00   0.00000000e+00   0.00000000e+00]\n",
      " [  1.00000000e+00   0.00000000e+00   2.40000000e+04   2.50000000e+01\n",
      "    4.10000000e+01   3.10000000e+00   0.00000000e+00   1.00000000e+00\n",
      "    0.00000000e+00   1.00000000e+00   0.00000000e+00]\n",
      " [  0.00000000e+00   1.00000000e+00   1.20000000e+04   1.60000000e+01\n",
      "    2.30000000e+01   2.20000000e+00   1.00000000e+00   0.00000000e+00\n",
      "    1.00000000e+00   0.00000000e+00   0.00000000e+00]\n",
      " [  1.00000000e+00   0.00000000e+00   4.70000000e+04   5.20000000e+01\n",
      "    1.10000000e+01   3.10000000e+00   0.00000000e+00   1.00000000e+00\n",
      "    0.00000000e+00   0.00000000e+00   1.00000000e+00]\n",
      " [  0.00000000e+00   1.00000000e+00   2.50000000e+04   3.30000000e+01\n",
      "    1.60000000e+01   2.90000000e+00   1.00000000e+00   0.00000000e+00\n",
      "    0.00000000e+00   0.00000000e+00   1.00000000e+00]\n",
      " [  1.00000000e+00   0.00000000e+00   2.00000000e+03   1.50000000e+01\n",
      "    3.00000000e+01   2.50000000e+00   0.00000000e+00   1.00000000e+00\n",
      "    0.00000000e+00   1.00000000e+00   0.00000000e+00]\n",
      " [  1.00000000e+00   0.00000000e+00   7.90000000e+04   3.50000000e+01\n",
      "    2.20000000e+01   3.80000000e+00   1.00000000e+00   0.00000000e+00\n",
      "    0.00000000e+00   0.00000000e+00   1.00000000e+00]\n",
      " [  0.00000000e+00   1.00000000e+00   1.00000000e+03   1.60000000e+01\n",
      "    2.50000000e+01   1.40000000e+00   1.00000000e+00   0.00000000e+00\n",
      "    0.00000000e+00   1.00000000e+00   0.00000000e+00]\n",
      " [  1.00000000e+00   0.00000000e+00   5.60000000e+04   3.50000000e+01\n",
      "    4.00000000e+01   2.60000000e+00   1.00000000e+00   0.00000000e+00\n",
      "    1.00000000e+00   0.00000000e+00   0.00000000e+00]\n",
      " [  1.00000000e+00   0.00000000e+00   6.20000000e+04   4.70000000e+01\n",
      "    3.20000000e+01   3.60000000e+00   0.00000000e+00   1.00000000e+00\n",
      "    0.00000000e+00   0.00000000e+00   1.00000000e+00]\n",
      " [  0.00000000e+00   1.00000000e+00   5.70000000e+04   5.20000000e+01\n",
      "    2.20000000e+01   4.10000000e+00   0.00000000e+00   1.00000000e+00\n",
      "    0.00000000e+00   1.00000000e+00   0.00000000e+00]\n",
      " [  1.00000000e+00   0.00000000e+00   1.50000000e+04   1.80000000e+01\n",
      "    3.70000000e+01   2.10000000e+00   1.00000000e+00   0.00000000e+00\n",
      "    1.00000000e+00   0.00000000e+00   0.00000000e+00]\n",
      " [  0.00000000e+00   1.00000000e+00   4.10000000e+04   2.50000000e+01\n",
      "    1.70000000e+01   1.40000000e+00   1.00000000e+00   0.00000000e+00\n",
      "    1.00000000e+00   0.00000000e+00   0.00000000e+00]\n",
      " [  1.00000000e+00   0.00000000e+00   4.90000000e+04   5.60000000e+01\n",
      "    1.50000000e+01   3.20000000e+00   0.00000000e+00   1.00000000e+00\n",
      "    0.00000000e+00   1.00000000e+00   0.00000000e+00]\n",
      " [  0.00000000e+00   1.00000000e+00   4.70000000e+04   3.00000000e+01\n",
      "    2.10000000e+01   3.10000000e+00   1.00000000e+00   0.00000000e+00\n",
      "    0.00000000e+00   0.00000000e+00   1.00000000e+00]\n",
      " [  0.00000000e+00   1.00000000e+00   2.30000000e+04   2.50000000e+01\n",
      "    2.80000000e+01   2.70000000e+00   0.00000000e+00   1.00000000e+00\n",
      "    1.00000000e+00   0.00000000e+00   0.00000000e+00]\n",
      " [  1.00000000e+00   0.00000000e+00   2.90000000e+04   3.20000000e+01\n",
      "    1.90000000e+01   2.90000000e+00   1.00000000e+00   0.00000000e+00\n",
      "    1.00000000e+00   0.00000000e+00   0.00000000e+00]\n",
      " [  0.00000000e+00   1.00000000e+00   7.40000000e+04   2.90000000e+01\n",
      "    4.30000000e+01   4.60000000e+00   1.00000000e+00   0.00000000e+00\n",
      "    1.00000000e+00   0.00000000e+00   0.00000000e+00]\n",
      " [  1.00000000e+00   0.00000000e+00   2.90000000e+04   2.10000000e+01\n",
      "    3.40000000e+01   2.30000000e+00   0.00000000e+00   1.00000000e+00\n",
      "    0.00000000e+00   1.00000000e+00   0.00000000e+00]\n",
      " [  0.00000000e+00   1.00000000e+00   8.90000000e+04   4.60000000e+01\n",
      "    1.20000000e+01   1.20000000e+00   0.00000000e+00   1.00000000e+00\n",
      "    0.00000000e+00   1.00000000e+00   0.00000000e+00]\n",
      " [  0.00000000e+00   1.00000000e+00   4.10000000e+04   3.80000000e+01\n",
      "    2.00000000e+01   3.30000000e+00   1.00000000e+00   0.00000000e+00\n",
      "    0.00000000e+00   0.00000000e+00   1.00000000e+00]\n",
      " [  1.00000000e+00   0.00000000e+00   6.80000000e+04   3.50000000e+01\n",
      "    1.90000000e+01   3.90000000e+00   0.00000000e+00   1.00000000e+00\n",
      "    0.00000000e+00   1.00000000e+00   0.00000000e+00]\n",
      " [  0.00000000e+00   1.00000000e+00   1.70000000e+04   1.90000000e+01\n",
      "    3.20000000e+01   1.80000000e+00   0.00000000e+00   1.00000000e+00\n",
      "    1.00000000e+00   0.00000000e+00   0.00000000e+00]\n",
      " [  1.00000000e+00   0.00000000e+00   5.00000000e+04   3.30000000e+01\n",
      "    1.70000000e+01   1.40000000e+00   0.00000000e+00   1.00000000e+00\n",
      "    0.00000000e+00   0.00000000e+00   1.00000000e+00]\n",
      " [  0.00000000e+00   1.00000000e+00   3.20000000e+04   2.50000000e+01\n",
      "    2.60000000e+01   2.20000000e+00   1.00000000e+00   0.00000000e+00\n",
      "    1.00000000e+00   0.00000000e+00   0.00000000e+00]\n",
      " [  1.00000000e+00   0.00000000e+00   4.90000000e+04   2.80000000e+01\n",
      "    4.80000000e+01   3.30000000e+00   1.00000000e+00   0.00000000e+00\n",
      "    0.00000000e+00   0.00000000e+00   1.00000000e+00]\n",
      " [  0.00000000e+00   1.00000000e+00   3.50000000e+04   2.40000000e+01\n",
      "    2.40000000e+01   1.70000000e+00   0.00000000e+00   1.00000000e+00\n",
      "    0.00000000e+00   0.00000000e+00   1.00000000e+00]\n",
      " [  0.00000000e+00   1.00000000e+00   5.60000000e+04   3.80000000e+01\n",
      "    3.00000000e+01   3.50000000e+00   1.00000000e+00   0.00000000e+00\n",
      "    0.00000000e+00   0.00000000e+00   1.00000000e+00]\n",
      " [  1.00000000e+00   0.00000000e+00   5.70000000e+04   4.30000000e+01\n",
      "    9.00000000e+00   1.10000000e+00   0.00000000e+00   1.00000000e+00\n",
      "    0.00000000e+00   0.00000000e+00   1.00000000e+00]\n",
      " [  1.00000000e+00   0.00000000e+00   6.90000000e+04   3.50000000e+01\n",
      "    2.20000000e+01   2.80000000e+00   1.00000000e+00   0.00000000e+00\n",
      "    0.00000000e+00   0.00000000e+00   1.00000000e+00]\n",
      " [  1.00000000e+00   0.00000000e+00   5.20000000e+04   4.70000000e+01\n",
      "    1.40000000e+01   1.60000000e+00   0.00000000e+00   1.00000000e+00\n",
      "    0.00000000e+00   0.00000000e+00   1.00000000e+00]\n",
      " [  0.00000000e+00   1.00000000e+00   3.10000000e+04   2.50000000e+01\n",
      "    4.20000000e+01   3.40000000e+00   1.00000000e+00   0.00000000e+00\n",
      "    1.00000000e+00   0.00000000e+00   0.00000000e+00]\n",
      " [  0.00000000e+00   1.00000000e+00   2.40000000e+04   2.00000000e+01\n",
      "    3.30000000e+01   4.70000000e+00   0.00000000e+00   1.00000000e+00\n",
      "    1.00000000e+00   0.00000000e+00   0.00000000e+00]]\n"
     ]
    }
   ],
   "source": [
    "vs_new_no_id = vs_new[:, 1:]  #Remove CustomerID column)\n",
    "print vs_new_no_id"
   ]
  },
  {
   "cell_type": "code",
   "execution_count": 34,
   "metadata": {
    "collapsed": false
   },
   "outputs": [
    {
     "name": "stdout",
     "output_type": "stream",
     "text": [
      "[[ 1.         -1.          0.063841    0.2276634   0.02946036  0.02917648\n",
      "  -0.19871795  0.19871795 -0.30357629  0.02249606  0.27783119]\n",
      " [-1.          1.         -0.063841   -0.2276634  -0.02946036 -0.02917648\n",
      "   0.19871795 -0.19871795  0.30357629 -0.02249606 -0.27783119]\n",
      " [ 0.063841   -0.063841    1.          0.6270126  -0.26846047  0.3052208\n",
      "  -0.063841    0.063841   -0.36251415  0.07158761  0.29278125]\n",
      " [ 0.2276634  -0.2276634   0.6270126   1.         -0.55109217  0.39737214\n",
      "  -0.21418422  0.21418422 -0.48079365  0.01687164  0.45637129]\n",
      " [ 0.02946036 -0.02946036 -0.26846047 -0.55109217  1.          0.07786848\n",
      "   0.3206833  -0.3206833   0.33612359 -0.03691076 -0.29715446]\n",
      " [ 0.02917648 -0.02917648  0.3052208   0.39737214  0.07786848  1.\n",
      "   0.07888455 -0.07888455 -0.10141359 -0.0672076   0.15795485]\n",
      " [-0.19871795  0.19871795 -0.063841   -0.21418422  0.3206833   0.07888455\n",
      "   1.         -1.          0.38697637 -0.39743046 -0.03268602]\n",
      " [ 0.19871795 -0.19871795  0.063841    0.21418422 -0.3206833  -0.07888455\n",
      "  -1.          1.         -0.38697637  0.39743046  0.03268602]\n",
      " [-0.30357629  0.30357629 -0.36251415 -0.48079365  0.33612359 -0.10141359\n",
      "   0.38697637 -0.38697637  1.         -0.42146362 -0.61237244]\n",
      " [ 0.02249606 -0.02249606  0.07158761  0.01687164 -0.03691076 -0.0672076\n",
      "  -0.39743046  0.39743046 -0.42146362  1.         -0.45883147]\n",
      " [ 0.27783119 -0.27783119  0.29278125  0.45637129 -0.29715446  0.15795485\n",
      "  -0.03268602  0.03268602 -0.61237244 -0.45883147  1.        ]]\n",
      "1.0\n"
     ]
    }
   ],
   "source": [
    "corr_matrix = np.corrcoef(vs_new_no_id.T)\n",
    "print corr_matrix\n",
    "print corr_matrix.max()"
   ]
  },
  {
   "cell_type": "markdown",
   "metadata": {
    "collapsed": false
   },
   "source": [
    "Question #7 - Scatter Plot"
   ]
  },
  {
   "cell_type": "code",
   "execution_count": 35,
   "metadata": {
    "collapsed": false
   },
   "outputs": [],
   "source": [
    "fig = plt.figure(figsize=(5,4))\n",
    "ax=fig.add_subplot(1,1,1)\n",
    "ax.scatter(ages, incomes, color=\"red\", marker=\"*\")\n",
    "ax.set_title(\"Age vs. Income\")\n",
    "ax.set_xlabel(\"Age\")\n",
    "ax.set_ylabel(\"Income\")\n",
    "plt.show()"
   ]
  },
  {
   "cell_type": "code",
   "execution_count": 36,
   "metadata": {
    "collapsed": false
   },
   "outputs": [],
   "source": [
    "from IPython.display import Image\n",
    "#Image(filename='ScatterPlot_Age_vs_Income.png')"
   ]
  },
  {
   "cell_type": "markdown",
   "metadata": {},
   "source": [
    "Question #8 - Histograms for Income and Age"
   ]
  },
  {
   "cell_type": "code",
   "execution_count": 37,
   "metadata": {
    "collapsed": false
   },
   "outputs": [],
   "source": [
    "plt.hist(incomes, bins = 9, alpha=0.8)\n",
    "plt.xlabel('Income')\n",
    "plt.ylabel('Count')\n",
    "plt.title('Histrogram of Incomes')\n",
    "plt.grid(True)\n",
    "plt.show()"
   ]
  },
  {
   "cell_type": "code",
   "execution_count": 38,
   "metadata": {
    "collapsed": false
   },
   "outputs": [],
   "source": [
    "from IPython.display import Image\n",
    "#Image(filename='Histogram_Incomes.png')"
   ]
  },
  {
   "cell_type": "code",
   "execution_count": 39,
   "metadata": {
    "collapsed": false
   },
   "outputs": [],
   "source": [
    "plt.hist(ages, bins=7, alpha=0.5)\n",
    "plt.xlabel('Age')\n",
    "plt.ylabel('Count')\n",
    "plt.title('Histrogram of Ages')\n",
    "plt.axis([10, 80, 0, 10])\n",
    "plt.grid(True)\n",
    "plt.show()"
   ]
  },
  {
   "cell_type": "code",
   "execution_count": 40,
   "metadata": {
    "collapsed": false
   },
   "outputs": [],
   "source": [
    "from IPython.display import Image\n",
    "#Image(filename='Histogram_Ages.png')"
   ]
  },
  {
   "cell_type": "markdown",
   "metadata": {},
   "source": [
    "Question #9 - Bar Chart"
   ]
  },
  {
   "cell_type": "code",
   "execution_count": 41,
   "metadata": {
    "collapsed": false
   },
   "outputs": [
    {
     "name": "stdout",
     "output_type": "stream",
     "text": [
      "[[13, 6, 7], [5, 6, 13]]\n"
     ]
    }
   ],
   "source": [
    "cross_tab=[[0 for x in range(3)] for x in range(2)] \n",
    "genre_values = [\"Action\", \"Comedy\", \"Drama\"]\n",
    "gender_values = ['M', 'F']\n",
    "\n",
    "for idx, val in enumerate(genders):\n",
    "    row = gender_values.index(val)\n",
    "    col = genre_values.index(genres[idx])\n",
    "    cross_tab[row][col] = cross_tab[row][col] + 1\n",
    "print cross_tab   \n",
    "\n",
    "fig, ax = plt.subplots()\n",
    "ind = np.arange(3)\n",
    "width = .15\n",
    "rects1 = ax.bar(ind, cross_tab[0], width, color='r')\n",
    "rects2 = ax.bar(ind+width, cross_tab[1], width, color='y')\n",
    "\n",
    "# add some text for labels, title and axes ticks\n",
    "ax.set_ylabel('Count')\n",
    "ax.set_title('Counts by genre and gender')\n",
    "ax.set_xticks(ind+width)\n",
    "ax.set_xticklabels( ('Action', 'Comedy', 'Drama') )\n",
    "\n",
    "ax.legend( (rects1[0], rects2[0]), ('Men', 'Women') )\n",
    "\n",
    "def autolabel(rects):\n",
    "    # attach some text labels\n",
    "    for rect in rects:\n",
    "        height = rect.get_height()\n",
    "        ax.text(rect.get_x()+rect.get_width()/2., 1.05*height, '%d'%int(height),\n",
    "                ha='center', va='bottom')\n",
    "\n",
    "autolabel(rects1)\n",
    "autolabel(rects2)\n",
    "\n",
    "plt.show()"
   ]
  },
  {
   "cell_type": "code",
   "execution_count": 42,
   "metadata": {
    "collapsed": false
   },
   "outputs": [],
   "source": [
    "from IPython.display import Image\n",
    "#Image(filename='BarChart_CountsOfMenWomen.png')"
   ]
  },
  {
   "cell_type": "code",
   "execution_count": null,
   "metadata": {
    "collapsed": true
   },
   "outputs": [],
   "source": []
  }
 ],
 "metadata": {
  "kernelspec": {
   "display_name": "Python 2",
   "language": "python",
   "name": "python2"
  },
  "language_info": {
   "codemirror_mode": {
    "name": "ipython",
    "version": 2
   },
   "file_extension": ".py",
   "mimetype": "text/x-python",
   "name": "python",
   "nbconvert_exporter": "python",
   "pygments_lexer": "ipython2",
   "version": "2.7.9"
  }
 },
 "nbformat": 4,
 "nbformat_minor": 0
}
