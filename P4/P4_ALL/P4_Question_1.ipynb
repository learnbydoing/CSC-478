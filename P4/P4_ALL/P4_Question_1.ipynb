{
 "cells": [
  {
   "cell_type": "code",
   "execution_count": 2,
   "metadata": {
    "collapsed": false
   },
   "outputs": [
    {
     "data": {
      "text/plain": [
       "<module 'kNN' from 'kNN.pyc'>"
      ]
     },
     "execution_count": 2,
     "metadata": {},
     "output_type": "execute_result"
    }
   ],
   "source": [
    "import numpy as np\n",
    "import kMeans\n",
    "reload(kMeans)\n",
    "import helper\n",
    "reload(helper)\n",
    "import kNN\n",
    "reload(kNN)\n",
    "#%reset - f"
   ]
  },
  {
   "cell_type": "code",
   "execution_count": 3,
   "metadata": {
    "collapsed": false
   },
   "outputs": [],
   "source": [
    "imageData = np.genfromtxt('segmentation_data.txt',delimiter=',',dtype=float)"
   ]
  },
  {
   "cell_type": "code",
   "execution_count": 4,
   "metadata": {
    "collapsed": false
   },
   "outputs": [
    {
     "data": {
      "text/plain": [
       "array([[ 110.        ,  189.        ,    9.        , ...,   18.666668  ,\n",
       "           0.50813884,    1.9108642 ],\n",
       "       [  86.        ,  187.        ,    9.        , ...,   19.222221  ,\n",
       "           0.46332908,    1.9414649 ],\n",
       "       [ 225.        ,  244.        ,    9.        , ...,   17.11111   ,\n",
       "           0.48014903,    1.9879022 ],\n",
       "       ..., \n",
       "       [ 128.        ,  161.        ,    9.        , ...,   10.888889  ,\n",
       "           0.5409177 ,   -1.9963073 ],\n",
       "       [ 150.        ,  158.        ,    9.        , ...,   12.222222  ,\n",
       "           0.50308645,   -1.9434487 ],\n",
       "       [ 124.        ,  162.        ,    9.        , ...,   14.555555  ,\n",
       "           0.4799313 ,   -2.0293121 ]])"
      ]
     },
     "execution_count": 4,
     "metadata": {},
     "output_type": "execute_result"
    }
   ],
   "source": [
    "imageData"
   ]
  },
  {
   "cell_type": "code",
   "execution_count": 5,
   "metadata": {
    "collapsed": false
   },
   "outputs": [
    {
     "data": {
      "text/plain": [
       "array([[ 110.        ,  189.        ,    9.        , ...,   18.666668  ,\n",
       "           0.50813884,    1.9108642 ],\n",
       "       [  86.        ,  187.        ,    9.        , ...,   19.222221  ,\n",
       "           0.46332908,    1.9414649 ],\n",
       "       [ 225.        ,  244.        ,    9.        , ...,   17.11111   ,\n",
       "           0.48014903,    1.9879022 ],\n",
       "       ..., \n",
       "       [ 128.        ,  161.        ,    9.        , ...,   10.888889  ,\n",
       "           0.5409177 ,   -1.9963073 ],\n",
       "       [ 150.        ,  158.        ,    9.        , ...,   12.222222  ,\n",
       "           0.50308645,   -1.9434487 ],\n",
       "       [ 124.        ,  162.        ,    9.        , ...,   14.555555  ,\n",
       "           0.4799313 ,   -2.0293121 ]])"
      ]
     },
     "execution_count": 5,
     "metadata": {},
     "output_type": "execute_result"
    }
   ],
   "source": [
    "imageData"
   ]
  },
  {
   "cell_type": "code",
   "execution_count": 6,
   "metadata": {
    "collapsed": false
   },
   "outputs": [
    {
     "data": {
      "text/plain": [
       "matrix([[ 110.        ,  189.        ,    9.        , ...,   18.666668  ,\n",
       "            0.50813884,    1.9108642 ],\n",
       "        [  86.        ,  187.        ,    9.        , ...,   19.222221  ,\n",
       "            0.46332908,    1.9414649 ],\n",
       "        [ 225.        ,  244.        ,    9.        , ...,   17.11111   ,\n",
       "            0.48014903,    1.9879022 ],\n",
       "        ..., \n",
       "        [ 128.        ,  161.        ,    9.        , ...,   10.888889  ,\n",
       "            0.5409177 ,   -1.9963073 ],\n",
       "        [ 150.        ,  158.        ,    9.        , ...,   12.222222  ,\n",
       "            0.50308645,   -1.9434487 ],\n",
       "        [ 124.        ,  162.        ,    9.        , ...,   14.555555  ,\n",
       "            0.4799313 ,   -2.0293121 ]])"
      ]
     },
     "execution_count": 6,
     "metadata": {},
     "output_type": "execute_result"
    }
   ],
   "source": [
    "np.mat(imageData)"
   ]
  },
  {
   "cell_type": "code",
   "execution_count": 9,
   "metadata": {
    "collapsed": false
   },
   "outputs": [
    {
     "name": "stdout",
     "output_type": "stream",
     "text": [
      "[('GRASS', 0) ('GRASS', 0) ('GRASS', 0) ..., ('CEMENT', 3) ('CEMENT', 3)\n",
      " ('CEMENT', 3)]\n",
      "(2100L,)\n"
     ]
    }
   ],
   "source": [
    "segClasses = np.genfromtxt('segmentation_classes.txt',delimiter='\\t',dtype=None)\n",
    "print segClasses\n",
    "print segClasses.shape"
   ]
  },
  {
   "cell_type": "code",
   "execution_count": 10,
   "metadata": {
    "collapsed": false
   },
   "outputs": [
    {
     "data": {
      "text/plain": [
       "2"
      ]
     },
     "execution_count": 10,
     "metadata": {},
     "output_type": "execute_result"
    }
   ],
   "source": [
    "segClasses[208][1]"
   ]
  },
  {
   "cell_type": "code",
   "execution_count": 11,
   "metadata": {
    "collapsed": true
   },
   "outputs": [],
   "source": [
    "segNames = np.genfromtxt('segmentation_names.txt',delimiter='\\t',dtype=(None))"
   ]
  },
  {
   "cell_type": "code",
   "execution_count": 12,
   "metadata": {
    "collapsed": false
   },
   "outputs": [
    {
     "name": "stdout",
     "output_type": "stream",
     "text": [
      "['REGION-CENTROID-COL' 'REGION-CENTROID-ROW' 'REGION-PIXEL-COUNT'\n",
      " 'SHORT-LINE-DENSITY-5' 'SHORT-LINE-DENSITY-2' 'VEDGE-MEAN' 'VEDGE-SD'\n",
      " 'HEDGE-MEAN' 'HEDGE-SD' 'INTENSITY-MEAN' 'RAWRED-MEAN' 'RAWBLUE-MEAN'\n",
      " 'RAWGREEN-MEAN' 'EXRED-MEAN' 'EXBLUE-MEAN' 'EXGREEN-MEAN' 'VALUE-MEAN'\n",
      " 'SATURATION-MEAN' 'HUE-MEAN']\n",
      "(19L,)\n",
      "19\n"
     ]
    }
   ],
   "source": [
    "print segNames\n",
    "print segNames.shape\n",
    "print len(segNames)"
   ]
  },
  {
   "cell_type": "code",
   "execution_count": 13,
   "metadata": {
    "collapsed": false
   },
   "outputs": [],
   "source": [
    "from sklearn import preprocessing\n",
    "min_max_scaler = preprocessing.MinMaxScaler()\n",
    "imageData_norm = min_max_scaler.fit_transform(imageData)"
   ]
  },
  {
   "cell_type": "code",
   "execution_count": 14,
   "metadata": {
    "collapsed": false
   },
   "outputs": [],
   "source": [
    "reload(kMeans)\n",
    "cents, clusts = kMeans.kMeans(imageData, 7, kMeans.distEclud)"
   ]
  },
  {
   "cell_type": "code",
   "execution_count": 15,
   "metadata": {
    "collapsed": false
   },
   "outputs": [
    {
     "data": {
      "text/plain": [
       "array([[  1.28017595e+02,   4.72258065e+01,   9.00000000e+00,\n",
       "          1.14043661e-02,   6.51678065e-04,   1.04463997e+00,\n",
       "          6.75502689e-01,   1.20576740e+00,   8.22678352e-01,\n",
       "          1.11688932e+02,   1.00868361e+02,   1.28428155e+02,\n",
       "          1.05770284e+02,  -3.24617138e+01,   5.02176605e+01,\n",
       "         -1.77559465e+01,   1.28428155e+02,   2.22954812e-01,\n",
       "         -2.27548943e+00],\n",
       "       [  1.89166667e+02,   8.78333333e+01,   9.00000000e+00,\n",
       "          0.00000000e+00,   1.85185183e-02,   2.30370365e+01,\n",
       "          5.55769130e+02,   1.34351847e+01,   1.53996895e+02,\n",
       "          3.84259262e+01,   3.28703703e+01,   4.72592595e+01,\n",
       "          3.51481485e+01,  -1.66666668e+01,   2.64999998e+01,\n",
       "         -9.83333335e+00,   4.72592595e+01,   3.74439798e-01,\n",
       "         -2.24136388e+00],\n",
       "       [  1.24315548e+02,   1.38753299e+02,   9.00000000e+00,\n",
       "          1.57455216e-02,   4.84477588e-03,   1.89172562e+00,\n",
       "          2.71279830e+00,   2.46095490e+00,   5.23418522e+00,\n",
       "          2.23936593e+01,   1.94615287e+01,   2.76572960e+01,\n",
       "          2.00621535e+01,  -8.79639192e+00,   1.57909097e+01,\n",
       "         -6.99451775e+00,   2.88100977e+01,   4.67456876e-01,\n",
       "         -1.17799657e+00],\n",
       "       [  1.34500000e+02,   9.80000000e+01,   9.00000000e+00,\n",
       "          0.00000000e+00,   1.11111110e-01,   1.48333345e+01,\n",
       "          1.02507405e+02,   3.23333350e+01,   7.69896235e+02,\n",
       "          4.28333340e+01,   3.58333350e+01,   5.26666680e+01,\n",
       "          4.00000000e+01,  -2.10000000e+01,   2.95000000e+01,\n",
       "         -8.50000000e+00,   5.26666680e+01,   3.87301985e-01,\n",
       "         -2.36314735e+00],\n",
       "       [  8.00000000e+01,   8.70000000e+01,   9.00000000e+00,\n",
       "          0.00000000e+00,   1.11111110e-01,   2.43888910e+01,\n",
       "          5.72996400e+02,   4.47222250e+01,   1.38632920e+03,\n",
       "          6.74444400e+01,   5.87777800e+01,   7.90000000e+01,\n",
       "          6.45555600e+01,  -2.60000000e+01,   3.46666680e+01,\n",
       "         -8.66666700e+00,   7.90000000e+01,   3.06281270e-01,\n",
       "         -2.42212720e+00],\n",
       "       [  2.26000000e+02,   6.90000000e+01,   9.00000000e+00,\n",
       "          0.00000000e+00,   1.11111110e-01,   1.91111130e+01,\n",
       "          9.91718400e+02,   2.04444450e+01,   1.03954080e+03,\n",
       "          2.38148160e+01,   1.92222210e+01,   2.93333340e+01,\n",
       "          2.28888900e+01,  -1.37777780e+01,   1.65555550e+01,\n",
       "         -2.77777770e+00,   2.93333340e+01,   5.08993800e-01,\n",
       "         -2.48897900e+00],\n",
       "       [  5.48333333e+01,   8.08333333e+01,   9.00000000e+00,\n",
       "          0.00000000e+00,   5.55555550e-02,   1.76388883e+01,\n",
       "          3.20721630e+02,   2.38611102e+01,   3.84251258e+02,\n",
       "          4.57530862e+01,   3.82592595e+01,   5.56296297e+01,\n",
       "          4.33703703e+01,  -2.24814818e+01,   2.96296298e+01,\n",
       "         -7.14814818e+00,   5.56296297e+01,   4.33830743e-01,\n",
       "         -2.42217432e+00]])"
      ]
     },
     "execution_count": 15,
     "metadata": {},
     "output_type": "execute_result"
    }
   ],
   "source": [
    "cents"
   ]
  },
  {
   "cell_type": "code",
   "execution_count": 16,
   "metadata": {
    "collapsed": false
   },
   "outputs": [
    {
     "name": "stdout",
     "output_type": "stream",
     "text": [
      "REGION-CENTROID-COL\t128.0176\t189.1667\t124.3155\t134.5000\t80.0000\t226.0000\t54.8333\n",
      "REGION-CENTROID-ROW\t47.2258\t87.8333\t138.7533\t98.0000\t87.0000\t69.0000\t80.8333\n",
      "REGION-PIXEL-COUNT\t9.0000\t9.0000\t9.0000\t9.0000\t9.0000\t9.0000\t9.0000\n",
      "SHORT-LINE-DENSITY-5\t0.0114\t0.0000\t0.0157\t0.0000\t0.0000\t0.0000\t0.0000\n",
      "SHORT-LINE-DENSITY-2\t0.0007\t0.0185\t0.0048\t0.1111\t0.1111\t0.1111\t0.0556\n",
      " VEDGE-MEAN\t1.0446\t23.0370\t1.8917\t14.8333\t24.3889\t19.1111\t17.6389\n",
      "   VEDGE-SD\t0.6755\t555.7691\t2.7128\t102.5074\t572.9964\t991.7184\t320.7216\n",
      " HEDGE-MEAN\t1.2058\t13.4352\t2.4610\t32.3333\t44.7222\t20.4444\t23.8611\n",
      "   HEDGE-SD\t0.8227\t153.9969\t5.2342\t769.8962\t1386.3292\t1039.5408\t384.2513\n",
      "INTENSITY-MEAN\t111.6889\t38.4259\t22.3937\t42.8333\t67.4444\t23.8148\t45.7531\n",
      "RAWRED-MEAN\t100.8684\t32.8704\t19.4615\t35.8333\t58.7778\t19.2222\t38.2593\n",
      "RAWBLUE-MEAN\t128.4282\t47.2593\t27.6573\t52.6667\t79.0000\t29.3333\t55.6296\n",
      "RAWGREEN-MEAN\t105.7703\t35.1481\t20.0622\t40.0000\t64.5556\t22.8889\t43.3704\n",
      " EXRED-MEAN\t-32.4617\t-16.6667\t-8.7964\t-21.0000\t-26.0000\t-13.7778\t-22.4815\n",
      "EXBLUE-MEAN\t50.2177\t26.5000\t15.7909\t29.5000\t34.6667\t16.5556\t29.6296\n",
      "EXGREEN-MEAN\t-17.7559\t-9.8333\t-6.9945\t-8.5000\t-8.6667\t-2.7778\t-7.1481\n",
      " VALUE-MEAN\t128.4282\t47.2593\t28.8101\t52.6667\t79.0000\t29.3333\t55.6296\n",
      "SATURATION-MEAN\t0.2230\t0.3744\t0.4675\t0.3873\t0.3063\t0.5090\t0.4338\n",
      "   HUE-MEAN\t-2.2755\t-2.2414\t-1.1780\t-2.3631\t-2.4221\t-2.4890\t-2.4222\n"
     ]
    }
   ],
   "source": [
    "for i in range(len(segNames)):\n",
    "    print \"%11s\\t%.4f\\t%.4f\\t%.4f\\t%.4f\\t%.4f\\t%.4f\\t%.4f\" %(segNames[i], cents[0][i],cents[1][i],cents[2][i],cents[3][i],cents[4][i],cents[5][i],cents[6][i])"
   ]
  },
  {
   "cell_type": "code",
   "execution_count": 17,
   "metadata": {
    "collapsed": false
   },
   "outputs": [
    {
     "data": {
      "text/plain": [
       "(2100L, 2L)"
      ]
     },
     "execution_count": 17,
     "metadata": {},
     "output_type": "execute_result"
    }
   ],
   "source": [
    "clusts.shape"
   ]
  },
  {
   "cell_type": "code",
   "execution_count": 18,
   "metadata": {
    "collapsed": false
   },
   "outputs": [
    {
     "data": {
      "text/plain": [
       "array([[  2.00000000e+00,   4.68730670e+03],\n",
       "       [  2.00000000e+00,   5.59235516e+03],\n",
       "       [  2.00000000e+00,   2.29853545e+04],\n",
       "       ..., \n",
       "       [  2.00000000e+00,   1.83790231e+03],\n",
       "       [  2.00000000e+00,   2.15398476e+03],\n",
       "       [  2.00000000e+00,   1.39082138e+03]])"
      ]
     },
     "execution_count": 18,
     "metadata": {},
     "output_type": "execute_result"
    }
   ],
   "source": [
    "clusts"
   ]
  },
  {
   "cell_type": "code",
   "execution_count": 19,
   "metadata": {
    "collapsed": false
   },
   "outputs": [
    {
     "name": "stdout",
     "output_type": "stream",
     "text": [
      "2100\n",
      "newC is:  [ 2.  2.  2. ...,  2.  2.  2.]\n",
      "size of newC is: (2100L,)\n",
      "Completeness score: 0.801544009141\n",
      "Homogeneity score:  0.204809263981\n"
     ]
    }
   ],
   "source": [
    "from sklearn.metrics import completeness_score, homogeneity_score\n",
    "\n",
    "target = helper.createLabelsVector('segmentation_classes.txt', [\"0\", \"1\", \"2\", \"3\", \"4\", \"5\", \"6\"])\n",
    "print len(target)\n",
    "\n",
    "newC = np.ravel(clusts.T[0])\n",
    "print \"newC is: \", newC\n",
    "newC=newC.astype(int)\n",
    "print \"size of newC is:\", newC.shape\n",
    "\n",
    "print \"Completeness score:\", completeness_score(target, newC)\n",
    "print \"Homogeneity score: \", homogeneity_score(target, newC)\n"
   ]
  },
  {
   "cell_type": "code",
   "execution_count": 20,
   "metadata": {
    "collapsed": true
   },
   "outputs": [],
   "source": [
    "from sklearn import decomposition\n",
    "\n",
    "pca = decomposition.PCA(n_components=5)\n",
    "imageDataNormTrans = pca.fit(imageData_norm).transform(imageData_norm)"
   ]
  },
  {
   "cell_type": "code",
   "execution_count": 21,
   "metadata": {
    "collapsed": false
   },
   "outputs": [
    {
     "name": "stdout",
     "output_type": "stream",
     "text": [
      "[[-0.69  0.53 -0.25 -0.2  -0.08]\n",
      " [-0.67  0.51 -0.34 -0.17 -0.04]\n",
      " [-0.71  0.77  0.16 -0.01 -0.17]\n",
      " ..., \n",
      " [-0.51 -0.13  0.08  0.1  -0.03]\n",
      " [-0.48 -0.09  0.16  0.11  0.  ]\n",
      " [-0.44 -0.11  0.05  0.15  0.02]]\n"
     ]
    }
   ],
   "source": [
    "np.set_printoptions(precision=2, suppress=True)\n",
    "print imageDataNormTrans"
   ]
  },
  {
   "cell_type": "code",
   "execution_count": 22,
   "metadata": {
    "collapsed": false
   },
   "outputs": [
    {
     "name": "stdout",
     "output_type": "stream",
     "text": [
      "[ 0.61  0.13  0.1   0.05  0.04]\n"
     ]
    }
   ],
   "source": [
    "print(pca.explained_variance_ratio_)"
   ]
  },
  {
   "cell_type": "code",
   "execution_count": 24,
   "metadata": {
    "collapsed": false
   },
   "outputs": [],
   "source": [
    "cents_pca, clusters_pca = kMeans.kMeans(imageDataNormTrans, 7, helper.distCosine)"
   ]
  },
  {
   "cell_type": "code",
   "execution_count": 25,
   "metadata": {
    "collapsed": false
   },
   "outputs": [
    {
     "name": "stdout",
     "output_type": "stream",
     "text": [
      "[[-0.44 -0.1   0.32 -0.06  0.06]\n",
      " [-0.43 -0.32 -0.15 -0.05  0.  ]\n",
      " [ 0.19  0.07  0.29  0.22 -0.  ]\n",
      " [-0.62  0.61 -0.18 -0.07 -0.03]\n",
      " [ 1.18  0.11  0.18 -0.14  0.01]\n",
      " [ 0.27 -0.06 -0.19  0.34 -0.09]\n",
      " [ 1.07 -0.07 -0.23 -0.09  0.02]]\n"
     ]
    }
   ],
   "source": [
    "print cents_pca"
   ]
  },
  {
   "cell_type": "code",
   "execution_count": 26,
   "metadata": {
    "collapsed": true
   },
   "outputs": [],
   "source": [
    "newCpca = np.ravel(clusters_pca.T[0])"
   ]
  },
  {
   "cell_type": "code",
   "execution_count": 27,
   "metadata": {
    "collapsed": false
   },
   "outputs": [
    {
     "name": "stdout",
     "output_type": "stream",
     "text": [
      "[ 3.  3.  3. ...,  0.  0.  0.]\n"
     ]
    }
   ],
   "source": [
    "print newCpca"
   ]
  },
  {
   "cell_type": "code",
   "execution_count": 28,
   "metadata": {
    "collapsed": false
   },
   "outputs": [
    {
     "name": "stdout",
     "output_type": "stream",
     "text": [
      "Completeness:  0.586979407467\n",
      "Homogeneity:  0.56769510472\n"
     ]
    }
   ],
   "source": [
    "print \"Completeness: \", completeness_score(target, newCpca)\n",
    "print \"Homogeneity: \", homogeneity_score(target, newCpca)"
   ]
  },
  {
   "cell_type": "code",
   "execution_count": 31,
   "metadata": {
    "collapsed": false
   },
   "outputs": [
    {
     "data": {
      "text/plain": [
       "<module 'helper' from 'helper.py'>"
      ]
     },
     "execution_count": 31,
     "metadata": {},
     "output_type": "execute_result"
    }
   ],
   "source": [
    "reload(helper)"
   ]
  },
  {
   "cell_type": "code",
   "execution_count": null,
   "metadata": {
    "collapsed": true
   },
   "outputs": [],
   "source": []
  }
 ],
 "metadata": {
  "kernelspec": {
   "display_name": "Python 2",
   "language": "python",
   "name": "python2"
  },
  "language_info": {
   "codemirror_mode": {
    "name": "ipython",
    "version": 2
   },
   "file_extension": ".py",
   "mimetype": "text/x-python",
   "name": "python",
   "nbconvert_exporter": "python",
   "pygments_lexer": "ipython2",
   "version": "2.7.9"
  }
 },
 "nbformat": 4,
 "nbformat_minor": 0
}
