{
 "cells": [
  {
   "cell_type": "code",
   "execution_count": 22,
   "metadata": {
    "collapsed": false
   },
   "outputs": [
    {
     "data": {
      "text/plain": [
       "<module 'helper' from 'helper.pyc'>"
      ]
     },
     "execution_count": 22,
     "metadata": {},
     "output_type": "execute_result"
    }
   ],
   "source": [
    "import numpy as np\n",
    "import kMeans\n",
    "reload(kMeans)\n",
    "import helper\n",
    "reload(helper)\n",
    "#import kNN\n",
    "#reload(kNN)\n",
    "#%reset - f"
   ]
  },
  {
   "cell_type": "code",
   "execution_count": 23,
   "metadata": {
    "collapsed": false
   },
   "outputs": [],
   "source": [
    "imageData = np.genfromtxt('segmentation_data.txt',delimiter=',',dtype=float)"
   ]
  },
  {
   "cell_type": "code",
   "execution_count": 24,
   "metadata": {
    "collapsed": false
   },
   "outputs": [
    {
     "data": {
      "text/plain": [
       "array([[ 110.        ,  189.        ,    9.        , ...,   18.666668  ,\n",
       "           0.50813884,    1.9108642 ],\n",
       "       [  86.        ,  187.        ,    9.        , ...,   19.222221  ,\n",
       "           0.46332908,    1.9414649 ],\n",
       "       [ 225.        ,  244.        ,    9.        , ...,   17.11111   ,\n",
       "           0.48014903,    1.9879022 ],\n",
       "       ..., \n",
       "       [ 128.        ,  161.        ,    9.        , ...,   10.888889  ,\n",
       "           0.5409177 ,   -1.9963073 ],\n",
       "       [ 150.        ,  158.        ,    9.        , ...,   12.222222  ,\n",
       "           0.50308645,   -1.9434487 ],\n",
       "       [ 124.        ,  162.        ,    9.        , ...,   14.555555  ,\n",
       "           0.4799313 ,   -2.0293121 ]])"
      ]
     },
     "execution_count": 24,
     "metadata": {},
     "output_type": "execute_result"
    }
   ],
   "source": [
    "imageData"
   ]
  },
  {
   "cell_type": "code",
   "execution_count": 25,
   "metadata": {
    "collapsed": false
   },
   "outputs": [
    {
     "data": {
      "text/plain": [
       "array([[ 110.        ,  189.        ,    9.        , ...,   18.666668  ,\n",
       "           0.50813884,    1.9108642 ],\n",
       "       [  86.        ,  187.        ,    9.        , ...,   19.222221  ,\n",
       "           0.46332908,    1.9414649 ],\n",
       "       [ 225.        ,  244.        ,    9.        , ...,   17.11111   ,\n",
       "           0.48014903,    1.9879022 ],\n",
       "       ..., \n",
       "       [ 128.        ,  161.        ,    9.        , ...,   10.888889  ,\n",
       "           0.5409177 ,   -1.9963073 ],\n",
       "       [ 150.        ,  158.        ,    9.        , ...,   12.222222  ,\n",
       "           0.50308645,   -1.9434487 ],\n",
       "       [ 124.        ,  162.        ,    9.        , ...,   14.555555  ,\n",
       "           0.4799313 ,   -2.0293121 ]])"
      ]
     },
     "execution_count": 25,
     "metadata": {},
     "output_type": "execute_result"
    }
   ],
   "source": [
    "imageData"
   ]
  },
  {
   "cell_type": "code",
   "execution_count": 26,
   "metadata": {
    "collapsed": false
   },
   "outputs": [
    {
     "data": {
      "text/plain": [
       "matrix([[ 110.        ,  189.        ,    9.        , ...,   18.666668  ,\n",
       "            0.50813884,    1.9108642 ],\n",
       "        [  86.        ,  187.        ,    9.        , ...,   19.222221  ,\n",
       "            0.46332908,    1.9414649 ],\n",
       "        [ 225.        ,  244.        ,    9.        , ...,   17.11111   ,\n",
       "            0.48014903,    1.9879022 ],\n",
       "        ..., \n",
       "        [ 128.        ,  161.        ,    9.        , ...,   10.888889  ,\n",
       "            0.5409177 ,   -1.9963073 ],\n",
       "        [ 150.        ,  158.        ,    9.        , ...,   12.222222  ,\n",
       "            0.50308645,   -1.9434487 ],\n",
       "        [ 124.        ,  162.        ,    9.        , ...,   14.555555  ,\n",
       "            0.4799313 ,   -2.0293121 ]])"
      ]
     },
     "execution_count": 26,
     "metadata": {},
     "output_type": "execute_result"
    }
   ],
   "source": [
    "np.mat(imageData)"
   ]
  },
  {
   "cell_type": "code",
   "execution_count": 27,
   "metadata": {
    "collapsed": false
   },
   "outputs": [
    {
     "name": "stdout",
     "output_type": "stream",
     "text": [
      "[('GRASS', 0) ('GRASS', 0) ('GRASS', 0) ..., ('CEMENT', 3) ('CEMENT', 3)\n",
      " ('CEMENT', 3)]\n",
      "(2100L,)\n"
     ]
    }
   ],
   "source": [
    "segClasses = np.genfromtxt('segmentation_classes.txt',delimiter='\\t',dtype=None)\n",
    "print segClasses\n",
    "print segClasses.shape"
   ]
  },
  {
   "cell_type": "code",
   "execution_count": 28,
   "metadata": {
    "collapsed": false
   },
   "outputs": [
    {
     "data": {
      "text/plain": [
       "2"
      ]
     },
     "execution_count": 28,
     "metadata": {},
     "output_type": "execute_result"
    }
   ],
   "source": [
    "segClasses[208][1]"
   ]
  },
  {
   "cell_type": "code",
   "execution_count": 29,
   "metadata": {
    "collapsed": true
   },
   "outputs": [],
   "source": [
    "segNames = np.genfromtxt('segmentation_names.txt',delimiter='\\t',dtype=(None))"
   ]
  },
  {
   "cell_type": "code",
   "execution_count": 30,
   "metadata": {
    "collapsed": false
   },
   "outputs": [
    {
     "name": "stdout",
     "output_type": "stream",
     "text": [
      "['REGION-CENTROID-COL' 'REGION-CENTROID-ROW' 'REGION-PIXEL-COUNT'\n",
      " 'SHORT-LINE-DENSITY-5' 'SHORT-LINE-DENSITY-2' 'VEDGE-MEAN' 'VEDGE-SD'\n",
      " 'HEDGE-MEAN' 'HEDGE-SD' 'INTENSITY-MEAN' 'RAWRED-MEAN' 'RAWBLUE-MEAN'\n",
      " 'RAWGREEN-MEAN' 'EXRED-MEAN' 'EXBLUE-MEAN' 'EXGREEN-MEAN' 'VALUE-MEAN'\n",
      " 'SATURATION-MEAN' 'HUE-MEAN']\n",
      "(19L,)\n",
      "19\n"
     ]
    }
   ],
   "source": [
    "print segNames\n",
    "print segNames.shape\n",
    "print len(segNames)"
   ]
  },
  {
   "cell_type": "code",
   "execution_count": 31,
   "metadata": {
    "collapsed": false
   },
   "outputs": [],
   "source": [
    "from sklearn import preprocessing\n",
    "min_max_scaler = preprocessing.MinMaxScaler()\n",
    "imageData_norm = min_max_scaler.fit_transform(imageData)"
   ]
  },
  {
   "cell_type": "code",
   "execution_count": 32,
   "metadata": {
    "collapsed": false
   },
   "outputs": [],
   "source": [
    "reload(kMeans)\n",
    "cents, clusts = kMeans.kMeans(imageData, 7, kMeans.distEclud)"
   ]
  },
  {
   "cell_type": "code",
   "execution_count": 33,
   "metadata": {
    "collapsed": false
   },
   "outputs": [
    {
     "data": {
      "text/plain": [
       "array([[  8.00000000e+01,   8.70000000e+01,   9.00000000e+00,\n",
       "          0.00000000e+00,   1.11111110e-01,   2.43888910e+01,\n",
       "          5.72996400e+02,   4.47222250e+01,   1.38632920e+03,\n",
       "          6.74444400e+01,   5.87777800e+01,   7.90000000e+01,\n",
       "          6.45555600e+01,  -2.60000000e+01,   3.46666680e+01,\n",
       "         -8.66666700e+00,   7.90000000e+01,   3.06281270e-01,\n",
       "         -2.42212720e+00],\n",
       "       [  2.39142847e+02,   1.33025656e+02,   9.00000000e+00,\n",
       "          2.23971183e-01,   1.71011456e-01,   1.93114930e+01,\n",
       "          6.93909471e+02,   2.70353623e+01,   7.62084564e+02,\n",
       "          1.03483644e+02,   6.40355016e+01,   6.05925197e+01,\n",
       "          2.32535883e+01,  -7.72698852e+00,   7.82005532e+01,\n",
       "          2.17270799e+01,   1.16602215e+02,   6.78896093e-01,\n",
       "         -1.34674062e+00],\n",
       "       [  1.00333333e+02,   9.16666667e+01,   9.00000000e+00,\n",
       "          0.00000000e+00,   7.40740733e-02,   2.02407407e+01,\n",
       "          1.98151900e+02,   2.64629623e+01,   4.92366690e+02,\n",
       "          4.46913577e+01,   3.72592600e+01,   5.51481487e+01,\n",
       "          4.16666667e+01,  -2.22962967e+01,   3.13703717e+01,\n",
       "         -9.07407400e+00,   5.51481487e+01,   3.95568160e-01,\n",
       "         -2.36857047e+00],\n",
       "       [  1.24878177e+02,   1.23753957e+02,   9.00000000e+00,\n",
       "          1.50279775e-02,   4.20996532e-03,   1.75600852e+00,\n",
       "          2.47048504e+00,   2.25824671e+00,   4.60692586e+00,\n",
       "          3.69935696e+01,   3.27702639e+01,   4.41343463e+01,\n",
       "          3.40760993e+01,  -1.26699174e+01,   2.14223288e+01,\n",
       "         -8.75241139e+00,   4.50980554e+01,   4.27550287e-01,\n",
       "         -1.35813585e+00],\n",
       "       [  2.26000000e+02,   6.90000000e+01,   9.00000000e+00,\n",
       "          0.00000000e+00,   1.11111110e-01,   1.91111130e+01,\n",
       "          9.91718400e+02,   2.04444450e+01,   1.03954080e+03,\n",
       "          2.38148160e+01,   1.92222210e+01,   2.93333340e+01,\n",
       "          2.28888900e+01,  -1.37777780e+01,   1.65555550e+01,\n",
       "         -2.77777770e+00,   2.93333340e+01,   5.08993800e-01,\n",
       "         -2.48897900e+00],\n",
       "       [  1.57750000e+02,   8.60000000e+01,   9.00000000e+00,\n",
       "          0.00000000e+00,   1.38888887e-02,   2.14305551e+01,\n",
       "          5.16577765e+02,   1.55555550e+01,   1.92342586e+02,\n",
       "          4.00833339e+01,   3.39444443e+01,   4.92083340e+01,\n",
       "          3.70972220e+01,  -1.84166669e+01,   2.73749996e+01,\n",
       "         -8.95833332e+00,   4.92083340e+01,   3.91443095e-01,\n",
       "         -2.29009821e+00],\n",
       "       [  6.75000000e+01,   8.45000000e+01,   9.00000000e+00,\n",
       "          0.00000000e+00,   1.11111110e-01,   1.68888885e+01,\n",
       "          2.72337055e+02,   3.83888895e+01,   7.75859185e+02,\n",
       "          6.12407400e+01,   5.33333350e+01,   7.20555540e+01,\n",
       "          5.83333350e+01,  -2.37222225e+01,   3.24444435e+01,\n",
       "         -8.72222250e+00,   7.20555540e+01,   3.34278540e-01,\n",
       "         -2.37885105e+00]])"
      ]
     },
     "execution_count": 33,
     "metadata": {},
     "output_type": "execute_result"
    }
   ],
   "source": [
    "cents"
   ]
  },
  {
   "cell_type": "code",
   "execution_count": 34,
   "metadata": {
    "collapsed": false
   },
   "outputs": [
    {
     "name": "stdout",
     "output_type": "stream",
     "text": [
      "REGION-CENTROID-COL\t80.0000\t239.1428\t100.3333\t124.8782\t226.0000\t157.7500\t67.5000\n",
      "REGION-CENTROID-ROW\t87.0000\t133.0257\t91.6667\t123.7540\t69.0000\t86.0000\t84.5000\n",
      "REGION-PIXEL-COUNT\t9.0000\t9.0000\t9.0000\t9.0000\t9.0000\t9.0000\t9.0000\n",
      "SHORT-LINE-DENSITY-5\t0.0000\t0.2240\t0.0000\t0.0150\t0.0000\t0.0000\t0.0000\n",
      "SHORT-LINE-DENSITY-2\t0.1111\t0.1710\t0.0741\t0.0042\t0.1111\t0.0139\t0.1111\n",
      " VEDGE-MEAN\t24.3889\t19.3115\t20.2407\t1.7560\t19.1111\t21.4306\t16.8889\n",
      "   VEDGE-SD\t572.9964\t693.9095\t198.1519\t2.4705\t991.7184\t516.5778\t272.3371\n",
      " HEDGE-MEAN\t44.7222\t27.0354\t26.4630\t2.2582\t20.4444\t15.5556\t38.3889\n",
      "   HEDGE-SD\t1386.3292\t762.0846\t492.3667\t4.6069\t1039.5408\t192.3426\t775.8592\n",
      "INTENSITY-MEAN\t67.4444\t103.4836\t44.6914\t36.9936\t23.8148\t40.0833\t61.2407\n",
      "RAWRED-MEAN\t58.7778\t64.0355\t37.2593\t32.7703\t19.2222\t33.9444\t53.3333\n",
      "RAWBLUE-MEAN\t79.0000\t60.5925\t55.1481\t44.1343\t29.3333\t49.2083\t72.0556\n",
      "RAWGREEN-MEAN\t64.5556\t23.2536\t41.6667\t34.0761\t22.8889\t37.0972\t58.3333\n",
      " EXRED-MEAN\t-26.0000\t-7.7270\t-22.2963\t-12.6699\t-13.7778\t-18.4167\t-23.7222\n",
      "EXBLUE-MEAN\t34.6667\t78.2006\t31.3704\t21.4223\t16.5556\t27.3750\t32.4444\n",
      "EXGREEN-MEAN\t-8.6667\t21.7271\t-9.0741\t-8.7524\t-2.7778\t-8.9583\t-8.7222\n",
      " VALUE-MEAN\t79.0000\t116.6022\t55.1481\t45.0981\t29.3333\t49.2083\t72.0556\n",
      "SATURATION-MEAN\t0.3063\t0.6789\t0.3956\t0.4276\t0.5090\t0.3914\t0.3343\n",
      "   HUE-MEAN\t-2.4221\t-1.3467\t-2.3686\t-1.3581\t-2.4890\t-2.2901\t-2.3789\n"
     ]
    }
   ],
   "source": [
    "for i in range(len(segNames)):\n",
    "    print \"%11s\\t%.4f\\t%.4f\\t%.4f\\t%.4f\\t%.4f\\t%.4f\\t%.4f\" %(segNames[i], cents[0][i],cents[1][i],cents[2][i],cents[3][i],cents[4][i],cents[5][i],cents[6][i])"
   ]
  },
  {
   "cell_type": "code",
   "execution_count": 35,
   "metadata": {
    "collapsed": false
   },
   "outputs": [
    {
     "data": {
      "text/plain": [
       "(2100L, 2L)"
      ]
     },
     "execution_count": 35,
     "metadata": {},
     "output_type": "execute_result"
    }
   ],
   "source": [
    "clusts.shape"
   ]
  },
  {
   "cell_type": "code",
   "execution_count": 36,
   "metadata": {
    "collapsed": false
   },
   "outputs": [
    {
     "data": {
      "text/plain": [
       "array([[  3.00000000e+00,   9.49479391e+03],\n",
       "       [  3.00000000e+00,   1.02380718e+04],\n",
       "       [  3.00000000e+00,   2.94077109e+04],\n",
       "       ..., \n",
       "       [  3.00000000e+00,   6.34972925e+03],\n",
       "       [  3.00000000e+00,   6.35817509e+03],\n",
       "       [  3.00000000e+00,   5.43774060e+03]])"
      ]
     },
     "execution_count": 36,
     "metadata": {},
     "output_type": "execute_result"
    }
   ],
   "source": [
    "clusts"
   ]
  },
  {
   "cell_type": "code",
   "execution_count": 37,
   "metadata": {
    "collapsed": false
   },
   "outputs": [
    {
     "name": "stdout",
     "output_type": "stream",
     "text": [
      "2100\n",
      "newC is:  [ 3.  3.  3. ...,  3.  3.  3.]\n",
      "size of newC is: (2100L,)\n",
      "Completeness score: 0.230025400987\n",
      "Homogeneity score:  0.00610040863731\n"
     ]
    }
   ],
   "source": [
    "from sklearn.metrics import completeness_score, homogeneity_score\n",
    "\n",
    "target = helper.createLabelsVector('segmentation_classes.txt', [\"0\", \"1\", \"2\", \"3\", \"4\", \"5\", \"6\"])\n",
    "print len(target)\n",
    "\n",
    "newC = np.ravel(clusts.T[0])\n",
    "print \"newC is: \", newC\n",
    "newC=newC.astype(int)\n",
    "print \"size of newC is:\", newC.shape\n",
    "\n",
    "print \"Completeness score:\", completeness_score(target, newC)\n",
    "print \"Homogeneity score: \", homogeneity_score(target, newC)\n"
   ]
  },
  {
   "cell_type": "code",
   "execution_count": 38,
   "metadata": {
    "collapsed": true
   },
   "outputs": [],
   "source": [
    "from sklearn import decomposition\n",
    "\n",
    "pca = decomposition.PCA(n_components=5)\n",
    "imageDataNormTrans = pca.fit(imageData_norm).transform(imageData_norm)"
   ]
  },
  {
   "cell_type": "code",
   "execution_count": 39,
   "metadata": {
    "collapsed": false
   },
   "outputs": [
    {
     "name": "stdout",
     "output_type": "stream",
     "text": [
      "[[-0.69  0.53 -0.25 -0.2  -0.08]\n",
      " [-0.67  0.51 -0.34 -0.17 -0.04]\n",
      " [-0.71  0.77  0.16 -0.01 -0.17]\n",
      " ..., \n",
      " [-0.51 -0.13  0.08  0.1  -0.03]\n",
      " [-0.48 -0.09  0.16  0.11  0.  ]\n",
      " [-0.44 -0.11  0.05  0.15  0.02]]\n"
     ]
    }
   ],
   "source": [
    "np.set_printoptions(precision=2, suppress=True)\n",
    "print imageDataNormTrans"
   ]
  },
  {
   "cell_type": "code",
   "execution_count": 40,
   "metadata": {
    "collapsed": false
   },
   "outputs": [
    {
     "name": "stdout",
     "output_type": "stream",
     "text": [
      "[ 0.61  0.13  0.1   0.05  0.04]\n"
     ]
    }
   ],
   "source": [
    "print(pca.explained_variance_ratio_)"
   ]
  },
  {
   "cell_type": "code",
   "execution_count": 41,
   "metadata": {
    "collapsed": false
   },
   "outputs": [],
   "source": [
    "cents_pca, clusters_pca = kMeans.kMeans(imageDataNormTrans, 7, helper.distCosine)"
   ]
  },
  {
   "cell_type": "code",
   "execution_count": 42,
   "metadata": {
    "collapsed": false
   },
   "outputs": [
    {
     "name": "stdout",
     "output_type": "stream",
     "text": [
      "[[ 1.33  0.08 -0.01 -0.16 -0.02]\n",
      " [ 0.25 -0.04 -0.17  0.35 -0.09]\n",
      " [ 0.19  0.07  0.3   0.2   0.01]\n",
      " [-0.43 -0.32 -0.15 -0.05  0.  ]\n",
      " [-0.44 -0.1   0.32 -0.06  0.06]\n",
      " [ 0.54 -0.2  -0.18  0.05  0.07]\n",
      " [-0.62  0.61 -0.18 -0.07 -0.03]]\n"
     ]
    }
   ],
   "source": [
    "print cents_pca"
   ]
  },
  {
   "cell_type": "code",
   "execution_count": 43,
   "metadata": {
    "collapsed": true
   },
   "outputs": [],
   "source": [
    "newCpca = np.ravel(clusters_pca.T[0])"
   ]
  },
  {
   "cell_type": "code",
   "execution_count": 44,
   "metadata": {
    "collapsed": false
   },
   "outputs": [
    {
     "name": "stdout",
     "output_type": "stream",
     "text": [
      "[ 6.  6.  6. ...,  4.  4.  4.]\n"
     ]
    }
   ],
   "source": [
    "print newCpca"
   ]
  },
  {
   "cell_type": "code",
   "execution_count": 45,
   "metadata": {
    "collapsed": false
   },
   "outputs": [
    {
     "name": "stdout",
     "output_type": "stream",
     "text": [
      "Completeness:  0.635517311688\n",
      "Homogeneity:  0.607510955545\n"
     ]
    }
   ],
   "source": [
    "print \"Completeness: \", completeness_score(target, newCpca)\n",
    "print \"Homogeneity: \", homogeneity_score(target, newCpca)"
   ]
  },
  {
   "cell_type": "code",
   "execution_count": 46,
   "metadata": {
    "collapsed": false
   },
   "outputs": [
    {
     "data": {
      "text/plain": [
       "<module 'helper' from 'helper.pyc'>"
      ]
     },
     "execution_count": 46,
     "metadata": {},
     "output_type": "execute_result"
    }
   ],
   "source": [
    "reload(helper)"
   ]
  },
  {
   "cell_type": "code",
   "execution_count": null,
   "metadata": {
    "collapsed": true
   },
   "outputs": [],
   "source": []
  }
 ],
 "metadata": {
  "kernelspec": {
   "display_name": "Python 2",
   "language": "python",
   "name": "python2"
  },
  "language_info": {
   "codemirror_mode": {
    "name": "ipython",
    "version": 2
   },
   "file_extension": ".py",
   "mimetype": "text/x-python",
   "name": "python",
   "nbconvert_exporter": "python",
   "pygments_lexer": "ipython2",
   "version": "2.7.9"
  }
 },
 "nbformat": 4,
 "nbformat_minor": 0
}
